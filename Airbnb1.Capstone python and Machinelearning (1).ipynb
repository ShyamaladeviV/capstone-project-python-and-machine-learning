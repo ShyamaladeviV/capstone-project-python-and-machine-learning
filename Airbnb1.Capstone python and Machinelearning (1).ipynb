{
 "cells": [
  {
   "cell_type": "code",
   "execution_count": 6,
   "id": "64fa68b5",
   "metadata": {},
   "outputs": [],
   "source": [
    "import pandas as pd\n",
    "from sklearn.model_selection import train_test_split\n",
    "from sklearn.linear_model import LinearRegression\n",
    "from sklearn.tree import DecisionTreeRegressor\n",
    "from sklearn.ensemble import RandomForestRegressor, GradientBoostingRegressor\n",
    "from sklearn.metrics import mean_absolute_error, mean_squared_error, r2_score\n",
    "import numpy as np\n",
    "import matplotlib.pyplot as plt\n",
    "import seaborn as sns"
   ]
  },
  {
   "cell_type": "code",
   "execution_count": 7,
   "id": "add79aa3",
   "metadata": {},
   "outputs": [],
   "source": [
    "calender = pd.read_csv(r\"C:\\Users\\HP\\Downloads\\AirBnb_ABADS-20240316T083308Z-001\\AirBnb_ABADS\\calendar.csv\")\n",
    "listing = pd.read_csv(r\"C:\\Users\\HP\\Downloads\\AirBnb_ABADS-20240316T083308Z-001\\AirBnb_ABADS\\listings.csv\")\n",
    "review = pd.read_csv(r\"C:\\Users\\HP\\Downloads\\AirBnb_ABADS-20240316T083308Z-001\\AirBnb_ABADS\\reviews.csv\")\n",
    "host = pd.read_csv(r\"C:\\Users\\HP\\Downloads\\AirBnb_ABADS-20240316T083308Z-001\\AirBnb_ABADS\\hosts.csv\")"
   ]
  },
  {
   "cell_type": "markdown",
   "id": "3bad3aa1",
   "metadata": {},
   "source": [
    "# MERGING 4 TABLES"
   ]
  },
  {
   "cell_type": "code",
   "execution_count": 8,
   "id": "795f6545",
   "metadata": {},
   "outputs": [],
   "source": [
    "Airbnb = calender.merge(listing, on='listing_id')"
   ]
  },
  {
   "cell_type": "code",
   "execution_count": 9,
   "id": "7874c240",
   "metadata": {},
   "outputs": [],
   "source": [
    "Airbnb1 = pd.merge(Airbnb, host[['host_id', 'host_since']], on='host_id', how='inner')"
   ]
  },
  {
   "cell_type": "code",
   "execution_count": 10,
   "id": "6c3d3518",
   "metadata": {
    "scrolled": true
   },
   "outputs": [
    {
     "data": {
      "text/html": [
       "<div>\n",
       "<style scoped>\n",
       "    .dataframe tbody tr th:only-of-type {\n",
       "        vertical-align: middle;\n",
       "    }\n",
       "\n",
       "    .dataframe tbody tr th {\n",
       "        vertical-align: top;\n",
       "    }\n",
       "\n",
       "    .dataframe thead th {\n",
       "        text-align: right;\n",
       "    }\n",
       "</style>\n",
       "<table border=\"1\" class=\"dataframe\">\n",
       "  <thead>\n",
       "    <tr style=\"text-align: right;\">\n",
       "      <th></th>\n",
       "      <th>calender_id</th>\n",
       "      <th>listing_id</th>\n",
       "      <th>date</th>\n",
       "      <th>available</th>\n",
       "      <th>price</th>\n",
       "      <th>adjusted_price</th>\n",
       "      <th>minimum_nights</th>\n",
       "      <th>maximum_nights</th>\n",
       "      <th>listing_url</th>\n",
       "      <th>name</th>\n",
       "      <th>...</th>\n",
       "      <th>longitude</th>\n",
       "      <th>property_type</th>\n",
       "      <th>room_type</th>\n",
       "      <th>accomodates</th>\n",
       "      <th>bathrooms_text</th>\n",
       "      <th>bedrooms</th>\n",
       "      <th>beds</th>\n",
       "      <th>amenities</th>\n",
       "      <th>host_id</th>\n",
       "      <th>host_since</th>\n",
       "    </tr>\n",
       "  </thead>\n",
       "  <tbody>\n",
       "    <tr>\n",
       "      <th>0</th>\n",
       "      <td>1</td>\n",
       "      <td>40334325</td>\n",
       "      <td>2022-08-03 00:00:00.000000</td>\n",
       "      <td>0</td>\n",
       "      <td>56.0</td>\n",
       "      <td>56.0</td>\n",
       "      <td>3</td>\n",
       "      <td>5</td>\n",
       "      <td>https://www.airbnb.com/rooms/40334325</td>\n",
       "      <td>Luxurious flat in central location</td>\n",
       "      <td>...</td>\n",
       "      <td>4.42298</td>\n",
       "      <td>Entire rental unit</td>\n",
       "      <td>Entire home/apt</td>\n",
       "      <td>2</td>\n",
       "      <td>1 bath</td>\n",
       "      <td>NaN</td>\n",
       "      <td>2.0</td>\n",
       "      <td>[\"Hot water\", \"Refrigerator\", \"Private entranc...</td>\n",
       "      <td>311556587</td>\n",
       "      <td>2019-11-23 00:00:00.000000</td>\n",
       "    </tr>\n",
       "    <tr>\n",
       "      <th>1</th>\n",
       "      <td>2109</td>\n",
       "      <td>40334325</td>\n",
       "      <td>2022-02-14 00:00:00.000000</td>\n",
       "      <td>1</td>\n",
       "      <td>56.0</td>\n",
       "      <td>56.0</td>\n",
       "      <td>3</td>\n",
       "      <td>5</td>\n",
       "      <td>https://www.airbnb.com/rooms/40334325</td>\n",
       "      <td>Luxurious flat in central location</td>\n",
       "      <td>...</td>\n",
       "      <td>4.42298</td>\n",
       "      <td>Entire rental unit</td>\n",
       "      <td>Entire home/apt</td>\n",
       "      <td>2</td>\n",
       "      <td>1 bath</td>\n",
       "      <td>NaN</td>\n",
       "      <td>2.0</td>\n",
       "      <td>[\"Hot water\", \"Refrigerator\", \"Private entranc...</td>\n",
       "      <td>311556587</td>\n",
       "      <td>2019-11-23 00:00:00.000000</td>\n",
       "    </tr>\n",
       "    <tr>\n",
       "      <th>2</th>\n",
       "      <td>3617</td>\n",
       "      <td>40334325</td>\n",
       "      <td>2022-04-26 00:00:00.000000</td>\n",
       "      <td>0</td>\n",
       "      <td>56.0</td>\n",
       "      <td>56.0</td>\n",
       "      <td>3</td>\n",
       "      <td>5</td>\n",
       "      <td>https://www.airbnb.com/rooms/40334325</td>\n",
       "      <td>Luxurious flat in central location</td>\n",
       "      <td>...</td>\n",
       "      <td>4.42298</td>\n",
       "      <td>Entire rental unit</td>\n",
       "      <td>Entire home/apt</td>\n",
       "      <td>2</td>\n",
       "      <td>1 bath</td>\n",
       "      <td>NaN</td>\n",
       "      <td>2.0</td>\n",
       "      <td>[\"Hot water\", \"Refrigerator\", \"Private entranc...</td>\n",
       "      <td>311556587</td>\n",
       "      <td>2019-11-23 00:00:00.000000</td>\n",
       "    </tr>\n",
       "    <tr>\n",
       "      <th>3</th>\n",
       "      <td>5560</td>\n",
       "      <td>40334325</td>\n",
       "      <td>2022-04-08 00:00:00.000000</td>\n",
       "      <td>0</td>\n",
       "      <td>56.0</td>\n",
       "      <td>56.0</td>\n",
       "      <td>3</td>\n",
       "      <td>5</td>\n",
       "      <td>https://www.airbnb.com/rooms/40334325</td>\n",
       "      <td>Luxurious flat in central location</td>\n",
       "      <td>...</td>\n",
       "      <td>4.42298</td>\n",
       "      <td>Entire rental unit</td>\n",
       "      <td>Entire home/apt</td>\n",
       "      <td>2</td>\n",
       "      <td>1 bath</td>\n",
       "      <td>NaN</td>\n",
       "      <td>2.0</td>\n",
       "      <td>[\"Hot water\", \"Refrigerator\", \"Private entranc...</td>\n",
       "      <td>311556587</td>\n",
       "      <td>2019-11-23 00:00:00.000000</td>\n",
       "    </tr>\n",
       "    <tr>\n",
       "      <th>4</th>\n",
       "      <td>8188</td>\n",
       "      <td>40334325</td>\n",
       "      <td>2022-04-11 00:00:00.000000</td>\n",
       "      <td>0</td>\n",
       "      <td>56.0</td>\n",
       "      <td>56.0</td>\n",
       "      <td>3</td>\n",
       "      <td>5</td>\n",
       "      <td>https://www.airbnb.com/rooms/40334325</td>\n",
       "      <td>Luxurious flat in central location</td>\n",
       "      <td>...</td>\n",
       "      <td>4.42298</td>\n",
       "      <td>Entire rental unit</td>\n",
       "      <td>Entire home/apt</td>\n",
       "      <td>2</td>\n",
       "      <td>1 bath</td>\n",
       "      <td>NaN</td>\n",
       "      <td>2.0</td>\n",
       "      <td>[\"Hot water\", \"Refrigerator\", \"Private entranc...</td>\n",
       "      <td>311556587</td>\n",
       "      <td>2019-11-23 00:00:00.000000</td>\n",
       "    </tr>\n",
       "  </tbody>\n",
       "</table>\n",
       "<p>5 rows × 22 columns</p>\n",
       "</div>"
      ],
      "text/plain": [
       "   calender_id  listing_id                        date  available  price  \\\n",
       "0            1    40334325  2022-08-03 00:00:00.000000          0   56.0   \n",
       "1         2109    40334325  2022-02-14 00:00:00.000000          1   56.0   \n",
       "2         3617    40334325  2022-04-26 00:00:00.000000          0   56.0   \n",
       "3         5560    40334325  2022-04-08 00:00:00.000000          0   56.0   \n",
       "4         8188    40334325  2022-04-11 00:00:00.000000          0   56.0   \n",
       "\n",
       "   adjusted_price  minimum_nights  maximum_nights  \\\n",
       "0            56.0               3               5   \n",
       "1            56.0               3               5   \n",
       "2            56.0               3               5   \n",
       "3            56.0               3               5   \n",
       "4            56.0               3               5   \n",
       "\n",
       "                             listing_url                                name  \\\n",
       "0  https://www.airbnb.com/rooms/40334325  Luxurious flat in central location   \n",
       "1  https://www.airbnb.com/rooms/40334325  Luxurious flat in central location   \n",
       "2  https://www.airbnb.com/rooms/40334325  Luxurious flat in central location   \n",
       "3  https://www.airbnb.com/rooms/40334325  Luxurious flat in central location   \n",
       "4  https://www.airbnb.com/rooms/40334325  Luxurious flat in central location   \n",
       "\n",
       "   ... longitude       property_type        room_type accomodates  \\\n",
       "0  ...   4.42298  Entire rental unit  Entire home/apt           2   \n",
       "1  ...   4.42298  Entire rental unit  Entire home/apt           2   \n",
       "2  ...   4.42298  Entire rental unit  Entire home/apt           2   \n",
       "3  ...   4.42298  Entire rental unit  Entire home/apt           2   \n",
       "4  ...   4.42298  Entire rental unit  Entire home/apt           2   \n",
       "\n",
       "  bathrooms_text  bedrooms beds  \\\n",
       "0         1 bath       NaN  2.0   \n",
       "1         1 bath       NaN  2.0   \n",
       "2         1 bath       NaN  2.0   \n",
       "3         1 bath       NaN  2.0   \n",
       "4         1 bath       NaN  2.0   \n",
       "\n",
       "                                           amenities    host_id  \\\n",
       "0  [\"Hot water\", \"Refrigerator\", \"Private entranc...  311556587   \n",
       "1  [\"Hot water\", \"Refrigerator\", \"Private entranc...  311556587   \n",
       "2  [\"Hot water\", \"Refrigerator\", \"Private entranc...  311556587   \n",
       "3  [\"Hot water\", \"Refrigerator\", \"Private entranc...  311556587   \n",
       "4  [\"Hot water\", \"Refrigerator\", \"Private entranc...  311556587   \n",
       "\n",
       "                   host_since  \n",
       "0  2019-11-23 00:00:00.000000  \n",
       "1  2019-11-23 00:00:00.000000  \n",
       "2  2019-11-23 00:00:00.000000  \n",
       "3  2019-11-23 00:00:00.000000  \n",
       "4  2019-11-23 00:00:00.000000  \n",
       "\n",
       "[5 rows x 22 columns]"
      ]
     },
     "execution_count": 10,
     "metadata": {},
     "output_type": "execute_result"
    }
   ],
   "source": [
    "Airbnb1.head()"
   ]
  },
  {
   "cell_type": "code",
   "execution_count": 6,
   "id": "c2373be4",
   "metadata": {},
   "outputs": [
    {
     "data": {
      "text/plain": [
       "(319192, 22)"
      ]
     },
     "execution_count": 6,
     "metadata": {},
     "output_type": "execute_result"
    }
   ],
   "source": [
    "Airbnb1.shape\n"
   ]
  },
  {
   "cell_type": "markdown",
   "id": "87a77849",
   "metadata": {},
   "source": [
    "# Merging AIRBNB1 WITH REVIEW"
   ]
  },
  {
   "cell_type": "code",
   "execution_count": 11,
   "id": "2314e291",
   "metadata": {},
   "outputs": [],
   "source": [
    "Airbnb1 = pd.merge(Airbnb1, review['listing_id'], on='listing_id', how='inner')"
   ]
  },
  {
   "cell_type": "code",
   "execution_count": 12,
   "id": "18883f90",
   "metadata": {},
   "outputs": [
    {
     "data": {
      "text/html": [
       "<div>\n",
       "<style scoped>\n",
       "    .dataframe tbody tr th:only-of-type {\n",
       "        vertical-align: middle;\n",
       "    }\n",
       "\n",
       "    .dataframe tbody tr th {\n",
       "        vertical-align: top;\n",
       "    }\n",
       "\n",
       "    .dataframe thead th {\n",
       "        text-align: right;\n",
       "    }\n",
       "</style>\n",
       "<table border=\"1\" class=\"dataframe\">\n",
       "  <thead>\n",
       "    <tr style=\"text-align: right;\">\n",
       "      <th></th>\n",
       "      <th>calender_id</th>\n",
       "      <th>listing_id</th>\n",
       "      <th>date</th>\n",
       "      <th>available</th>\n",
       "      <th>price</th>\n",
       "      <th>adjusted_price</th>\n",
       "      <th>minimum_nights</th>\n",
       "      <th>maximum_nights</th>\n",
       "      <th>listing_url</th>\n",
       "      <th>name</th>\n",
       "      <th>...</th>\n",
       "      <th>longitude</th>\n",
       "      <th>property_type</th>\n",
       "      <th>room_type</th>\n",
       "      <th>accomodates</th>\n",
       "      <th>bathrooms_text</th>\n",
       "      <th>bedrooms</th>\n",
       "      <th>beds</th>\n",
       "      <th>amenities</th>\n",
       "      <th>host_id</th>\n",
       "      <th>host_since</th>\n",
       "    </tr>\n",
       "  </thead>\n",
       "  <tbody>\n",
       "    <tr>\n",
       "      <th>0</th>\n",
       "      <td>1</td>\n",
       "      <td>40334325</td>\n",
       "      <td>2022-08-03 00:00:00.000000</td>\n",
       "      <td>0</td>\n",
       "      <td>56.0</td>\n",
       "      <td>56.0</td>\n",
       "      <td>3</td>\n",
       "      <td>5</td>\n",
       "      <td>https://www.airbnb.com/rooms/40334325</td>\n",
       "      <td>Luxurious flat in central location</td>\n",
       "      <td>...</td>\n",
       "      <td>4.42298</td>\n",
       "      <td>Entire rental unit</td>\n",
       "      <td>Entire home/apt</td>\n",
       "      <td>2</td>\n",
       "      <td>1 bath</td>\n",
       "      <td>NaN</td>\n",
       "      <td>2.0</td>\n",
       "      <td>[\"Hot water\", \"Refrigerator\", \"Private entranc...</td>\n",
       "      <td>311556587</td>\n",
       "      <td>2019-11-23 00:00:00.000000</td>\n",
       "    </tr>\n",
       "    <tr>\n",
       "      <th>1</th>\n",
       "      <td>2109</td>\n",
       "      <td>40334325</td>\n",
       "      <td>2022-02-14 00:00:00.000000</td>\n",
       "      <td>1</td>\n",
       "      <td>56.0</td>\n",
       "      <td>56.0</td>\n",
       "      <td>3</td>\n",
       "      <td>5</td>\n",
       "      <td>https://www.airbnb.com/rooms/40334325</td>\n",
       "      <td>Luxurious flat in central location</td>\n",
       "      <td>...</td>\n",
       "      <td>4.42298</td>\n",
       "      <td>Entire rental unit</td>\n",
       "      <td>Entire home/apt</td>\n",
       "      <td>2</td>\n",
       "      <td>1 bath</td>\n",
       "      <td>NaN</td>\n",
       "      <td>2.0</td>\n",
       "      <td>[\"Hot water\", \"Refrigerator\", \"Private entranc...</td>\n",
       "      <td>311556587</td>\n",
       "      <td>2019-11-23 00:00:00.000000</td>\n",
       "    </tr>\n",
       "    <tr>\n",
       "      <th>2</th>\n",
       "      <td>3617</td>\n",
       "      <td>40334325</td>\n",
       "      <td>2022-04-26 00:00:00.000000</td>\n",
       "      <td>0</td>\n",
       "      <td>56.0</td>\n",
       "      <td>56.0</td>\n",
       "      <td>3</td>\n",
       "      <td>5</td>\n",
       "      <td>https://www.airbnb.com/rooms/40334325</td>\n",
       "      <td>Luxurious flat in central location</td>\n",
       "      <td>...</td>\n",
       "      <td>4.42298</td>\n",
       "      <td>Entire rental unit</td>\n",
       "      <td>Entire home/apt</td>\n",
       "      <td>2</td>\n",
       "      <td>1 bath</td>\n",
       "      <td>NaN</td>\n",
       "      <td>2.0</td>\n",
       "      <td>[\"Hot water\", \"Refrigerator\", \"Private entranc...</td>\n",
       "      <td>311556587</td>\n",
       "      <td>2019-11-23 00:00:00.000000</td>\n",
       "    </tr>\n",
       "    <tr>\n",
       "      <th>3</th>\n",
       "      <td>5560</td>\n",
       "      <td>40334325</td>\n",
       "      <td>2022-04-08 00:00:00.000000</td>\n",
       "      <td>0</td>\n",
       "      <td>56.0</td>\n",
       "      <td>56.0</td>\n",
       "      <td>3</td>\n",
       "      <td>5</td>\n",
       "      <td>https://www.airbnb.com/rooms/40334325</td>\n",
       "      <td>Luxurious flat in central location</td>\n",
       "      <td>...</td>\n",
       "      <td>4.42298</td>\n",
       "      <td>Entire rental unit</td>\n",
       "      <td>Entire home/apt</td>\n",
       "      <td>2</td>\n",
       "      <td>1 bath</td>\n",
       "      <td>NaN</td>\n",
       "      <td>2.0</td>\n",
       "      <td>[\"Hot water\", \"Refrigerator\", \"Private entranc...</td>\n",
       "      <td>311556587</td>\n",
       "      <td>2019-11-23 00:00:00.000000</td>\n",
       "    </tr>\n",
       "    <tr>\n",
       "      <th>4</th>\n",
       "      <td>8188</td>\n",
       "      <td>40334325</td>\n",
       "      <td>2022-04-11 00:00:00.000000</td>\n",
       "      <td>0</td>\n",
       "      <td>56.0</td>\n",
       "      <td>56.0</td>\n",
       "      <td>3</td>\n",
       "      <td>5</td>\n",
       "      <td>https://www.airbnb.com/rooms/40334325</td>\n",
       "      <td>Luxurious flat in central location</td>\n",
       "      <td>...</td>\n",
       "      <td>4.42298</td>\n",
       "      <td>Entire rental unit</td>\n",
       "      <td>Entire home/apt</td>\n",
       "      <td>2</td>\n",
       "      <td>1 bath</td>\n",
       "      <td>NaN</td>\n",
       "      <td>2.0</td>\n",
       "      <td>[\"Hot water\", \"Refrigerator\", \"Private entranc...</td>\n",
       "      <td>311556587</td>\n",
       "      <td>2019-11-23 00:00:00.000000</td>\n",
       "    </tr>\n",
       "  </tbody>\n",
       "</table>\n",
       "<p>5 rows × 22 columns</p>\n",
       "</div>"
      ],
      "text/plain": [
       "   calender_id  listing_id                        date  available  price  \\\n",
       "0            1    40334325  2022-08-03 00:00:00.000000          0   56.0   \n",
       "1         2109    40334325  2022-02-14 00:00:00.000000          1   56.0   \n",
       "2         3617    40334325  2022-04-26 00:00:00.000000          0   56.0   \n",
       "3         5560    40334325  2022-04-08 00:00:00.000000          0   56.0   \n",
       "4         8188    40334325  2022-04-11 00:00:00.000000          0   56.0   \n",
       "\n",
       "   adjusted_price  minimum_nights  maximum_nights  \\\n",
       "0            56.0               3               5   \n",
       "1            56.0               3               5   \n",
       "2            56.0               3               5   \n",
       "3            56.0               3               5   \n",
       "4            56.0               3               5   \n",
       "\n",
       "                             listing_url                                name  \\\n",
       "0  https://www.airbnb.com/rooms/40334325  Luxurious flat in central location   \n",
       "1  https://www.airbnb.com/rooms/40334325  Luxurious flat in central location   \n",
       "2  https://www.airbnb.com/rooms/40334325  Luxurious flat in central location   \n",
       "3  https://www.airbnb.com/rooms/40334325  Luxurious flat in central location   \n",
       "4  https://www.airbnb.com/rooms/40334325  Luxurious flat in central location   \n",
       "\n",
       "   ... longitude       property_type        room_type accomodates  \\\n",
       "0  ...   4.42298  Entire rental unit  Entire home/apt           2   \n",
       "1  ...   4.42298  Entire rental unit  Entire home/apt           2   \n",
       "2  ...   4.42298  Entire rental unit  Entire home/apt           2   \n",
       "3  ...   4.42298  Entire rental unit  Entire home/apt           2   \n",
       "4  ...   4.42298  Entire rental unit  Entire home/apt           2   \n",
       "\n",
       "  bathrooms_text  bedrooms beds  \\\n",
       "0         1 bath       NaN  2.0   \n",
       "1         1 bath       NaN  2.0   \n",
       "2         1 bath       NaN  2.0   \n",
       "3         1 bath       NaN  2.0   \n",
       "4         1 bath       NaN  2.0   \n",
       "\n",
       "                                           amenities    host_id  \\\n",
       "0  [\"Hot water\", \"Refrigerator\", \"Private entranc...  311556587   \n",
       "1  [\"Hot water\", \"Refrigerator\", \"Private entranc...  311556587   \n",
       "2  [\"Hot water\", \"Refrigerator\", \"Private entranc...  311556587   \n",
       "3  [\"Hot water\", \"Refrigerator\", \"Private entranc...  311556587   \n",
       "4  [\"Hot water\", \"Refrigerator\", \"Private entranc...  311556587   \n",
       "\n",
       "                   host_since  \n",
       "0  2019-11-23 00:00:00.000000  \n",
       "1  2019-11-23 00:00:00.000000  \n",
       "2  2019-11-23 00:00:00.000000  \n",
       "3  2019-11-23 00:00:00.000000  \n",
       "4  2019-11-23 00:00:00.000000  \n",
       "\n",
       "[5 rows x 22 columns]"
      ]
     },
     "execution_count": 12,
     "metadata": {},
     "output_type": "execute_result"
    }
   ],
   "source": [
    "Airbnb1.head()"
   ]
  },
  {
   "cell_type": "code",
   "execution_count": 9,
   "id": "fbaef106",
   "metadata": {},
   "outputs": [
    {
     "data": {
      "text/plain": [
       "(11468769, 22)"
      ]
     },
     "execution_count": 9,
     "metadata": {},
     "output_type": "execute_result"
    }
   ],
   "source": [
    "Airbnb1.shape"
   ]
  },
  {
   "cell_type": "markdown",
   "id": "dd241416",
   "metadata": {},
   "source": [
    "# handled missing values by imputing means or specific values, converted date columns to datetime format, calculated the years since registration, and performed some exploratory data analysis (EDA) such as visualizing distributions and correlations."
   ]
  },
  {
   "cell_type": "code",
   "execution_count": 10,
   "id": "d4893985",
   "metadata": {
    "scrolled": true
   },
   "outputs": [
    {
     "name": "stdout",
     "output_type": "stream",
     "text": [
      "<class 'pandas.core.frame.DataFrame'>\n",
      "Int64Index: 11468769 entries, 0 to 11468768\n",
      "Data columns (total 22 columns):\n",
      " #   Column          Dtype  \n",
      "---  ------          -----  \n",
      " 0   calender_id     int64  \n",
      " 1   listing_id      int64  \n",
      " 2   date            object \n",
      " 3   available       int64  \n",
      " 4   price           float64\n",
      " 5   adjusted_price  float64\n",
      " 6   minimum_nights  int64  \n",
      " 7   maximum_nights  int64  \n",
      " 8   listing_url     object \n",
      " 9   name            object \n",
      " 10  description     object \n",
      " 11  latitude        float64\n",
      " 12  longitude       float64\n",
      " 13  property_type   object \n",
      " 14  room_type       object \n",
      " 15  accomodates     int64  \n",
      " 16  bathrooms_text  object \n",
      " 17  bedrooms        float64\n",
      " 18  beds            float64\n",
      " 19  amenities       object \n",
      " 20  host_id         int64  \n",
      " 21  host_since      object \n",
      "dtypes: float64(6), int64(7), object(9)\n",
      "memory usage: 2.0+ GB\n"
     ]
    }
   ],
   "source": [
    "Airbnb1.info()"
   ]
  },
  {
   "cell_type": "code",
   "execution_count": 11,
   "id": "afef1316",
   "metadata": {},
   "outputs": [
    {
     "data": {
      "text/plain": [
       "calender_id             0\n",
       "listing_id              0\n",
       "date                    0\n",
       "available               0\n",
       "price                 496\n",
       "adjusted_price        496\n",
       "minimum_nights          0\n",
       "maximum_nights          0\n",
       "listing_url             0\n",
       "name                    0\n",
       "description        122750\n",
       "latitude                0\n",
       "longitude               0\n",
       "property_type           0\n",
       "room_type               0\n",
       "accomodates             0\n",
       "bathrooms_text          0\n",
       "bedrooms          1182745\n",
       "beds                97016\n",
       "amenities               0\n",
       "host_id                 0\n",
       "host_since              0\n",
       "dtype: int64"
      ]
     },
     "execution_count": 11,
     "metadata": {},
     "output_type": "execute_result"
    }
   ],
   "source": [
    "Airbnb1.isna().sum()"
   ]
  },
  {
   "cell_type": "code",
   "execution_count": 12,
   "id": "eeba21cc",
   "metadata": {},
   "outputs": [],
   "source": [
    "Airbnb1[\"price\"].fillna(Airbnb1[\"price\"].mean(),inplace = True)\n",
    "Airbnb1[\"adjusted_price\"].fillna(Airbnb1[\"adjusted_price\"].mean(),inplace = True)\n",
    "Airbnb1[\"bedrooms\"].fillna(Airbnb1[\"bedrooms\"].mean(),inplace= True)\n",
    "Airbnb1[\"beds\"].fillna(Airbnb1[\"beds\"].mean(),inplace= True)"
   ]
  },
  {
   "cell_type": "code",
   "execution_count": 13,
   "id": "9acd4d7c",
   "metadata": {},
   "outputs": [
    {
     "data": {
      "text/plain": [
       "calender_id            0\n",
       "listing_id             0\n",
       "date                   0\n",
       "available              0\n",
       "price                  0\n",
       "adjusted_price         0\n",
       "minimum_nights         0\n",
       "maximum_nights         0\n",
       "listing_url            0\n",
       "name                   0\n",
       "description       122750\n",
       "latitude               0\n",
       "longitude              0\n",
       "property_type          0\n",
       "room_type              0\n",
       "accomodates            0\n",
       "bathrooms_text         0\n",
       "bedrooms               0\n",
       "beds                   0\n",
       "amenities              0\n",
       "host_id                0\n",
       "host_since             0\n",
       "dtype: int64"
      ]
     },
     "execution_count": 13,
     "metadata": {},
     "output_type": "execute_result"
    }
   ],
   "source": [
    "Airbnb1.isna().sum()"
   ]
  },
  {
   "cell_type": "code",
   "execution_count": 14,
   "id": "5ff58d0c",
   "metadata": {},
   "outputs": [],
   "source": [
    "Airbnb1[\"description\"].fillna(Airbnb1[\"description\"].mode(),inplace= True)"
   ]
  },
  {
   "cell_type": "code",
   "execution_count": 15,
   "id": "0533fb3e",
   "metadata": {},
   "outputs": [
    {
     "data": {
      "text/plain": [
       "calender_id            0\n",
       "listing_id             0\n",
       "date                   0\n",
       "available              0\n",
       "price                  0\n",
       "adjusted_price         0\n",
       "minimum_nights         0\n",
       "maximum_nights         0\n",
       "listing_url            0\n",
       "name                   0\n",
       "description       122750\n",
       "latitude               0\n",
       "longitude              0\n",
       "property_type          0\n",
       "room_type              0\n",
       "accomodates            0\n",
       "bathrooms_text         0\n",
       "bedrooms               0\n",
       "beds                   0\n",
       "amenities              0\n",
       "host_id                0\n",
       "host_since             0\n",
       "dtype: int64"
      ]
     },
     "execution_count": 15,
     "metadata": {},
     "output_type": "execute_result"
    }
   ],
   "source": [
    "Airbnb1.isna().sum()"
   ]
  },
  {
   "cell_type": "code",
   "execution_count": 16,
   "id": "1b70abcd",
   "metadata": {},
   "outputs": [],
   "source": [
    "specific_value = \"No description available\"\n",
    "Airbnb1['description'].fillna(specific_value, inplace=True)"
   ]
  },
  {
   "cell_type": "code",
   "execution_count": 17,
   "id": "2c5850bf",
   "metadata": {},
   "outputs": [
    {
     "data": {
      "text/plain": [
       "calender_id       0\n",
       "listing_id        0\n",
       "date              0\n",
       "available         0\n",
       "price             0\n",
       "adjusted_price    0\n",
       "minimum_nights    0\n",
       "maximum_nights    0\n",
       "listing_url       0\n",
       "name              0\n",
       "description       0\n",
       "latitude          0\n",
       "longitude         0\n",
       "property_type     0\n",
       "room_type         0\n",
       "accomodates       0\n",
       "bathrooms_text    0\n",
       "bedrooms          0\n",
       "beds              0\n",
       "amenities         0\n",
       "host_id           0\n",
       "host_since        0\n",
       "dtype: int64"
      ]
     },
     "execution_count": 17,
     "metadata": {},
     "output_type": "execute_result"
    }
   ],
   "source": [
    "Airbnb1.isna().sum()"
   ]
  },
  {
   "cell_type": "code",
   "execution_count": 17,
   "id": "6bca36b6",
   "metadata": {},
   "outputs": [],
   "source": [
    "# Assuming 'host_since' column is in string format\n",
    "Airbnb1['host_since'] = pd.to_datetime(Airbnb1['host_since'])"
   ]
  },
  {
   "cell_type": "code",
   "execution_count": 20,
   "id": "491355d5",
   "metadata": {},
   "outputs": [],
   "source": [
    "# Get the current date\n",
    "current_date = pd.Timestamp.now()\n"
   ]
  },
  {
   "cell_type": "code",
   "execution_count": 21,
   "id": "9be18c21",
   "metadata": {},
   "outputs": [],
   "source": [
    " #Calculate the time difference in years\n",
    "Airbnb1['years_since_registration'] = (current_date - Airbnb1['host_since']).dt.days / 365"
   ]
  },
  {
   "cell_type": "code",
   "execution_count": 22,
   "id": "369097ca",
   "metadata": {},
   "outputs": [
    {
     "data": {
      "text/html": [
       "<div>\n",
       "<style scoped>\n",
       "    .dataframe tbody tr th:only-of-type {\n",
       "        vertical-align: middle;\n",
       "    }\n",
       "\n",
       "    .dataframe tbody tr th {\n",
       "        vertical-align: top;\n",
       "    }\n",
       "\n",
       "    .dataframe thead th {\n",
       "        text-align: right;\n",
       "    }\n",
       "</style>\n",
       "<table border=\"1\" class=\"dataframe\">\n",
       "  <thead>\n",
       "    <tr style=\"text-align: right;\">\n",
       "      <th></th>\n",
       "      <th>calender_id</th>\n",
       "      <th>listing_id</th>\n",
       "      <th>date</th>\n",
       "      <th>available</th>\n",
       "      <th>price</th>\n",
       "      <th>adjusted_price</th>\n",
       "      <th>minimum_nights</th>\n",
       "      <th>maximum_nights</th>\n",
       "      <th>listing_url</th>\n",
       "      <th>name</th>\n",
       "      <th>...</th>\n",
       "      <th>property_type</th>\n",
       "      <th>room_type</th>\n",
       "      <th>accomodates</th>\n",
       "      <th>bathrooms_text</th>\n",
       "      <th>bedrooms</th>\n",
       "      <th>beds</th>\n",
       "      <th>amenities</th>\n",
       "      <th>host_id</th>\n",
       "      <th>host_since</th>\n",
       "      <th>years_since_registration</th>\n",
       "    </tr>\n",
       "  </thead>\n",
       "  <tbody>\n",
       "    <tr>\n",
       "      <th>0</th>\n",
       "      <td>1</td>\n",
       "      <td>40334325</td>\n",
       "      <td>2022-08-03 00:00:00.000000</td>\n",
       "      <td>0</td>\n",
       "      <td>56.0</td>\n",
       "      <td>56.0</td>\n",
       "      <td>3</td>\n",
       "      <td>5</td>\n",
       "      <td>https://www.airbnb.com/rooms/40334325</td>\n",
       "      <td>Luxurious flat in central location</td>\n",
       "      <td>...</td>\n",
       "      <td>Entire rental unit</td>\n",
       "      <td>Entire home/apt</td>\n",
       "      <td>2</td>\n",
       "      <td>1 bath</td>\n",
       "      <td>1.492854</td>\n",
       "      <td>2.0</td>\n",
       "      <td>[\"Hot water\", \"Refrigerator\", \"Private entranc...</td>\n",
       "      <td>311556587</td>\n",
       "      <td>2019-11-23</td>\n",
       "      <td>4.446575</td>\n",
       "    </tr>\n",
       "    <tr>\n",
       "      <th>1</th>\n",
       "      <td>2109</td>\n",
       "      <td>40334325</td>\n",
       "      <td>2022-02-14 00:00:00.000000</td>\n",
       "      <td>1</td>\n",
       "      <td>56.0</td>\n",
       "      <td>56.0</td>\n",
       "      <td>3</td>\n",
       "      <td>5</td>\n",
       "      <td>https://www.airbnb.com/rooms/40334325</td>\n",
       "      <td>Luxurious flat in central location</td>\n",
       "      <td>...</td>\n",
       "      <td>Entire rental unit</td>\n",
       "      <td>Entire home/apt</td>\n",
       "      <td>2</td>\n",
       "      <td>1 bath</td>\n",
       "      <td>1.492854</td>\n",
       "      <td>2.0</td>\n",
       "      <td>[\"Hot water\", \"Refrigerator\", \"Private entranc...</td>\n",
       "      <td>311556587</td>\n",
       "      <td>2019-11-23</td>\n",
       "      <td>4.446575</td>\n",
       "    </tr>\n",
       "    <tr>\n",
       "      <th>2</th>\n",
       "      <td>3617</td>\n",
       "      <td>40334325</td>\n",
       "      <td>2022-04-26 00:00:00.000000</td>\n",
       "      <td>0</td>\n",
       "      <td>56.0</td>\n",
       "      <td>56.0</td>\n",
       "      <td>3</td>\n",
       "      <td>5</td>\n",
       "      <td>https://www.airbnb.com/rooms/40334325</td>\n",
       "      <td>Luxurious flat in central location</td>\n",
       "      <td>...</td>\n",
       "      <td>Entire rental unit</td>\n",
       "      <td>Entire home/apt</td>\n",
       "      <td>2</td>\n",
       "      <td>1 bath</td>\n",
       "      <td>1.492854</td>\n",
       "      <td>2.0</td>\n",
       "      <td>[\"Hot water\", \"Refrigerator\", \"Private entranc...</td>\n",
       "      <td>311556587</td>\n",
       "      <td>2019-11-23</td>\n",
       "      <td>4.446575</td>\n",
       "    </tr>\n",
       "    <tr>\n",
       "      <th>3</th>\n",
       "      <td>5560</td>\n",
       "      <td>40334325</td>\n",
       "      <td>2022-04-08 00:00:00.000000</td>\n",
       "      <td>0</td>\n",
       "      <td>56.0</td>\n",
       "      <td>56.0</td>\n",
       "      <td>3</td>\n",
       "      <td>5</td>\n",
       "      <td>https://www.airbnb.com/rooms/40334325</td>\n",
       "      <td>Luxurious flat in central location</td>\n",
       "      <td>...</td>\n",
       "      <td>Entire rental unit</td>\n",
       "      <td>Entire home/apt</td>\n",
       "      <td>2</td>\n",
       "      <td>1 bath</td>\n",
       "      <td>1.492854</td>\n",
       "      <td>2.0</td>\n",
       "      <td>[\"Hot water\", \"Refrigerator\", \"Private entranc...</td>\n",
       "      <td>311556587</td>\n",
       "      <td>2019-11-23</td>\n",
       "      <td>4.446575</td>\n",
       "    </tr>\n",
       "    <tr>\n",
       "      <th>4</th>\n",
       "      <td>8188</td>\n",
       "      <td>40334325</td>\n",
       "      <td>2022-04-11 00:00:00.000000</td>\n",
       "      <td>0</td>\n",
       "      <td>56.0</td>\n",
       "      <td>56.0</td>\n",
       "      <td>3</td>\n",
       "      <td>5</td>\n",
       "      <td>https://www.airbnb.com/rooms/40334325</td>\n",
       "      <td>Luxurious flat in central location</td>\n",
       "      <td>...</td>\n",
       "      <td>Entire rental unit</td>\n",
       "      <td>Entire home/apt</td>\n",
       "      <td>2</td>\n",
       "      <td>1 bath</td>\n",
       "      <td>1.492854</td>\n",
       "      <td>2.0</td>\n",
       "      <td>[\"Hot water\", \"Refrigerator\", \"Private entranc...</td>\n",
       "      <td>311556587</td>\n",
       "      <td>2019-11-23</td>\n",
       "      <td>4.446575</td>\n",
       "    </tr>\n",
       "  </tbody>\n",
       "</table>\n",
       "<p>5 rows × 23 columns</p>\n",
       "</div>"
      ],
      "text/plain": [
       "   calender_id  listing_id                        date  available  price  \\\n",
       "0            1    40334325  2022-08-03 00:00:00.000000          0   56.0   \n",
       "1         2109    40334325  2022-02-14 00:00:00.000000          1   56.0   \n",
       "2         3617    40334325  2022-04-26 00:00:00.000000          0   56.0   \n",
       "3         5560    40334325  2022-04-08 00:00:00.000000          0   56.0   \n",
       "4         8188    40334325  2022-04-11 00:00:00.000000          0   56.0   \n",
       "\n",
       "   adjusted_price  minimum_nights  maximum_nights  \\\n",
       "0            56.0               3               5   \n",
       "1            56.0               3               5   \n",
       "2            56.0               3               5   \n",
       "3            56.0               3               5   \n",
       "4            56.0               3               5   \n",
       "\n",
       "                             listing_url                                name  \\\n",
       "0  https://www.airbnb.com/rooms/40334325  Luxurious flat in central location   \n",
       "1  https://www.airbnb.com/rooms/40334325  Luxurious flat in central location   \n",
       "2  https://www.airbnb.com/rooms/40334325  Luxurious flat in central location   \n",
       "3  https://www.airbnb.com/rooms/40334325  Luxurious flat in central location   \n",
       "4  https://www.airbnb.com/rooms/40334325  Luxurious flat in central location   \n",
       "\n",
       "   ...       property_type        room_type  accomodates bathrooms_text  \\\n",
       "0  ...  Entire rental unit  Entire home/apt            2         1 bath   \n",
       "1  ...  Entire rental unit  Entire home/apt            2         1 bath   \n",
       "2  ...  Entire rental unit  Entire home/apt            2         1 bath   \n",
       "3  ...  Entire rental unit  Entire home/apt            2         1 bath   \n",
       "4  ...  Entire rental unit  Entire home/apt            2         1 bath   \n",
       "\n",
       "   bedrooms  beds                                          amenities  \\\n",
       "0  1.492854   2.0  [\"Hot water\", \"Refrigerator\", \"Private entranc...   \n",
       "1  1.492854   2.0  [\"Hot water\", \"Refrigerator\", \"Private entranc...   \n",
       "2  1.492854   2.0  [\"Hot water\", \"Refrigerator\", \"Private entranc...   \n",
       "3  1.492854   2.0  [\"Hot water\", \"Refrigerator\", \"Private entranc...   \n",
       "4  1.492854   2.0  [\"Hot water\", \"Refrigerator\", \"Private entranc...   \n",
       "\n",
       "     host_id  host_since years_since_registration  \n",
       "0  311556587  2019-11-23                 4.446575  \n",
       "1  311556587  2019-11-23                 4.446575  \n",
       "2  311556587  2019-11-23                 4.446575  \n",
       "3  311556587  2019-11-23                 4.446575  \n",
       "4  311556587  2019-11-23                 4.446575  \n",
       "\n",
       "[5 rows x 23 columns]"
      ]
     },
     "execution_count": 22,
     "metadata": {},
     "output_type": "execute_result"
    }
   ],
   "source": [
    "Airbnb1.head()"
   ]
  },
  {
   "cell_type": "code",
   "execution_count": 23,
   "id": "714b8caf",
   "metadata": {},
   "outputs": [],
   "source": [
    "# Extract date and time components\n",
    "Airbnb1['date'] = pd.to_datetime(Airbnb1['date'])"
   ]
  },
  {
   "cell_type": "code",
   "execution_count": 24,
   "id": "ad46f970",
   "metadata": {},
   "outputs": [],
   "source": [
    "Airbnb1['date'] = Airbnb1['date'].dt.date"
   ]
  },
  {
   "cell_type": "code",
   "execution_count": 25,
   "id": "777acc78",
   "metadata": {},
   "outputs": [
    {
     "data": {
      "text/html": [
       "<div>\n",
       "<style scoped>\n",
       "    .dataframe tbody tr th:only-of-type {\n",
       "        vertical-align: middle;\n",
       "    }\n",
       "\n",
       "    .dataframe tbody tr th {\n",
       "        vertical-align: top;\n",
       "    }\n",
       "\n",
       "    .dataframe thead th {\n",
       "        text-align: right;\n",
       "    }\n",
       "</style>\n",
       "<table border=\"1\" class=\"dataframe\">\n",
       "  <thead>\n",
       "    <tr style=\"text-align: right;\">\n",
       "      <th></th>\n",
       "      <th>calender_id</th>\n",
       "      <th>listing_id</th>\n",
       "      <th>date</th>\n",
       "      <th>available</th>\n",
       "      <th>price</th>\n",
       "      <th>adjusted_price</th>\n",
       "      <th>minimum_nights</th>\n",
       "      <th>maximum_nights</th>\n",
       "      <th>listing_url</th>\n",
       "      <th>name</th>\n",
       "      <th>...</th>\n",
       "      <th>property_type</th>\n",
       "      <th>room_type</th>\n",
       "      <th>accomodates</th>\n",
       "      <th>bathrooms_text</th>\n",
       "      <th>bedrooms</th>\n",
       "      <th>beds</th>\n",
       "      <th>amenities</th>\n",
       "      <th>host_id</th>\n",
       "      <th>host_since</th>\n",
       "      <th>years_since_registration</th>\n",
       "    </tr>\n",
       "  </thead>\n",
       "  <tbody>\n",
       "    <tr>\n",
       "      <th>0</th>\n",
       "      <td>1</td>\n",
       "      <td>40334325</td>\n",
       "      <td>2022-08-03</td>\n",
       "      <td>0</td>\n",
       "      <td>56.0</td>\n",
       "      <td>56.0</td>\n",
       "      <td>3</td>\n",
       "      <td>5</td>\n",
       "      <td>https://www.airbnb.com/rooms/40334325</td>\n",
       "      <td>Luxurious flat in central location</td>\n",
       "      <td>...</td>\n",
       "      <td>Entire rental unit</td>\n",
       "      <td>Entire home/apt</td>\n",
       "      <td>2</td>\n",
       "      <td>1 bath</td>\n",
       "      <td>1.492854</td>\n",
       "      <td>2.0</td>\n",
       "      <td>[\"Hot water\", \"Refrigerator\", \"Private entranc...</td>\n",
       "      <td>311556587</td>\n",
       "      <td>2019-11-23</td>\n",
       "      <td>4.446575</td>\n",
       "    </tr>\n",
       "    <tr>\n",
       "      <th>1</th>\n",
       "      <td>2109</td>\n",
       "      <td>40334325</td>\n",
       "      <td>2022-02-14</td>\n",
       "      <td>1</td>\n",
       "      <td>56.0</td>\n",
       "      <td>56.0</td>\n",
       "      <td>3</td>\n",
       "      <td>5</td>\n",
       "      <td>https://www.airbnb.com/rooms/40334325</td>\n",
       "      <td>Luxurious flat in central location</td>\n",
       "      <td>...</td>\n",
       "      <td>Entire rental unit</td>\n",
       "      <td>Entire home/apt</td>\n",
       "      <td>2</td>\n",
       "      <td>1 bath</td>\n",
       "      <td>1.492854</td>\n",
       "      <td>2.0</td>\n",
       "      <td>[\"Hot water\", \"Refrigerator\", \"Private entranc...</td>\n",
       "      <td>311556587</td>\n",
       "      <td>2019-11-23</td>\n",
       "      <td>4.446575</td>\n",
       "    </tr>\n",
       "    <tr>\n",
       "      <th>2</th>\n",
       "      <td>3617</td>\n",
       "      <td>40334325</td>\n",
       "      <td>2022-04-26</td>\n",
       "      <td>0</td>\n",
       "      <td>56.0</td>\n",
       "      <td>56.0</td>\n",
       "      <td>3</td>\n",
       "      <td>5</td>\n",
       "      <td>https://www.airbnb.com/rooms/40334325</td>\n",
       "      <td>Luxurious flat in central location</td>\n",
       "      <td>...</td>\n",
       "      <td>Entire rental unit</td>\n",
       "      <td>Entire home/apt</td>\n",
       "      <td>2</td>\n",
       "      <td>1 bath</td>\n",
       "      <td>1.492854</td>\n",
       "      <td>2.0</td>\n",
       "      <td>[\"Hot water\", \"Refrigerator\", \"Private entranc...</td>\n",
       "      <td>311556587</td>\n",
       "      <td>2019-11-23</td>\n",
       "      <td>4.446575</td>\n",
       "    </tr>\n",
       "    <tr>\n",
       "      <th>3</th>\n",
       "      <td>5560</td>\n",
       "      <td>40334325</td>\n",
       "      <td>2022-04-08</td>\n",
       "      <td>0</td>\n",
       "      <td>56.0</td>\n",
       "      <td>56.0</td>\n",
       "      <td>3</td>\n",
       "      <td>5</td>\n",
       "      <td>https://www.airbnb.com/rooms/40334325</td>\n",
       "      <td>Luxurious flat in central location</td>\n",
       "      <td>...</td>\n",
       "      <td>Entire rental unit</td>\n",
       "      <td>Entire home/apt</td>\n",
       "      <td>2</td>\n",
       "      <td>1 bath</td>\n",
       "      <td>1.492854</td>\n",
       "      <td>2.0</td>\n",
       "      <td>[\"Hot water\", \"Refrigerator\", \"Private entranc...</td>\n",
       "      <td>311556587</td>\n",
       "      <td>2019-11-23</td>\n",
       "      <td>4.446575</td>\n",
       "    </tr>\n",
       "    <tr>\n",
       "      <th>4</th>\n",
       "      <td>8188</td>\n",
       "      <td>40334325</td>\n",
       "      <td>2022-04-11</td>\n",
       "      <td>0</td>\n",
       "      <td>56.0</td>\n",
       "      <td>56.0</td>\n",
       "      <td>3</td>\n",
       "      <td>5</td>\n",
       "      <td>https://www.airbnb.com/rooms/40334325</td>\n",
       "      <td>Luxurious flat in central location</td>\n",
       "      <td>...</td>\n",
       "      <td>Entire rental unit</td>\n",
       "      <td>Entire home/apt</td>\n",
       "      <td>2</td>\n",
       "      <td>1 bath</td>\n",
       "      <td>1.492854</td>\n",
       "      <td>2.0</td>\n",
       "      <td>[\"Hot water\", \"Refrigerator\", \"Private entranc...</td>\n",
       "      <td>311556587</td>\n",
       "      <td>2019-11-23</td>\n",
       "      <td>4.446575</td>\n",
       "    </tr>\n",
       "  </tbody>\n",
       "</table>\n",
       "<p>5 rows × 23 columns</p>\n",
       "</div>"
      ],
      "text/plain": [
       "   calender_id  listing_id        date  available  price  adjusted_price  \\\n",
       "0            1    40334325  2022-08-03          0   56.0            56.0   \n",
       "1         2109    40334325  2022-02-14          1   56.0            56.0   \n",
       "2         3617    40334325  2022-04-26          0   56.0            56.0   \n",
       "3         5560    40334325  2022-04-08          0   56.0            56.0   \n",
       "4         8188    40334325  2022-04-11          0   56.0            56.0   \n",
       "\n",
       "   minimum_nights  maximum_nights                            listing_url  \\\n",
       "0               3               5  https://www.airbnb.com/rooms/40334325   \n",
       "1               3               5  https://www.airbnb.com/rooms/40334325   \n",
       "2               3               5  https://www.airbnb.com/rooms/40334325   \n",
       "3               3               5  https://www.airbnb.com/rooms/40334325   \n",
       "4               3               5  https://www.airbnb.com/rooms/40334325   \n",
       "\n",
       "                                 name  ...       property_type  \\\n",
       "0  Luxurious flat in central location  ...  Entire rental unit   \n",
       "1  Luxurious flat in central location  ...  Entire rental unit   \n",
       "2  Luxurious flat in central location  ...  Entire rental unit   \n",
       "3  Luxurious flat in central location  ...  Entire rental unit   \n",
       "4  Luxurious flat in central location  ...  Entire rental unit   \n",
       "\n",
       "         room_type  accomodates bathrooms_text  bedrooms  beds  \\\n",
       "0  Entire home/apt            2         1 bath  1.492854   2.0   \n",
       "1  Entire home/apt            2         1 bath  1.492854   2.0   \n",
       "2  Entire home/apt            2         1 bath  1.492854   2.0   \n",
       "3  Entire home/apt            2         1 bath  1.492854   2.0   \n",
       "4  Entire home/apt            2         1 bath  1.492854   2.0   \n",
       "\n",
       "                                           amenities    host_id  host_since  \\\n",
       "0  [\"Hot water\", \"Refrigerator\", \"Private entranc...  311556587  2019-11-23   \n",
       "1  [\"Hot water\", \"Refrigerator\", \"Private entranc...  311556587  2019-11-23   \n",
       "2  [\"Hot water\", \"Refrigerator\", \"Private entranc...  311556587  2019-11-23   \n",
       "3  [\"Hot water\", \"Refrigerator\", \"Private entranc...  311556587  2019-11-23   \n",
       "4  [\"Hot water\", \"Refrigerator\", \"Private entranc...  311556587  2019-11-23   \n",
       "\n",
       "  years_since_registration  \n",
       "0                 4.446575  \n",
       "1                 4.446575  \n",
       "2                 4.446575  \n",
       "3                 4.446575  \n",
       "4                 4.446575  \n",
       "\n",
       "[5 rows x 23 columns]"
      ]
     },
     "execution_count": 25,
     "metadata": {},
     "output_type": "execute_result"
    }
   ],
   "source": [
    "Airbnb1.head()"
   ]
  },
  {
   "cell_type": "code",
   "execution_count": 25,
   "id": "86b9d562",
   "metadata": {},
   "outputs": [
    {
     "data": {
      "text/plain": [
       "(11468769, 23)"
      ]
     },
     "execution_count": 25,
     "metadata": {},
     "output_type": "execute_result"
    }
   ],
   "source": [
    "Airbnb1.shape\n"
   ]
  },
  {
   "cell_type": "code",
   "execution_count": 31,
   "id": "5ae2ac4e",
   "metadata": {
    "scrolled": true
   },
   "outputs": [
    {
     "data": {
      "text/plain": [
       "calender_id       0.003613\n",
       "listing_id        0.877253\n",
       "date             -0.002238\n",
       "available        -0.178177\n",
       "price             3.224587\n",
       "adjusted_price    3.285960\n",
       "minimum_nights    4.108953\n",
       "maximum_nights   -1.962958\n",
       "listing_url       0.582437\n",
       "name              0.035821\n",
       "description      -0.050932\n",
       "latitude         -0.402561\n",
       "longitude         0.166409\n",
       "property_type     1.417125\n",
       "room_type         1.421688\n",
       "accomodates       2.087254\n",
       "bathrooms_text    2.120432\n",
       "bedrooms          2.264151\n",
       "beds              3.710615\n",
       "amenities        -0.272810\n",
       "host_id           0.065858\n",
       "host_since        0.082737\n",
       "dtype: float64"
      ]
     },
     "execution_count": 31,
     "metadata": {},
     "output_type": "execute_result"
    }
   ],
   "source": [
    "Airbnb1.skew()"
   ]
  },
  {
   "cell_type": "markdown",
   "id": "5bf75cc9",
   "metadata": {},
   "source": [
    "In summary, skewness measures the asymmetry of the distribution. A positive skewness indicates a longer right tail, while a negative skewness indicates a longer left tail. Very high skewness values suggest highly skewed distributions, which might need transformation for certain types of analyses or modeling."
   ]
  },
  {
   "cell_type": "code",
   "execution_count": 32,
   "id": "f752ad57",
   "metadata": {
    "scrolled": true
   },
   "outputs": [
    {
     "data": {
      "text/plain": [
       "calender_id       -1.200962\n",
       "listing_id        -0.058211\n",
       "date              -1.203099\n",
       "available         -1.968253\n",
       "price             14.789510\n",
       "adjusted_price    15.512517\n",
       "minimum_nights    16.746114\n",
       "maximum_nights     1.999478\n",
       "listing_url       -1.042712\n",
       "name              -1.256386\n",
       "description       -1.259056\n",
       "latitude          -0.828660\n",
       "longitude         -0.966856\n",
       "property_type      0.387779\n",
       "room_type          0.062401\n",
       "accomodates        5.235853\n",
       "bathrooms_text     7.668881\n",
       "bedrooms           3.571828\n",
       "beds              19.533370\n",
       "amenities         -1.029738\n",
       "host_id           -1.189470\n",
       "host_since        -1.113746\n",
       "dtype: float64"
      ]
     },
     "execution_count": 32,
     "metadata": {},
     "output_type": "execute_result"
    }
   ],
   "source": [
    "Airbnb1.kurtosis()"
   ]
  },
  {
   "cell_type": "markdown",
   "id": "8d98cab9",
   "metadata": {},
   "source": [
    "kurtosis measures the peakedness of the distribution. Positive kurtosis values indicate heavier tails and a more peaked distribution (leptokurtic), while negative kurtosis values indicate lighter tails and a flatter distribution (platykurtic)."
   ]
  },
  {
   "cell_type": "code",
   "execution_count": 26,
   "id": "955ae08e",
   "metadata": {},
   "outputs": [],
   "source": [
    "import numpy as np"
   ]
  },
  {
   "cell_type": "code",
   "execution_count": 33,
   "id": "266c9cc4",
   "metadata": {},
   "outputs": [
    {
     "data": {
      "text/plain": [
       "70.0"
      ]
     },
     "execution_count": 33,
     "metadata": {},
     "output_type": "execute_result"
    }
   ],
   "source": [
    "Airbnb1['price'].median()"
   ]
  },
  {
   "cell_type": "code",
   "execution_count": 34,
   "id": "0c8189b3",
   "metadata": {},
   "outputs": [
    {
     "data": {
      "text/plain": [
       "3.0"
      ]
     },
     "execution_count": 34,
     "metadata": {},
     "output_type": "execute_result"
    }
   ],
   "source": [
    "Airbnb1['accomodates'].median()"
   ]
  },
  {
   "cell_type": "code",
   "execution_count": 35,
   "id": "b07612f1",
   "metadata": {},
   "outputs": [
    {
     "data": {
      "text/plain": [
       "4502646     109512\n",
       "8766126     101520\n",
       "8587634      81354\n",
       "10845191     78780\n",
       "28693154     74466\n",
       "             ...  \n",
       "53296271       167\n",
       "10582792       164\n",
       "11320350       164\n",
       "18711244       160\n",
       "31899599       158\n",
       "Name: listing_id, Length: 1525, dtype: int64"
      ]
     },
     "execution_count": 35,
     "metadata": {},
     "output_type": "execute_result"
    }
   ],
   "source": [
    "Airbnb1['listing_id'].value_counts()"
   ]
  },
  {
   "cell_type": "code",
   "execution_count": 36,
   "id": "9f45ce70",
   "metadata": {},
   "outputs": [
    {
     "data": {
      "text/plain": [
       "1.0"
      ]
     },
     "execution_count": 36,
     "metadata": {},
     "output_type": "execute_result"
    }
   ],
   "source": [
    "Airbnb1['available'].median()"
   ]
  },
  {
   "cell_type": "code",
   "execution_count": 37,
   "id": "cfe278e2",
   "metadata": {},
   "outputs": [
    {
     "data": {
      "text/plain": [
       "1.0"
      ]
     },
     "execution_count": 37,
     "metadata": {},
     "output_type": "execute_result"
    }
   ],
   "source": [
    "Airbnb1['bedrooms'].median()\n"
   ]
  },
  {
   "cell_type": "code",
   "execution_count": 38,
   "id": "3a637896",
   "metadata": {},
   "outputs": [
    {
     "data": {
      "text/plain": [
       "2.0"
      ]
     },
     "execution_count": 38,
     "metadata": {},
     "output_type": "execute_result"
    }
   ],
   "source": [
    "Airbnb1['beds'].median()"
   ]
  },
  {
   "cell_type": "code",
   "execution_count": 39,
   "id": "cb68a755",
   "metadata": {},
   "outputs": [
    {
     "data": {
      "text/plain": [
       "0    [\"Refrigerator\", \"Kitchen\", \"Smoke alarm\", \"Sh...\n",
       "Name: amenities, dtype: object"
      ]
     },
     "execution_count": 39,
     "metadata": {},
     "output_type": "execute_result"
    }
   ],
   "source": [
    "Airbnb1['amenities'].mode()"
   ]
  },
  {
   "cell_type": "code",
   "execution_count": 40,
   "id": "8acb5f9f",
   "metadata": {},
   "outputs": [
    {
     "data": {
      "text/plain": [
       "1125.0"
      ]
     },
     "execution_count": 40,
     "metadata": {},
     "output_type": "execute_result"
    }
   ],
   "source": [
    "Airbnb1['maximum_nights'].median()"
   ]
  },
  {
   "cell_type": "code",
   "execution_count": 41,
   "id": "6e2f6240",
   "metadata": {},
   "outputs": [
    {
     "data": {
      "text/plain": [
       "2.0"
      ]
     },
     "execution_count": 41,
     "metadata": {},
     "output_type": "execute_result"
    }
   ],
   "source": [
    "Airbnb1['minimum_nights'].median()"
   ]
  },
  {
   "cell_type": "code",
   "execution_count": 26,
   "id": "7e2fdb72",
   "metadata": {},
   "outputs": [],
   "source": [
    "Airbnb1.drop(columns=['calender_id','date','adjusted_price','listing_url'], inplace=True)"
   ]
  },
  {
   "cell_type": "code",
   "execution_count": 27,
   "id": "86213595",
   "metadata": {},
   "outputs": [
    {
     "data": {
      "text/html": [
       "<div>\n",
       "<style scoped>\n",
       "    .dataframe tbody tr th:only-of-type {\n",
       "        vertical-align: middle;\n",
       "    }\n",
       "\n",
       "    .dataframe tbody tr th {\n",
       "        vertical-align: top;\n",
       "    }\n",
       "\n",
       "    .dataframe thead th {\n",
       "        text-align: right;\n",
       "    }\n",
       "</style>\n",
       "<table border=\"1\" class=\"dataframe\">\n",
       "  <thead>\n",
       "    <tr style=\"text-align: right;\">\n",
       "      <th></th>\n",
       "      <th>listing_id</th>\n",
       "      <th>available</th>\n",
       "      <th>price</th>\n",
       "      <th>minimum_nights</th>\n",
       "      <th>maximum_nights</th>\n",
       "      <th>name</th>\n",
       "      <th>description</th>\n",
       "      <th>latitude</th>\n",
       "      <th>longitude</th>\n",
       "      <th>property_type</th>\n",
       "      <th>room_type</th>\n",
       "      <th>accomodates</th>\n",
       "      <th>bathrooms_text</th>\n",
       "      <th>bedrooms</th>\n",
       "      <th>beds</th>\n",
       "      <th>amenities</th>\n",
       "      <th>host_id</th>\n",
       "      <th>host_since</th>\n",
       "      <th>years_since_registration</th>\n",
       "    </tr>\n",
       "  </thead>\n",
       "  <tbody>\n",
       "    <tr>\n",
       "      <th>0</th>\n",
       "      <td>40334325</td>\n",
       "      <td>0</td>\n",
       "      <td>56.0</td>\n",
       "      <td>3</td>\n",
       "      <td>5</td>\n",
       "      <td>Luxurious flat in central location</td>\n",
       "      <td>Luxurious flat in Antwerp close to various pub...</td>\n",
       "      <td>51.20989</td>\n",
       "      <td>4.42298</td>\n",
       "      <td>Entire rental unit</td>\n",
       "      <td>Entire home/apt</td>\n",
       "      <td>2</td>\n",
       "      <td>1 bath</td>\n",
       "      <td>1.492854</td>\n",
       "      <td>2.0</td>\n",
       "      <td>[\"Hot water\", \"Refrigerator\", \"Private entranc...</td>\n",
       "      <td>311556587</td>\n",
       "      <td>2019-11-23</td>\n",
       "      <td>4.446575</td>\n",
       "    </tr>\n",
       "    <tr>\n",
       "      <th>1</th>\n",
       "      <td>40334325</td>\n",
       "      <td>1</td>\n",
       "      <td>56.0</td>\n",
       "      <td>3</td>\n",
       "      <td>5</td>\n",
       "      <td>Luxurious flat in central location</td>\n",
       "      <td>Luxurious flat in Antwerp close to various pub...</td>\n",
       "      <td>51.20989</td>\n",
       "      <td>4.42298</td>\n",
       "      <td>Entire rental unit</td>\n",
       "      <td>Entire home/apt</td>\n",
       "      <td>2</td>\n",
       "      <td>1 bath</td>\n",
       "      <td>1.492854</td>\n",
       "      <td>2.0</td>\n",
       "      <td>[\"Hot water\", \"Refrigerator\", \"Private entranc...</td>\n",
       "      <td>311556587</td>\n",
       "      <td>2019-11-23</td>\n",
       "      <td>4.446575</td>\n",
       "    </tr>\n",
       "    <tr>\n",
       "      <th>2</th>\n",
       "      <td>40334325</td>\n",
       "      <td>0</td>\n",
       "      <td>56.0</td>\n",
       "      <td>3</td>\n",
       "      <td>5</td>\n",
       "      <td>Luxurious flat in central location</td>\n",
       "      <td>Luxurious flat in Antwerp close to various pub...</td>\n",
       "      <td>51.20989</td>\n",
       "      <td>4.42298</td>\n",
       "      <td>Entire rental unit</td>\n",
       "      <td>Entire home/apt</td>\n",
       "      <td>2</td>\n",
       "      <td>1 bath</td>\n",
       "      <td>1.492854</td>\n",
       "      <td>2.0</td>\n",
       "      <td>[\"Hot water\", \"Refrigerator\", \"Private entranc...</td>\n",
       "      <td>311556587</td>\n",
       "      <td>2019-11-23</td>\n",
       "      <td>4.446575</td>\n",
       "    </tr>\n",
       "    <tr>\n",
       "      <th>3</th>\n",
       "      <td>40334325</td>\n",
       "      <td>0</td>\n",
       "      <td>56.0</td>\n",
       "      <td>3</td>\n",
       "      <td>5</td>\n",
       "      <td>Luxurious flat in central location</td>\n",
       "      <td>Luxurious flat in Antwerp close to various pub...</td>\n",
       "      <td>51.20989</td>\n",
       "      <td>4.42298</td>\n",
       "      <td>Entire rental unit</td>\n",
       "      <td>Entire home/apt</td>\n",
       "      <td>2</td>\n",
       "      <td>1 bath</td>\n",
       "      <td>1.492854</td>\n",
       "      <td>2.0</td>\n",
       "      <td>[\"Hot water\", \"Refrigerator\", \"Private entranc...</td>\n",
       "      <td>311556587</td>\n",
       "      <td>2019-11-23</td>\n",
       "      <td>4.446575</td>\n",
       "    </tr>\n",
       "    <tr>\n",
       "      <th>4</th>\n",
       "      <td>40334325</td>\n",
       "      <td>0</td>\n",
       "      <td>56.0</td>\n",
       "      <td>3</td>\n",
       "      <td>5</td>\n",
       "      <td>Luxurious flat in central location</td>\n",
       "      <td>Luxurious flat in Antwerp close to various pub...</td>\n",
       "      <td>51.20989</td>\n",
       "      <td>4.42298</td>\n",
       "      <td>Entire rental unit</td>\n",
       "      <td>Entire home/apt</td>\n",
       "      <td>2</td>\n",
       "      <td>1 bath</td>\n",
       "      <td>1.492854</td>\n",
       "      <td>2.0</td>\n",
       "      <td>[\"Hot water\", \"Refrigerator\", \"Private entranc...</td>\n",
       "      <td>311556587</td>\n",
       "      <td>2019-11-23</td>\n",
       "      <td>4.446575</td>\n",
       "    </tr>\n",
       "  </tbody>\n",
       "</table>\n",
       "</div>"
      ],
      "text/plain": [
       "   listing_id  available  price  minimum_nights  maximum_nights  \\\n",
       "0    40334325          0   56.0               3               5   \n",
       "1    40334325          1   56.0               3               5   \n",
       "2    40334325          0   56.0               3               5   \n",
       "3    40334325          0   56.0               3               5   \n",
       "4    40334325          0   56.0               3               5   \n",
       "\n",
       "                                 name  \\\n",
       "0  Luxurious flat in central location   \n",
       "1  Luxurious flat in central location   \n",
       "2  Luxurious flat in central location   \n",
       "3  Luxurious flat in central location   \n",
       "4  Luxurious flat in central location   \n",
       "\n",
       "                                         description  latitude  longitude  \\\n",
       "0  Luxurious flat in Antwerp close to various pub...  51.20989    4.42298   \n",
       "1  Luxurious flat in Antwerp close to various pub...  51.20989    4.42298   \n",
       "2  Luxurious flat in Antwerp close to various pub...  51.20989    4.42298   \n",
       "3  Luxurious flat in Antwerp close to various pub...  51.20989    4.42298   \n",
       "4  Luxurious flat in Antwerp close to various pub...  51.20989    4.42298   \n",
       "\n",
       "        property_type        room_type  accomodates bathrooms_text  bedrooms  \\\n",
       "0  Entire rental unit  Entire home/apt            2         1 bath  1.492854   \n",
       "1  Entire rental unit  Entire home/apt            2         1 bath  1.492854   \n",
       "2  Entire rental unit  Entire home/apt            2         1 bath  1.492854   \n",
       "3  Entire rental unit  Entire home/apt            2         1 bath  1.492854   \n",
       "4  Entire rental unit  Entire home/apt            2         1 bath  1.492854   \n",
       "\n",
       "   beds                                          amenities    host_id  \\\n",
       "0   2.0  [\"Hot water\", \"Refrigerator\", \"Private entranc...  311556587   \n",
       "1   2.0  [\"Hot water\", \"Refrigerator\", \"Private entranc...  311556587   \n",
       "2   2.0  [\"Hot water\", \"Refrigerator\", \"Private entranc...  311556587   \n",
       "3   2.0  [\"Hot water\", \"Refrigerator\", \"Private entranc...  311556587   \n",
       "4   2.0  [\"Hot water\", \"Refrigerator\", \"Private entranc...  311556587   \n",
       "\n",
       "  host_since  years_since_registration  \n",
       "0 2019-11-23                  4.446575  \n",
       "1 2019-11-23                  4.446575  \n",
       "2 2019-11-23                  4.446575  \n",
       "3 2019-11-23                  4.446575  \n",
       "4 2019-11-23                  4.446575  "
      ]
     },
     "execution_count": 27,
     "metadata": {},
     "output_type": "execute_result"
    }
   ],
   "source": [
    "Airbnb1.head()"
   ]
  },
  {
   "cell_type": "code",
   "execution_count": 28,
   "id": "b490edbe",
   "metadata": {},
   "outputs": [],
   "source": [
    "cont1 =Airbnb1.select_dtypes(include=np.number)"
   ]
  },
  {
   "cell_type": "code",
   "execution_count": 29,
   "id": "2c76b41d",
   "metadata": {},
   "outputs": [
    {
     "data": {
      "image/png": "[encoded data removed]",
      "text/plain": [
       "<Figure size 500x500 with 1 Axes>"
      ]
     },
     "metadata": {},
     "output_type": "display_data"
    },
    {
     "data": {
      "image/png": "[encoded data removed]",
      "text/plain": [
       "<Figure size 500x500 with 1 Axes>"
      ]
     },
     "metadata": {},
     "output_type": "display_data"
    },
    {
     "data": {
      "image/png": "[encoded data removed]",
      "text/plain": [
       "<Figure size 500x500 with 1 Axes>"
      ]
     },
     "metadata": {},
     "output_type": "display_data"
    },
    {
     "data": {
      "image/png": "[encoded data removed]",
      "text/plain": [
       "<Figure size 500x500 with 1 Axes>"
      ]
     },
     "metadata": {},
     "output_type": "display_data"
    },
    {
     "data": {
      "image/png": "[encoded data removed]",
      "text/plain": [
       "<Figure size 500x500 with 1 Axes>"
      ]
     },
     "metadata": {},
     "output_type": "display_data"
    },
    {
     "data": {
      "image/png": "[encoded data removed]",
      "text/plain": [
       "<Figure size 500x500 with 1 Axes>"
      ]
     },
     "metadata": {},
     "output_type": "display_data"
    },
    {
     "data": {
      "image/png": "[encoded data removed]",
      "text/plain": [
       "<Figure size 500x500 with 1 Axes>"
      ]
     },
     "metadata": {},
     "output_type": "display_data"
    },
    {
     "data": {
      "image/png": "[encoded data removed]",
      "text/plain": [
       "<Figure size 500x500 with 1 Axes>"
      ]
     },
     "metadata": {},
     "output_type": "display_data"
    },
    {
     "data": {
      "image/png": "[encoded data removed]",
      "text/plain": [
       "<Figure size 500x500 with 1 Axes>"
      ]
     },
     "metadata": {},
     "output_type": "display_data"
    },
    {
     "data": {
      "image/png": "[encoded data removed]",
      "text/plain": [
       "<Figure size 500x500 with 1 Axes>"
      ]
     },
     "metadata": {},
     "output_type": "display_data"
    },
    {
     "data": {
      "image/png": "[encoded data removed]",
      "text/plain": [
       "<Figure size 500x500 with 1 Axes>"
      ]
     },
     "metadata": {},
     "output_type": "display_data"
    },
    {
     "data": {
      "image/png": "[encoded data removed]",
      "text/plain": [
       "<Figure size 500x500 with 1 Axes>"
      ]
     },
     "metadata": {},
     "output_type": "display_data"
    }
   ],
   "source": [
    "for i in cont1:\n",
    "    plt.figure(figsize =(5,5))\n",
    "    sns.histplot(x=i,data = cont1)\n",
    "    plt.show()"
   ]
  },
  {
   "cell_type": "markdown",
   "id": "581b93c7",
   "metadata": {},
   "source": [
    "# categorical column comes under obj"
   ]
  },
  {
   "cell_type": "code",
   "execution_count": 30,
   "id": "bc636161",
   "metadata": {},
   "outputs": [],
   "source": [
    "obj = Airbnb1.select_dtypes(include ='object')"
   ]
  },
  {
   "cell_type": "code",
   "execution_count": 31,
   "id": "17d66a0b",
   "metadata": {},
   "outputs": [
    {
     "data": {
      "text/html": [
       "<div>\n",
       "<style scoped>\n",
       "    .dataframe tbody tr th:only-of-type {\n",
       "        vertical-align: middle;\n",
       "    }\n",
       "\n",
       "    .dataframe tbody tr th {\n",
       "        vertical-align: top;\n",
       "    }\n",
       "\n",
       "    .dataframe thead th {\n",
       "        text-align: right;\n",
       "    }\n",
       "</style>\n",
       "<table border=\"1\" class=\"dataframe\">\n",
       "  <thead>\n",
       "    <tr style=\"text-align: right;\">\n",
       "      <th></th>\n",
       "      <th>name</th>\n",
       "      <th>description</th>\n",
       "      <th>property_type</th>\n",
       "      <th>room_type</th>\n",
       "      <th>bathrooms_text</th>\n",
       "      <th>amenities</th>\n",
       "    </tr>\n",
       "  </thead>\n",
       "  <tbody>\n",
       "    <tr>\n",
       "      <th>0</th>\n",
       "      <td>Luxurious flat in central location</td>\n",
       "      <td>Luxurious flat in Antwerp close to various pub...</td>\n",
       "      <td>Entire rental unit</td>\n",
       "      <td>Entire home/apt</td>\n",
       "      <td>1 bath</td>\n",
       "      <td>[\"Hot water\", \"Refrigerator\", \"Private entranc...</td>\n",
       "    </tr>\n",
       "    <tr>\n",
       "      <th>1</th>\n",
       "      <td>Luxurious flat in central location</td>\n",
       "      <td>Luxurious flat in Antwerp close to various pub...</td>\n",
       "      <td>Entire rental unit</td>\n",
       "      <td>Entire home/apt</td>\n",
       "      <td>1 bath</td>\n",
       "      <td>[\"Hot water\", \"Refrigerator\", \"Private entranc...</td>\n",
       "    </tr>\n",
       "    <tr>\n",
       "      <th>2</th>\n",
       "      <td>Luxurious flat in central location</td>\n",
       "      <td>Luxurious flat in Antwerp close to various pub...</td>\n",
       "      <td>Entire rental unit</td>\n",
       "      <td>Entire home/apt</td>\n",
       "      <td>1 bath</td>\n",
       "      <td>[\"Hot water\", \"Refrigerator\", \"Private entranc...</td>\n",
       "    </tr>\n",
       "    <tr>\n",
       "      <th>3</th>\n",
       "      <td>Luxurious flat in central location</td>\n",
       "      <td>Luxurious flat in Antwerp close to various pub...</td>\n",
       "      <td>Entire rental unit</td>\n",
       "      <td>Entire home/apt</td>\n",
       "      <td>1 bath</td>\n",
       "      <td>[\"Hot water\", \"Refrigerator\", \"Private entranc...</td>\n",
       "    </tr>\n",
       "    <tr>\n",
       "      <th>4</th>\n",
       "      <td>Luxurious flat in central location</td>\n",
       "      <td>Luxurious flat in Antwerp close to various pub...</td>\n",
       "      <td>Entire rental unit</td>\n",
       "      <td>Entire home/apt</td>\n",
       "      <td>1 bath</td>\n",
       "      <td>[\"Hot water\", \"Refrigerator\", \"Private entranc...</td>\n",
       "    </tr>\n",
       "    <tr>\n",
       "      <th>...</th>\n",
       "      <td>...</td>\n",
       "      <td>...</td>\n",
       "      <td>...</td>\n",
       "      <td>...</td>\n",
       "      <td>...</td>\n",
       "      <td>...</td>\n",
       "    </tr>\n",
       "    <tr>\n",
       "      <th>11468764</th>\n",
       "      <td>Paz, conforto e tranquilidade tranquilidade</td>\n",
       "      <td>Espaço tranquilo ,quarto  com guarda roupa med...</td>\n",
       "      <td>Private room in rental unit</td>\n",
       "      <td>Private room</td>\n",
       "      <td>1 shared bath</td>\n",
       "      <td>[\"Hot water\", \"Fire extinguisher\", \"Long term ...</td>\n",
       "    </tr>\n",
       "    <tr>\n",
       "      <th>11468765</th>\n",
       "      <td>Paz, conforto e tranquilidade tranquilidade</td>\n",
       "      <td>Espaço tranquilo ,quarto  com guarda roupa med...</td>\n",
       "      <td>Private room in rental unit</td>\n",
       "      <td>Private room</td>\n",
       "      <td>1 shared bath</td>\n",
       "      <td>[\"Hot water\", \"Fire extinguisher\", \"Long term ...</td>\n",
       "    </tr>\n",
       "    <tr>\n",
       "      <th>11468766</th>\n",
       "      <td>Paz, conforto e tranquilidade tranquilidade</td>\n",
       "      <td>Espaço tranquilo ,quarto  com guarda roupa med...</td>\n",
       "      <td>Private room in rental unit</td>\n",
       "      <td>Private room</td>\n",
       "      <td>1 shared bath</td>\n",
       "      <td>[\"Hot water\", \"Fire extinguisher\", \"Long term ...</td>\n",
       "    </tr>\n",
       "    <tr>\n",
       "      <th>11468767</th>\n",
       "      <td>Paz, conforto e tranquilidade tranquilidade</td>\n",
       "      <td>Espaço tranquilo ,quarto  com guarda roupa med...</td>\n",
       "      <td>Private room in rental unit</td>\n",
       "      <td>Private room</td>\n",
       "      <td>1 shared bath</td>\n",
       "      <td>[\"Hot water\", \"Fire extinguisher\", \"Long term ...</td>\n",
       "    </tr>\n",
       "    <tr>\n",
       "      <th>11468768</th>\n",
       "      <td>Paz, conforto e tranquilidade tranquilidade</td>\n",
       "      <td>Espaço tranquilo ,quarto  com guarda roupa med...</td>\n",
       "      <td>Private room in rental unit</td>\n",
       "      <td>Private room</td>\n",
       "      <td>1 shared bath</td>\n",
       "      <td>[\"Hot water\", \"Fire extinguisher\", \"Long term ...</td>\n",
       "    </tr>\n",
       "  </tbody>\n",
       "</table>\n",
       "<p>11468769 rows × 6 columns</p>\n",
       "</div>"
      ],
      "text/plain": [
       "                                                 name  \\\n",
       "0                  Luxurious flat in central location   \n",
       "1                  Luxurious flat in central location   \n",
       "2                  Luxurious flat in central location   \n",
       "3                  Luxurious flat in central location   \n",
       "4                  Luxurious flat in central location   \n",
       "...                                               ...   \n",
       "11468764  Paz, conforto e tranquilidade tranquilidade   \n",
       "11468765  Paz, conforto e tranquilidade tranquilidade   \n",
       "11468766  Paz, conforto e tranquilidade tranquilidade   \n",
       "11468767  Paz, conforto e tranquilidade tranquilidade   \n",
       "11468768  Paz, conforto e tranquilidade tranquilidade   \n",
       "\n",
       "                                                description  \\\n",
       "0         Luxurious flat in Antwerp close to various pub...   \n",
       "1         Luxurious flat in Antwerp close to various pub...   \n",
       "2         Luxurious flat in Antwerp close to various pub...   \n",
       "3         Luxurious flat in Antwerp close to various pub...   \n",
       "4         Luxurious flat in Antwerp close to various pub...   \n",
       "...                                                     ...   \n",
       "11468764  Espaço tranquilo ,quarto  com guarda roupa med...   \n",
       "11468765  Espaço tranquilo ,quarto  com guarda roupa med...   \n",
       "11468766  Espaço tranquilo ,quarto  com guarda roupa med...   \n",
       "11468767  Espaço tranquilo ,quarto  com guarda roupa med...   \n",
       "11468768  Espaço tranquilo ,quarto  com guarda roupa med...   \n",
       "\n",
       "                        property_type        room_type bathrooms_text  \\\n",
       "0                  Entire rental unit  Entire home/apt         1 bath   \n",
       "1                  Entire rental unit  Entire home/apt         1 bath   \n",
       "2                  Entire rental unit  Entire home/apt         1 bath   \n",
       "3                  Entire rental unit  Entire home/apt         1 bath   \n",
       "4                  Entire rental unit  Entire home/apt         1 bath   \n",
       "...                               ...              ...            ...   \n",
       "11468764  Private room in rental unit     Private room  1 shared bath   \n",
       "11468765  Private room in rental unit     Private room  1 shared bath   \n",
       "11468766  Private room in rental unit     Private room  1 shared bath   \n",
       "11468767  Private room in rental unit     Private room  1 shared bath   \n",
       "11468768  Private room in rental unit     Private room  1 shared bath   \n",
       "\n",
       "                                                  amenities  \n",
       "0         [\"Hot water\", \"Refrigerator\", \"Private entranc...  \n",
       "1         [\"Hot water\", \"Refrigerator\", \"Private entranc...  \n",
       "2         [\"Hot water\", \"Refrigerator\", \"Private entranc...  \n",
       "3         [\"Hot water\", \"Refrigerator\", \"Private entranc...  \n",
       "4         [\"Hot water\", \"Refrigerator\", \"Private entranc...  \n",
       "...                                                     ...  \n",
       "11468764  [\"Hot water\", \"Fire extinguisher\", \"Long term ...  \n",
       "11468765  [\"Hot water\", \"Fire extinguisher\", \"Long term ...  \n",
       "11468766  [\"Hot water\", \"Fire extinguisher\", \"Long term ...  \n",
       "11468767  [\"Hot water\", \"Fire extinguisher\", \"Long term ...  \n",
       "11468768  [\"Hot water\", \"Fire extinguisher\", \"Long term ...  \n",
       "\n",
       "[11468769 rows x 6 columns]"
      ]
     },
     "execution_count": 31,
     "metadata": {},
     "output_type": "execute_result"
    }
   ],
   "source": [
    "obj"
   ]
  },
  {
   "cell_type": "code",
   "execution_count": 53,
   "id": "83059438",
   "metadata": {},
   "outputs": [
    {
     "data": {
      "text/plain": [
       "Entire rental unit                     6701581\n",
       "Entire loft                             879240\n",
       "Private room in townhouse               662255\n",
       "Private room in residential home        555838\n",
       "Private room in rental unit             518908\n",
       "Entire residential home                 437630\n",
       "Entire townhouse                        428108\n",
       "Entire condominium (condo)              323864\n",
       "Room in boutique hotel                  245106\n",
       "Private room in guesthouse               94148\n",
       "Private room                             84034\n",
       "Private room in bed and breakfast        83289\n",
       "Entire serviced apartment                73581\n",
       "Entire guest suite                       68095\n",
       "Private room in loft                     42471\n",
       "Private room in condominium (condo)      36066\n",
       "Room in aparthotel                       34552\n",
       "Yurt                                     34161\n",
       "Private room in guest suite              33123\n",
       "Private room in boat                     30032\n",
       "Entire cottage                           24486\n",
       "Shared room in residential home          22891\n",
       "Entire guesthouse                        21499\n",
       "Tiny house                               12675\n",
       "Houseboat                                 7869\n",
       "Room in hotel                             4708\n",
       "Entire villa                              3540\n",
       "Private room in religious building        2580\n",
       "Casa particular                            724\n",
       "Private room in casa particular            571\n",
       "Entire vacation home                       386\n",
       "Shared room in casa particular             386\n",
       "Tent                                       372\n",
       "Name: property_type, dtype: int64"
      ]
     },
     "execution_count": 53,
     "metadata": {},
     "output_type": "execute_result"
    }
   ],
   "source": [
    "Airbnb1['property_type'].value_counts()"
   ]
  },
  {
   "cell_type": "code",
   "execution_count": 54,
   "id": "8e042c2c",
   "metadata": {},
   "outputs": [
    {
     "data": {
      "text/plain": [
       "Entire home/apt    9028770\n",
       "Private room       2405862\n",
       "Shared room          23277\n",
       "Hotel room           10860\n",
       "Name: room_type, dtype: int64"
      ]
     },
     "execution_count": 54,
     "metadata": {},
     "output_type": "execute_result"
    }
   ],
   "source": [
    "Airbnb1['room_type'].value_counts()"
   ]
  },
  {
   "cell_type": "code",
   "execution_count": 58,
   "id": "0ef13b66",
   "metadata": {},
   "outputs": [
    {
     "data": {
      "text/plain": [
       "1 bath               5435786\n",
       "1.5 baths            2946115\n",
       "1 private bath        645384\n",
       "1 shared bath         626222\n",
       "1.5 shared baths      591049\n",
       "2.5 baths             391623\n",
       "2 baths               390067\n",
       "2.5 shared baths      127300\n",
       "3.5 baths             108610\n",
       "2 shared baths         86937\n",
       "3 baths                50953\n",
       "Shared half-bath       22080\n",
       "Half-bath              20297\n",
       "5 baths                 7347\n",
       "4 shared baths          6771\n",
       "8.5 baths               6369\n",
       "3 shared baths          2606\n",
       "8 baths                 1098\n",
       "0 shared baths           892\n",
       "Private half-bath        706\n",
       "0 baths                  372\n",
       "6.5 baths                185\n",
       "Name: bathrooms_text, dtype: int64"
      ]
     },
     "execution_count": 58,
     "metadata": {},
     "output_type": "execute_result"
    }
   ],
   "source": [
    "Airbnb1['bathrooms_text'].value_counts()"
   ]
  },
  {
   "cell_type": "code",
   "execution_count": 60,
   "id": "ac084664",
   "metadata": {},
   "outputs": [
    {
     "data": {
      "text/plain": [
       "0    1 bath\n",
       "Name: bathrooms_text, dtype: object"
      ]
     },
     "execution_count": 60,
     "metadata": {},
     "output_type": "execute_result"
    }
   ],
   "source": [
    "Airbnb1['bathrooms_text'].mode()"
   ]
  },
  {
   "cell_type": "code",
   "execution_count": 62,
   "id": "2a2c2d84",
   "metadata": {},
   "outputs": [
    {
     "data": {
      "image/png": "[encoded data removed]",
      "text/plain": [
       "<Figure size 640x480 with 1 Axes>"
      ]
     },
     "metadata": {},
     "output_type": "display_data"
    }
   ],
   "source": [
    "Airbnb1.room_type.value_counts()\n",
    "sns.countplot(x='room_type',hue ='available',data = Airbnb1)\n",
    "plt.show()"
   ]
  },
  {
   "cell_type": "code",
   "execution_count": 64,
   "id": "b17d6d8c",
   "metadata": {},
   "outputs": [
    {
     "name": "stderr",
     "output_type": "stream",
     "text": [
      "C:\\Users\\HP\\AppData\\Local\\Temp\\ipykernel_20192\\1869222148.py:2: FutureWarning: The default value of numeric_only in DataFrame.corr is deprecated. In a future version, it will default to False. Select only valid columns or specify the value of numeric_only to silence this warning.\n",
      "  sns.heatmap(Airbnb1.corr(),annot= True)\n"
     ]
    },
    {
     "data": {
      "text/plain": [
       "<Axes: >"
      ]
     },
     "execution_count": 64,
     "metadata": {},
     "output_type": "execute_result"
    },
    {
     "data": {
      "image/png": "[encoded data removed]",
      "text/plain": [
       "<Figure size 1000x700 with 2 Axes>"
      ]
     },
     "metadata": {},
     "output_type": "display_data"
    }
   ],
   "source": [
    "plt.figure(figsize =(10,7))\n",
    "sns.heatmap(Airbnb1.corr(),annot= True)"
   ]
  },
  {
   "cell_type": "markdown",
   "id": "d5fa8323",
   "metadata": {},
   "source": [
    "Correlation Coefficient of 0.68: This indicates a moderately strong positive linear relationship between the two variables. As one variable increases, the other variable tends to increase as well, and vice versa. However, the relationship may not be perfectly linear. Correlation Coefficient of 0.76: This indicates a strong positive linear relationship between the two variables. The relationship is more pronounced compared to a correlation coefficient of 0.68, suggesting that the variables are more closely associated with each other. Correlation Coefficient of 0.84: This indicates a very strong positive linear relationship between the two variables. The variables are highly correlated, and the relationship between them is nearly linear. Changes in one variable are highly predictive of changes in the other variable."
   ]
  },
  {
   "cell_type": "markdown",
   "id": "f012708c",
   "metadata": {},
   "source": [
    "# boxplot involves understanding the distribution of the data, including its central tendency, spread, and any potential outliers."
   ]
  },
  {
   "cell_type": "code",
   "execution_count": 32,
   "id": "fbda4bb3",
   "metadata": {},
   "outputs": [
    {
     "data": {
      "image/png": "[encoded data removed]",
      "text/plain": [
       "<Figure size 600x800 with 1 Axes>"
      ]
     },
     "metadata": {},
     "output_type": "display_data"
    },
    {
     "data": {
      "image/png": "[encoded data removed]",
      "text/plain": [
       "<Figure size 600x800 with 1 Axes>"
      ]
     },
     "metadata": {},
     "output_type": "display_data"
    },
    {
     "data": {
      "image/png": "[encoded data removed]",
      "text/plain": [
       "<Figure size 600x800 with 1 Axes>"
      ]
     },
     "metadata": {},
     "output_type": "display_data"
    },
    {
     "data": {
      "image/png": "[encoded data removed]",
      "text/plain": [
       "<Figure size 600x800 with 1 Axes>"
      ]
     },
     "metadata": {},
     "output_type": "display_data"
    },
    {
     "data": {
      "image/png": "[encoded data removed]",
      "text/plain": [
       "<Figure size 600x800 with 1 Axes>"
      ]
     },
     "metadata": {},
     "output_type": "display_data"
    },
    {
     "data": {
      "image/png": "[encoded data removed]",
      "text/plain": [
       "<Figure size 600x800 with 1 Axes>"
      ]
     },
     "metadata": {},
     "output_type": "display_data"
    },
    {
     "data": {
      "image/png": "[encoded data removed]",
      "text/plain": [
       "<Figure size 600x800 with 1 Axes>"
      ]
     },
     "metadata": {},
     "output_type": "display_data"
    },
    {
     "data": {
      "image/png": "[encoded data removed]",
      "text/plain": [
       "<Figure size 600x800 with 1 Axes>"
      ]
     },
     "metadata": {},
     "output_type": "display_data"
    },
    {
     "data": {
      "image/png": "[encoded data removed]",
      "text/plain": [
       "<Figure size 600x800 with 1 Axes>"
      ]
     },
     "metadata": {},
     "output_type": "display_data"
    },
    {
     "data": {
      "image/png": "[encoded data removed]",
      "text/plain": [
       "<Figure size 600x800 with 1 Axes>"
      ]
     },
     "metadata": {},
     "output_type": "display_data"
    },
    {
     "data": {
      "image/png": "[encoded data removed]",
      "text/plain": [
       "<Figure size 600x800 with 1 Axes>"
      ]
     },
     "metadata": {},
     "output_type": "display_data"
    },
    {
     "data": {
      "image/png": "[encoded data removed]",
      "text/plain": [
       "<Figure size 600x800 with 1 Axes>"
      ]
     },
     "metadata": {},
     "output_type": "display_data"
    }
   ],
   "source": [
    "for i in cont1:\n",
    "    plt.figure(figsize =(6,8))\n",
    "    sns.boxplot(x=i,data = cont1)\n",
    "    plt.show()"
   ]
  },
  {
   "cell_type": "code",
   "execution_count": null,
   "id": "2e226598",
   "metadata": {},
   "outputs": [],
   "source": []
  },
  {
   "cell_type": "markdown",
   "id": "f739d9a5",
   "metadata": {},
   "source": [
    "A KDE (Kernel Density Estimation) plot is a way to visualize the probability density function of a continuous random variable"
   ]
  },
  {
   "cell_type": "code",
   "execution_count": 33,
   "id": "2c3c03ef",
   "metadata": {},
   "outputs": [
    {
     "data": {
      "image/png": "[encoded data removed]",
      "text/plain": [
       "<Figure size 640x480 with 1 Axes>"
      ]
     },
     "metadata": {},
     "output_type": "display_data"
    }
   ],
   "source": [
    "sns.kdeplot(Airbnb1[\"bedrooms\"])\n",
    "plt.show()"
   ]
  },
  {
   "cell_type": "markdown",
   "id": "4be06331",
   "metadata": {},
   "source": [
    "The peak(s) of the KDE plot indicate the central tendency of the distribution, showing where the most common number of bedrooms lies within the dataset."
   ]
  },
  {
   "cell_type": "code",
   "execution_count": 67,
   "id": "3f317528",
   "metadata": {},
   "outputs": [
    {
     "name": "stderr",
     "output_type": "stream",
     "text": [
      "C:\\Users\\HP\\AppData\\Local\\Temp\\ipykernel_20192\\2998133828.py:1: UserWarning: \n",
      "\n",
      "`distplot` is a deprecated function and will be removed in seaborn v0.14.0.\n",
      "\n",
      "Please adapt your code to use either `displot` (a figure-level function with\n",
      "similar flexibility) or `histplot` (an axes-level function for histograms).\n",
      "\n",
      "For a guide to updating your code to use the new functions, please see\n",
      "https://gist.github.com/mwaskom/de44147ed2974457ad6372750bbe5751\n",
      "\n",
      "  sns.distplot(Airbnb1[\"price\"])\n"
     ]
    },
    {
     "data": {
      "text/plain": [
       "<Axes: xlabel='price', ylabel='Density'>"
      ]
     },
     "execution_count": 67,
     "metadata": {},
     "output_type": "execute_result"
    },
    {
     "data": {
      "image/png": "[encoded data removed]",
      "text/plain": [
       "<Figure size 640x480 with 1 Axes>"
      ]
     },
     "metadata": {},
     "output_type": "display_data"
    }
   ],
   "source": [
    "sns.distplot(Airbnb1[\"price\"])"
   ]
  },
  {
   "cell_type": "markdown",
   "id": "09391741",
   "metadata": {},
   "source": [
    "# importing MinMaxScaler is essential for standardizing the scale of input features, improving model performance, and ensuring the stability and interpretability of machine learning "
   ]
  },
  {
   "cell_type": "code",
   "execution_count": 34,
   "id": "b5af165d",
   "metadata": {},
   "outputs": [
    {
     "data": {
      "text/html": [
       "<div>\n",
       "<style scoped>\n",
       "    .dataframe tbody tr th:only-of-type {\n",
       "        vertical-align: middle;\n",
       "    }\n",
       "\n",
       "    .dataframe tbody tr th {\n",
       "        vertical-align: top;\n",
       "    }\n",
       "\n",
       "    .dataframe thead th {\n",
       "        text-align: right;\n",
       "    }\n",
       "</style>\n",
       "<table border=\"1\" class=\"dataframe\">\n",
       "  <thead>\n",
       "    <tr style=\"text-align: right;\">\n",
       "      <th></th>\n",
       "      <th>count</th>\n",
       "      <th>mean</th>\n",
       "      <th>std</th>\n",
       "      <th>min</th>\n",
       "      <th>25%</th>\n",
       "      <th>50%</th>\n",
       "      <th>75%</th>\n",
       "      <th>max</th>\n",
       "    </tr>\n",
       "  </thead>\n",
       "  <tbody>\n",
       "    <tr>\n",
       "      <th>0</th>\n",
       "      <td>11468769.0</td>\n",
       "      <td>0.422940</td>\n",
       "      <td>0.263251</td>\n",
       "      <td>0.0</td>\n",
       "      <td>0.185297</td>\n",
       "      <td>0.401817</td>\n",
       "      <td>0.629568</td>\n",
       "      <td>1.0</td>\n",
       "    </tr>\n",
       "    <tr>\n",
       "      <th>1</th>\n",
       "      <td>11468769.0</td>\n",
       "      <td>0.544369</td>\n",
       "      <td>0.498028</td>\n",
       "      <td>0.0</td>\n",
       "      <td>0.000000</td>\n",
       "      <td>1.000000</td>\n",
       "      <td>1.000000</td>\n",
       "      <td>1.0</td>\n",
       "    </tr>\n",
       "    <tr>\n",
       "      <th>2</th>\n",
       "      <td>11468769.0</td>\n",
       "      <td>0.013300</td>\n",
       "      <td>0.020311</td>\n",
       "      <td>0.0</td>\n",
       "      <td>0.007086</td>\n",
       "      <td>0.009679</td>\n",
       "      <td>0.014691</td>\n",
       "      <td>1.0</td>\n",
       "    </tr>\n",
       "    <tr>\n",
       "      <th>3</th>\n",
       "      <td>11468769.0</td>\n",
       "      <td>0.007488</td>\n",
       "      <td>0.027995</td>\n",
       "      <td>0.0</td>\n",
       "      <td>0.000000</td>\n",
       "      <td>0.003344</td>\n",
       "      <td>0.003344</td>\n",
       "      <td>1.0</td>\n",
       "    </tr>\n",
       "    <tr>\n",
       "      <th>4</th>\n",
       "      <td>11468769.0</td>\n",
       "      <td>0.098148</td>\n",
       "      <td>0.083072</td>\n",
       "      <td>0.0</td>\n",
       "      <td>0.112422</td>\n",
       "      <td>0.112422</td>\n",
       "      <td>0.112422</td>\n",
       "      <td>1.0</td>\n",
       "    </tr>\n",
       "    <tr>\n",
       "      <th>5</th>\n",
       "      <td>11468769.0</td>\n",
       "      <td>0.288972</td>\n",
       "      <td>0.061321</td>\n",
       "      <td>0.0</td>\n",
       "      <td>0.261044</td>\n",
       "      <td>0.299003</td>\n",
       "      <td>0.318250</td>\n",
       "      <td>1.0</td>\n",
       "    </tr>\n",
       "    <tr>\n",
       "      <th>6</th>\n",
       "      <td>11468769.0</td>\n",
       "      <td>0.634306</td>\n",
       "      <td>0.087296</td>\n",
       "      <td>0.0</td>\n",
       "      <td>0.577893</td>\n",
       "      <td>0.612870</td>\n",
       "      <td>0.678931</td>\n",
       "      <td>1.0</td>\n",
       "    </tr>\n",
       "    <tr>\n",
       "      <th>7</th>\n",
       "      <td>11468769.0</td>\n",
       "      <td>0.178232</td>\n",
       "      <td>0.164079</td>\n",
       "      <td>0.0</td>\n",
       "      <td>0.066667</td>\n",
       "      <td>0.133333</td>\n",
       "      <td>0.200000</td>\n",
       "      <td>1.0</td>\n",
       "    </tr>\n",
       "    <tr>\n",
       "      <th>8</th>\n",
       "      <td>11468769.0</td>\n",
       "      <td>0.049285</td>\n",
       "      <td>0.088532</td>\n",
       "      <td>0.0</td>\n",
       "      <td>0.000000</td>\n",
       "      <td>0.000000</td>\n",
       "      <td>0.100000</td>\n",
       "      <td>1.0</td>\n",
       "    </tr>\n",
       "    <tr>\n",
       "      <th>9</th>\n",
       "      <td>11468769.0</td>\n",
       "      <td>0.049603</td>\n",
       "      <td>0.071790</td>\n",
       "      <td>0.0</td>\n",
       "      <td>0.000000</td>\n",
       "      <td>0.041667</td>\n",
       "      <td>0.083333</td>\n",
       "      <td>1.0</td>\n",
       "    </tr>\n",
       "    <tr>\n",
       "      <th>10</th>\n",
       "      <td>11468769.0</td>\n",
       "      <td>0.216632</td>\n",
       "      <td>0.225196</td>\n",
       "      <td>0.0</td>\n",
       "      <td>0.036168</td>\n",
       "      <td>0.111778</td>\n",
       "      <td>0.379110</td>\n",
       "      <td>1.0</td>\n",
       "    </tr>\n",
       "    <tr>\n",
       "      <th>11</th>\n",
       "      <td>11468769.0</td>\n",
       "      <td>0.515755</td>\n",
       "      <td>0.191547</td>\n",
       "      <td>0.0</td>\n",
       "      <td>0.350937</td>\n",
       "      <td>0.536140</td>\n",
       "      <td>0.661475</td>\n",
       "      <td>1.0</td>\n",
       "    </tr>\n",
       "  </tbody>\n",
       "</table>\n",
       "</div>"
      ],
      "text/plain": [
       "         count      mean       std  min       25%       50%       75%  max\n",
       "0   11468769.0  0.422940  0.263251  0.0  0.185297  0.401817  0.629568  1.0\n",
       "1   11468769.0  0.544369  0.498028  0.0  0.000000  1.000000  1.000000  1.0\n",
       "2   11468769.0  0.013300  0.020311  0.0  0.007086  0.009679  0.014691  1.0\n",
       "3   11468769.0  0.007488  0.027995  0.0  0.000000  0.003344  0.003344  1.0\n",
       "4   11468769.0  0.098148  0.083072  0.0  0.112422  0.112422  0.112422  1.0\n",
       "5   11468769.0  0.288972  0.061321  0.0  0.261044  0.299003  0.318250  1.0\n",
       "6   11468769.0  0.634306  0.087296  0.0  0.577893  0.612870  0.678931  1.0\n",
       "7   11468769.0  0.178232  0.164079  0.0  0.066667  0.133333  0.200000  1.0\n",
       "8   11468769.0  0.049285  0.088532  0.0  0.000000  0.000000  0.100000  1.0\n",
       "9   11468769.0  0.049603  0.071790  0.0  0.000000  0.041667  0.083333  1.0\n",
       "10  11468769.0  0.216632  0.225196  0.0  0.036168  0.111778  0.379110  1.0\n",
       "11  11468769.0  0.515755  0.191547  0.0  0.350937  0.536140  0.661475  1.0"
      ]
     },
     "execution_count": 34,
     "metadata": {},
     "output_type": "execute_result"
    }
   ],
   "source": [
    "from sklearn.preprocessing import MinMaxScaler\n",
    "scale= MinMaxScaler()\n",
    "cont1= scale.fit_transform(cont1)\n",
    "cont1= pd.DataFrame(cont1)\n",
    "cont1.describe().T"
   ]
  },
  {
   "cell_type": "code",
   "execution_count": 35,
   "id": "c8aa840f",
   "metadata": {},
   "outputs": [
    {
     "data": {
      "text/html": [
       "<div>\n",
       "<style scoped>\n",
       "    .dataframe tbody tr th:only-of-type {\n",
       "        vertical-align: middle;\n",
       "    }\n",
       "\n",
       "    .dataframe tbody tr th {\n",
       "        vertical-align: top;\n",
       "    }\n",
       "\n",
       "    .dataframe thead th {\n",
       "        text-align: right;\n",
       "    }\n",
       "</style>\n",
       "<table border=\"1\" class=\"dataframe\">\n",
       "  <thead>\n",
       "    <tr style=\"text-align: right;\">\n",
       "      <th></th>\n",
       "      <th>count</th>\n",
       "      <th>mean</th>\n",
       "      <th>std</th>\n",
       "      <th>min</th>\n",
       "      <th>25%</th>\n",
       "      <th>50%</th>\n",
       "      <th>75%</th>\n",
       "      <th>max</th>\n",
       "    </tr>\n",
       "  </thead>\n",
       "  <tbody>\n",
       "    <tr>\n",
       "      <th>listing_id</th>\n",
       "      <td>11468769.0</td>\n",
       "      <td>2.279420e+07</td>\n",
       "      <td>1.415612e+07</td>\n",
       "      <td>50904.000000</td>\n",
       "      <td>1.001510e+07</td>\n",
       "      <td>2.165832e+07</td>\n",
       "      <td>3.390546e+07</td>\n",
       "      <td>5.382519e+07</td>\n",
       "    </tr>\n",
       "    <tr>\n",
       "      <th>available</th>\n",
       "      <td>11468769.0</td>\n",
       "      <td>5.443685e-01</td>\n",
       "      <td>4.980276e-01</td>\n",
       "      <td>0.000000</td>\n",
       "      <td>0.000000e+00</td>\n",
       "      <td>1.000000e+00</td>\n",
       "      <td>1.000000e+00</td>\n",
       "      <td>1.000000e+00</td>\n",
       "    </tr>\n",
       "    <tr>\n",
       "      <th>price</th>\n",
       "      <td>11468769.0</td>\n",
       "      <td>9.095577e+01</td>\n",
       "      <td>1.175211e+02</td>\n",
       "      <td>14.000000</td>\n",
       "      <td>5.500000e+01</td>\n",
       "      <td>7.000000e+01</td>\n",
       "      <td>9.900000e+01</td>\n",
       "      <td>5.800000e+03</td>\n",
       "    </tr>\n",
       "    <tr>\n",
       "      <th>minimum_nights</th>\n",
       "      <td>11468769.0</td>\n",
       "      <td>3.238779e+00</td>\n",
       "      <td>8.370485e+00</td>\n",
       "      <td>1.000000</td>\n",
       "      <td>1.000000e+00</td>\n",
       "      <td>2.000000e+00</td>\n",
       "      <td>2.000000e+00</td>\n",
       "      <td>3.000000e+02</td>\n",
       "    </tr>\n",
       "    <tr>\n",
       "      <th>maximum_nights</th>\n",
       "      <td>11468769.0</td>\n",
       "      <td>9.822816e+02</td>\n",
       "      <td>8.305506e+02</td>\n",
       "      <td>1.000000</td>\n",
       "      <td>1.125000e+03</td>\n",
       "      <td>1.125000e+03</td>\n",
       "      <td>1.125000e+03</td>\n",
       "      <td>9.999000e+03</td>\n",
       "    </tr>\n",
       "    <tr>\n",
       "      <th>latitude</th>\n",
       "      <td>11468769.0</td>\n",
       "      <td>5.121678e+01</td>\n",
       "      <td>1.143767e-02</td>\n",
       "      <td>51.162880</td>\n",
       "      <td>5.121157e+01</td>\n",
       "      <td>5.121865e+01</td>\n",
       "      <td>5.122224e+01</td>\n",
       "      <td>5.134940e+01</td>\n",
       "    </tr>\n",
       "    <tr>\n",
       "      <th>longitude</th>\n",
       "      <td>11468769.0</td>\n",
       "      <td>4.413001e+00</td>\n",
       "      <td>1.682187e-02</td>\n",
       "      <td>4.290770</td>\n",
       "      <td>4.402130e+00</td>\n",
       "      <td>4.408870e+00</td>\n",
       "      <td>4.421600e+00</td>\n",
       "      <td>4.483470e+00</td>\n",
       "    </tr>\n",
       "    <tr>\n",
       "      <th>accomodates</th>\n",
       "      <td>11468769.0</td>\n",
       "      <td>3.673475e+00</td>\n",
       "      <td>2.461185e+00</td>\n",
       "      <td>1.000000</td>\n",
       "      <td>2.000000e+00</td>\n",
       "      <td>3.000000e+00</td>\n",
       "      <td>4.000000e+00</td>\n",
       "      <td>1.600000e+01</td>\n",
       "    </tr>\n",
       "    <tr>\n",
       "      <th>bedrooms</th>\n",
       "      <td>11468769.0</td>\n",
       "      <td>1.492854e+00</td>\n",
       "      <td>8.853161e-01</td>\n",
       "      <td>1.000000</td>\n",
       "      <td>1.000000e+00</td>\n",
       "      <td>1.000000e+00</td>\n",
       "      <td>2.000000e+00</td>\n",
       "      <td>1.100000e+01</td>\n",
       "    </tr>\n",
       "    <tr>\n",
       "      <th>beds</th>\n",
       "      <td>11468769.0</td>\n",
       "      <td>2.190469e+00</td>\n",
       "      <td>1.722952e+00</td>\n",
       "      <td>1.000000</td>\n",
       "      <td>1.000000e+00</td>\n",
       "      <td>2.000000e+00</td>\n",
       "      <td>3.000000e+00</td>\n",
       "      <td>2.500000e+01</td>\n",
       "    </tr>\n",
       "    <tr>\n",
       "      <th>host_id</th>\n",
       "      <td>11468769.0</td>\n",
       "      <td>9.463499e+07</td>\n",
       "      <td>9.813248e+07</td>\n",
       "      <td>234077.000000</td>\n",
       "      <td>1.599483e+07</td>\n",
       "      <td>4.894307e+07</td>\n",
       "      <td>1.654369e+08</td>\n",
       "      <td>4.359994e+08</td>\n",
       "    </tr>\n",
       "    <tr>\n",
       "      <th>years_since_registration</th>\n",
       "      <td>11468769.0</td>\n",
       "      <td>8.192433e+00</td>\n",
       "      <td>2.156347e+00</td>\n",
       "      <td>2.386301</td>\n",
       "      <td>6.336986e+00</td>\n",
       "      <td>8.421918e+00</td>\n",
       "      <td>9.832877e+00</td>\n",
       "      <td>1.364384e+01</td>\n",
       "    </tr>\n",
       "  </tbody>\n",
       "</table>\n",
       "</div>"
      ],
      "text/plain": [
       "                               count          mean           std  \\\n",
       "listing_id                11468769.0  2.279420e+07  1.415612e+07   \n",
       "available                 11468769.0  5.443685e-01  4.980276e-01   \n",
       "price                     11468769.0  9.095577e+01  1.175211e+02   \n",
       "minimum_nights            11468769.0  3.238779e+00  8.370485e+00   \n",
       "maximum_nights            11468769.0  9.822816e+02  8.305506e+02   \n",
       "latitude                  11468769.0  5.121678e+01  1.143767e-02   \n",
       "longitude                 11468769.0  4.413001e+00  1.682187e-02   \n",
       "accomodates               11468769.0  3.673475e+00  2.461185e+00   \n",
       "bedrooms                  11468769.0  1.492854e+00  8.853161e-01   \n",
       "beds                      11468769.0  2.190469e+00  1.722952e+00   \n",
       "host_id                   11468769.0  9.463499e+07  9.813248e+07   \n",
       "years_since_registration  11468769.0  8.192433e+00  2.156347e+00   \n",
       "\n",
       "                                    min           25%           50%  \\\n",
       "listing_id                 50904.000000  1.001510e+07  2.165832e+07   \n",
       "available                      0.000000  0.000000e+00  1.000000e+00   \n",
       "price                         14.000000  5.500000e+01  7.000000e+01   \n",
       "minimum_nights                 1.000000  1.000000e+00  2.000000e+00   \n",
       "maximum_nights                 1.000000  1.125000e+03  1.125000e+03   \n",
       "latitude                      51.162880  5.121157e+01  5.121865e+01   \n",
       "longitude                      4.290770  4.402130e+00  4.408870e+00   \n",
       "accomodates                    1.000000  2.000000e+00  3.000000e+00   \n",
       "bedrooms                       1.000000  1.000000e+00  1.000000e+00   \n",
       "beds                           1.000000  1.000000e+00  2.000000e+00   \n",
       "host_id                   234077.000000  1.599483e+07  4.894307e+07   \n",
       "years_since_registration       2.386301  6.336986e+00  8.421918e+00   \n",
       "\n",
       "                                   75%           max  \n",
       "listing_id                3.390546e+07  5.382519e+07  \n",
       "available                 1.000000e+00  1.000000e+00  \n",
       "price                     9.900000e+01  5.800000e+03  \n",
       "minimum_nights            2.000000e+00  3.000000e+02  \n",
       "maximum_nights            1.125000e+03  9.999000e+03  \n",
       "latitude                  5.122224e+01  5.134940e+01  \n",
       "longitude                 4.421600e+00  4.483470e+00  \n",
       "accomodates               4.000000e+00  1.600000e+01  \n",
       "bedrooms                  2.000000e+00  1.100000e+01  \n",
       "beds                      3.000000e+00  2.500000e+01  \n",
       "host_id                   1.654369e+08  4.359994e+08  \n",
       "years_since_registration  9.832877e+00  1.364384e+01  "
      ]
     },
     "execution_count": 35,
     "metadata": {},
     "output_type": "execute_result"
    }
   ],
   "source": [
    "Airbnb1.describe().T"
   ]
  },
  {
   "cell_type": "markdown",
   "id": "88b3496f",
   "metadata": {},
   "source": [
    "# outlier detection"
   ]
  },
  {
   "cell_type": "code",
   "execution_count": 70,
   "id": "b8317ca7",
   "metadata": {},
   "outputs": [],
   "source": [
    "#finding out the highest and the lowest allowed value\n",
    "ul=Airbnb1['price'].mean()+(3*Airbnb1['price'].std())\n",
    "ll=Airbnb1['price'].mean()-(3*Airbnb1['price'].std())"
   ]
  },
  {
   "cell_type": "code",
   "execution_count": 71,
   "id": "bf5902c9",
   "metadata": {},
   "outputs": [
    {
     "name": "stdout",
     "output_type": "stream",
     "text": [
      "highest allowed value is 443.51921956836793\n",
      "least allowed value is -261.6076715959749\n"
     ]
    }
   ],
   "source": [
    "print('highest allowed value is',ul)\n",
    "print('least allowed value is',ll)"
   ]
  },
  {
   "cell_type": "code",
   "execution_count": 72,
   "id": "cd26602d",
   "metadata": {},
   "outputs": [
    {
     "data": {
      "text/html": [
       "<div>\n",
       "<style scoped>\n",
       "    .dataframe tbody tr th:only-of-type {\n",
       "        vertical-align: middle;\n",
       "    }\n",
       "\n",
       "    .dataframe tbody tr th {\n",
       "        vertical-align: top;\n",
       "    }\n",
       "\n",
       "    .dataframe thead th {\n",
       "        text-align: right;\n",
       "    }\n",
       "</style>\n",
       "<table border=\"1\" class=\"dataframe\">\n",
       "  <thead>\n",
       "    <tr style=\"text-align: right;\">\n",
       "      <th></th>\n",
       "      <th>listing_id</th>\n",
       "      <th>available</th>\n",
       "      <th>price</th>\n",
       "      <th>minimum_nights</th>\n",
       "      <th>maximum_nights</th>\n",
       "      <th>name</th>\n",
       "      <th>description</th>\n",
       "      <th>latitude</th>\n",
       "      <th>longitude</th>\n",
       "      <th>property_type</th>\n",
       "      <th>room_type</th>\n",
       "      <th>accomodates</th>\n",
       "      <th>bathrooms_text</th>\n",
       "      <th>bedrooms</th>\n",
       "      <th>beds</th>\n",
       "      <th>amenities</th>\n",
       "      <th>host_id</th>\n",
       "      <th>host_since</th>\n",
       "      <th>years_since_registration</th>\n",
       "    </tr>\n",
       "  </thead>\n",
       "  <tbody>\n",
       "    <tr>\n",
       "      <th>265551</th>\n",
       "      <td>36963744</td>\n",
       "      <td>0</td>\n",
       "      <td>1000.0</td>\n",
       "      <td>1</td>\n",
       "      <td>999</td>\n",
       "      <td>Cathedral view studio apartment</td>\n",
       "      <td>Featuring city views and free WiFi, Daily Apar...</td>\n",
       "      <td>51.22056</td>\n",
       "      <td>4.40143</td>\n",
       "      <td>Entire rental unit</td>\n",
       "      <td>Entire home/apt</td>\n",
       "      <td>4</td>\n",
       "      <td>1 bath</td>\n",
       "      <td>1.492854</td>\n",
       "      <td>1.0</td>\n",
       "      <td>[\"Hot water\", \"Refrigerator\", \"Long term stays...</td>\n",
       "      <td>277645495</td>\n",
       "      <td>2019-07-20</td>\n",
       "      <td>4.791781</td>\n",
       "    </tr>\n",
       "    <tr>\n",
       "      <th>265552</th>\n",
       "      <td>36963744</td>\n",
       "      <td>0</td>\n",
       "      <td>1000.0</td>\n",
       "      <td>1</td>\n",
       "      <td>999</td>\n",
       "      <td>Cathedral view studio apartment</td>\n",
       "      <td>Featuring city views and free WiFi, Daily Apar...</td>\n",
       "      <td>51.22056</td>\n",
       "      <td>4.40143</td>\n",
       "      <td>Entire rental unit</td>\n",
       "      <td>Entire home/apt</td>\n",
       "      <td>4</td>\n",
       "      <td>1 bath</td>\n",
       "      <td>1.492854</td>\n",
       "      <td>1.0</td>\n",
       "      <td>[\"Hot water\", \"Refrigerator\", \"Long term stays...</td>\n",
       "      <td>277645495</td>\n",
       "      <td>2019-07-20</td>\n",
       "      <td>4.791781</td>\n",
       "    </tr>\n",
       "    <tr>\n",
       "      <th>265553</th>\n",
       "      <td>36963744</td>\n",
       "      <td>0</td>\n",
       "      <td>1000.0</td>\n",
       "      <td>1</td>\n",
       "      <td>999</td>\n",
       "      <td>Cathedral view studio apartment</td>\n",
       "      <td>Featuring city views and free WiFi, Daily Apar...</td>\n",
       "      <td>51.22056</td>\n",
       "      <td>4.40143</td>\n",
       "      <td>Entire rental unit</td>\n",
       "      <td>Entire home/apt</td>\n",
       "      <td>4</td>\n",
       "      <td>1 bath</td>\n",
       "      <td>1.492854</td>\n",
       "      <td>1.0</td>\n",
       "      <td>[\"Hot water\", \"Refrigerator\", \"Long term stays...</td>\n",
       "      <td>277645495</td>\n",
       "      <td>2019-07-20</td>\n",
       "      <td>4.791781</td>\n",
       "    </tr>\n",
       "    <tr>\n",
       "      <th>265554</th>\n",
       "      <td>36963744</td>\n",
       "      <td>0</td>\n",
       "      <td>1000.0</td>\n",
       "      <td>1</td>\n",
       "      <td>999</td>\n",
       "      <td>Cathedral view studio apartment</td>\n",
       "      <td>Featuring city views and free WiFi, Daily Apar...</td>\n",
       "      <td>51.22056</td>\n",
       "      <td>4.40143</td>\n",
       "      <td>Entire rental unit</td>\n",
       "      <td>Entire home/apt</td>\n",
       "      <td>4</td>\n",
       "      <td>1 bath</td>\n",
       "      <td>1.492854</td>\n",
       "      <td>1.0</td>\n",
       "      <td>[\"Hot water\", \"Refrigerator\", \"Long term stays...</td>\n",
       "      <td>277645495</td>\n",
       "      <td>2019-07-20</td>\n",
       "      <td>4.791781</td>\n",
       "    </tr>\n",
       "    <tr>\n",
       "      <th>265555</th>\n",
       "      <td>36963744</td>\n",
       "      <td>0</td>\n",
       "      <td>1000.0</td>\n",
       "      <td>1</td>\n",
       "      <td>999</td>\n",
       "      <td>Cathedral view studio apartment</td>\n",
       "      <td>Featuring city views and free WiFi, Daily Apar...</td>\n",
       "      <td>51.22056</td>\n",
       "      <td>4.40143</td>\n",
       "      <td>Entire rental unit</td>\n",
       "      <td>Entire home/apt</td>\n",
       "      <td>4</td>\n",
       "      <td>1 bath</td>\n",
       "      <td>1.492854</td>\n",
       "      <td>1.0</td>\n",
       "      <td>[\"Hot water\", \"Refrigerator\", \"Long term stays...</td>\n",
       "      <td>277645495</td>\n",
       "      <td>2019-07-20</td>\n",
       "      <td>4.791781</td>\n",
       "    </tr>\n",
       "    <tr>\n",
       "      <th>...</th>\n",
       "      <td>...</td>\n",
       "      <td>...</td>\n",
       "      <td>...</td>\n",
       "      <td>...</td>\n",
       "      <td>...</td>\n",
       "      <td>...</td>\n",
       "      <td>...</td>\n",
       "      <td>...</td>\n",
       "      <td>...</td>\n",
       "      <td>...</td>\n",
       "      <td>...</td>\n",
       "      <td>...</td>\n",
       "      <td>...</td>\n",
       "      <td>...</td>\n",
       "      <td>...</td>\n",
       "      <td>...</td>\n",
       "      <td>...</td>\n",
       "      <td>...</td>\n",
       "      <td>...</td>\n",
       "    </tr>\n",
       "    <tr>\n",
       "      <th>11270074</th>\n",
       "      <td>522693</td>\n",
       "      <td>1</td>\n",
       "      <td>500.0</td>\n",
       "      <td>2</td>\n",
       "      <td>21</td>\n",
       "      <td>Ahome Awayfromhome</td>\n",
       "      <td>&lt;b&gt;The space&lt;/b&gt;&lt;br /&gt;Ahome. Away from home ! ...</td>\n",
       "      <td>51.22001</td>\n",
       "      <td>4.39813</td>\n",
       "      <td>Entire rental unit</td>\n",
       "      <td>Entire home/apt</td>\n",
       "      <td>4</td>\n",
       "      <td>1 bath</td>\n",
       "      <td>1.000000</td>\n",
       "      <td>2.0</td>\n",
       "      <td>[\"High chair\", \"Fire extinguisher\", \"Kitchen\",...</td>\n",
       "      <td>2562294</td>\n",
       "      <td>2012-06-06</td>\n",
       "      <td>11.915068</td>\n",
       "    </tr>\n",
       "    <tr>\n",
       "      <th>11270095</th>\n",
       "      <td>522693</td>\n",
       "      <td>1</td>\n",
       "      <td>500.0</td>\n",
       "      <td>2</td>\n",
       "      <td>21</td>\n",
       "      <td>Ahome Awayfromhome</td>\n",
       "      <td>&lt;b&gt;The space&lt;/b&gt;&lt;br /&gt;Ahome. Away from home ! ...</td>\n",
       "      <td>51.22001</td>\n",
       "      <td>4.39813</td>\n",
       "      <td>Entire rental unit</td>\n",
       "      <td>Entire home/apt</td>\n",
       "      <td>4</td>\n",
       "      <td>1 bath</td>\n",
       "      <td>1.000000</td>\n",
       "      <td>2.0</td>\n",
       "      <td>[\"High chair\", \"Fire extinguisher\", \"Kitchen\",...</td>\n",
       "      <td>2562294</td>\n",
       "      <td>2012-06-06</td>\n",
       "      <td>11.915068</td>\n",
       "    </tr>\n",
       "    <tr>\n",
       "      <th>11270096</th>\n",
       "      <td>522693</td>\n",
       "      <td>1</td>\n",
       "      <td>500.0</td>\n",
       "      <td>2</td>\n",
       "      <td>21</td>\n",
       "      <td>Ahome Awayfromhome</td>\n",
       "      <td>&lt;b&gt;The space&lt;/b&gt;&lt;br /&gt;Ahome. Away from home ! ...</td>\n",
       "      <td>51.22001</td>\n",
       "      <td>4.39813</td>\n",
       "      <td>Entire rental unit</td>\n",
       "      <td>Entire home/apt</td>\n",
       "      <td>4</td>\n",
       "      <td>1 bath</td>\n",
       "      <td>1.000000</td>\n",
       "      <td>2.0</td>\n",
       "      <td>[\"High chair\", \"Fire extinguisher\", \"Kitchen\",...</td>\n",
       "      <td>2562294</td>\n",
       "      <td>2012-06-06</td>\n",
       "      <td>11.915068</td>\n",
       "    </tr>\n",
       "    <tr>\n",
       "      <th>11270097</th>\n",
       "      <td>522693</td>\n",
       "      <td>1</td>\n",
       "      <td>500.0</td>\n",
       "      <td>2</td>\n",
       "      <td>21</td>\n",
       "      <td>Ahome Awayfromhome</td>\n",
       "      <td>&lt;b&gt;The space&lt;/b&gt;&lt;br /&gt;Ahome. Away from home ! ...</td>\n",
       "      <td>51.22001</td>\n",
       "      <td>4.39813</td>\n",
       "      <td>Entire rental unit</td>\n",
       "      <td>Entire home/apt</td>\n",
       "      <td>4</td>\n",
       "      <td>1 bath</td>\n",
       "      <td>1.000000</td>\n",
       "      <td>2.0</td>\n",
       "      <td>[\"High chair\", \"Fire extinguisher\", \"Kitchen\",...</td>\n",
       "      <td>2562294</td>\n",
       "      <td>2012-06-06</td>\n",
       "      <td>11.915068</td>\n",
       "    </tr>\n",
       "    <tr>\n",
       "      <th>11270098</th>\n",
       "      <td>522693</td>\n",
       "      <td>1</td>\n",
       "      <td>500.0</td>\n",
       "      <td>2</td>\n",
       "      <td>21</td>\n",
       "      <td>Ahome Awayfromhome</td>\n",
       "      <td>&lt;b&gt;The space&lt;/b&gt;&lt;br /&gt;Ahome. Away from home ! ...</td>\n",
       "      <td>51.22001</td>\n",
       "      <td>4.39813</td>\n",
       "      <td>Entire rental unit</td>\n",
       "      <td>Entire home/apt</td>\n",
       "      <td>4</td>\n",
       "      <td>1 bath</td>\n",
       "      <td>1.000000</td>\n",
       "      <td>2.0</td>\n",
       "      <td>[\"High chair\", \"Fire extinguisher\", \"Kitchen\",...</td>\n",
       "      <td>2562294</td>\n",
       "      <td>2012-06-06</td>\n",
       "      <td>11.915068</td>\n",
       "    </tr>\n",
       "  </tbody>\n",
       "</table>\n",
       "<p>116488 rows × 19 columns</p>\n",
       "</div>"
      ],
      "text/plain": [
       "          listing_id  available   price  minimum_nights  maximum_nights  \\\n",
       "265551      36963744          0  1000.0               1             999   \n",
       "265552      36963744          0  1000.0               1             999   \n",
       "265553      36963744          0  1000.0               1             999   \n",
       "265554      36963744          0  1000.0               1             999   \n",
       "265555      36963744          0  1000.0               1             999   \n",
       "...              ...        ...     ...             ...             ...   \n",
       "11270074      522693          1   500.0               2              21   \n",
       "11270095      522693          1   500.0               2              21   \n",
       "11270096      522693          1   500.0               2              21   \n",
       "11270097      522693          1   500.0               2              21   \n",
       "11270098      522693          1   500.0               2              21   \n",
       "\n",
       "                                     name  \\\n",
       "265551    Cathedral view studio apartment   \n",
       "265552    Cathedral view studio apartment   \n",
       "265553    Cathedral view studio apartment   \n",
       "265554    Cathedral view studio apartment   \n",
       "265555    Cathedral view studio apartment   \n",
       "...                                   ...   \n",
       "11270074               Ahome Awayfromhome   \n",
       "11270095               Ahome Awayfromhome   \n",
       "11270096               Ahome Awayfromhome   \n",
       "11270097               Ahome Awayfromhome   \n",
       "11270098               Ahome Awayfromhome   \n",
       "\n",
       "                                                description  latitude  \\\n",
       "265551    Featuring city views and free WiFi, Daily Apar...  51.22056   \n",
       "265552    Featuring city views and free WiFi, Daily Apar...  51.22056   \n",
       "265553    Featuring city views and free WiFi, Daily Apar...  51.22056   \n",
       "265554    Featuring city views and free WiFi, Daily Apar...  51.22056   \n",
       "265555    Featuring city views and free WiFi, Daily Apar...  51.22056   \n",
       "...                                                     ...       ...   \n",
       "11270074  <b>The space</b><br />Ahome. Away from home ! ...  51.22001   \n",
       "11270095  <b>The space</b><br />Ahome. Away from home ! ...  51.22001   \n",
       "11270096  <b>The space</b><br />Ahome. Away from home ! ...  51.22001   \n",
       "11270097  <b>The space</b><br />Ahome. Away from home ! ...  51.22001   \n",
       "11270098  <b>The space</b><br />Ahome. Away from home ! ...  51.22001   \n",
       "\n",
       "          longitude       property_type        room_type  accomodates  \\\n",
       "265551      4.40143  Entire rental unit  Entire home/apt            4   \n",
       "265552      4.40143  Entire rental unit  Entire home/apt            4   \n",
       "265553      4.40143  Entire rental unit  Entire home/apt            4   \n",
       "265554      4.40143  Entire rental unit  Entire home/apt            4   \n",
       "265555      4.40143  Entire rental unit  Entire home/apt            4   \n",
       "...             ...                 ...              ...          ...   \n",
       "11270074    4.39813  Entire rental unit  Entire home/apt            4   \n",
       "11270095    4.39813  Entire rental unit  Entire home/apt            4   \n",
       "11270096    4.39813  Entire rental unit  Entire home/apt            4   \n",
       "11270097    4.39813  Entire rental unit  Entire home/apt            4   \n",
       "11270098    4.39813  Entire rental unit  Entire home/apt            4   \n",
       "\n",
       "         bathrooms_text  bedrooms  beds  \\\n",
       "265551           1 bath  1.492854   1.0   \n",
       "265552           1 bath  1.492854   1.0   \n",
       "265553           1 bath  1.492854   1.0   \n",
       "265554           1 bath  1.492854   1.0   \n",
       "265555           1 bath  1.492854   1.0   \n",
       "...                 ...       ...   ...   \n",
       "11270074         1 bath  1.000000   2.0   \n",
       "11270095         1 bath  1.000000   2.0   \n",
       "11270096         1 bath  1.000000   2.0   \n",
       "11270097         1 bath  1.000000   2.0   \n",
       "11270098         1 bath  1.000000   2.0   \n",
       "\n",
       "                                                  amenities    host_id  \\\n",
       "265551    [\"Hot water\", \"Refrigerator\", \"Long term stays...  277645495   \n",
       "265552    [\"Hot water\", \"Refrigerator\", \"Long term stays...  277645495   \n",
       "265553    [\"Hot water\", \"Refrigerator\", \"Long term stays...  277645495   \n",
       "265554    [\"Hot water\", \"Refrigerator\", \"Long term stays...  277645495   \n",
       "265555    [\"Hot water\", \"Refrigerator\", \"Long term stays...  277645495   \n",
       "...                                                     ...        ...   \n",
       "11270074  [\"High chair\", \"Fire extinguisher\", \"Kitchen\",...    2562294   \n",
       "11270095  [\"High chair\", \"Fire extinguisher\", \"Kitchen\",...    2562294   \n",
       "11270096  [\"High chair\", \"Fire extinguisher\", \"Kitchen\",...    2562294   \n",
       "11270097  [\"High chair\", \"Fire extinguisher\", \"Kitchen\",...    2562294   \n",
       "11270098  [\"High chair\", \"Fire extinguisher\", \"Kitchen\",...    2562294   \n",
       "\n",
       "         host_since  years_since_registration  \n",
       "265551   2019-07-20                  4.791781  \n",
       "265552   2019-07-20                  4.791781  \n",
       "265553   2019-07-20                  4.791781  \n",
       "265554   2019-07-20                  4.791781  \n",
       "265555   2019-07-20                  4.791781  \n",
       "...             ...                       ...  \n",
       "11270074 2012-06-06                 11.915068  \n",
       "11270095 2012-06-06                 11.915068  \n",
       "11270096 2012-06-06                 11.915068  \n",
       "11270097 2012-06-06                 11.915068  \n",
       "11270098 2012-06-06                 11.915068  \n",
       "\n",
       "[116488 rows x 19 columns]"
      ]
     },
     "execution_count": 72,
     "metadata": {},
     "output_type": "execute_result"
    }
   ],
   "source": [
    "#find out outlier\n",
    "Airbnb1[(Airbnb1['price']<ll)|(Airbnb1['price']>ul)]"
   ]
  },
  {
   "cell_type": "code",
   "execution_count": 73,
   "id": "eff0dd85",
   "metadata": {},
   "outputs": [
    {
     "data": {
      "text/html": [
       "<div>\n",
       "<style scoped>\n",
       "    .dataframe tbody tr th:only-of-type {\n",
       "        vertical-align: middle;\n",
       "    }\n",
       "\n",
       "    .dataframe tbody tr th {\n",
       "        vertical-align: top;\n",
       "    }\n",
       "\n",
       "    .dataframe thead th {\n",
       "        text-align: right;\n",
       "    }\n",
       "</style>\n",
       "<table border=\"1\" class=\"dataframe\">\n",
       "  <thead>\n",
       "    <tr style=\"text-align: right;\">\n",
       "      <th></th>\n",
       "      <th>listing_id</th>\n",
       "      <th>available</th>\n",
       "      <th>price</th>\n",
       "      <th>minimum_nights</th>\n",
       "      <th>maximum_nights</th>\n",
       "      <th>name</th>\n",
       "      <th>description</th>\n",
       "      <th>latitude</th>\n",
       "      <th>longitude</th>\n",
       "      <th>property_type</th>\n",
       "      <th>room_type</th>\n",
       "      <th>accomodates</th>\n",
       "      <th>bathrooms_text</th>\n",
       "      <th>bedrooms</th>\n",
       "      <th>beds</th>\n",
       "      <th>amenities</th>\n",
       "      <th>host_id</th>\n",
       "      <th>host_since</th>\n",
       "      <th>years_since_registration</th>\n",
       "    </tr>\n",
       "  </thead>\n",
       "  <tbody>\n",
       "    <tr>\n",
       "      <th>0</th>\n",
       "      <td>40334325</td>\n",
       "      <td>0</td>\n",
       "      <td>56.0</td>\n",
       "      <td>3</td>\n",
       "      <td>5</td>\n",
       "      <td>Luxurious flat in central location</td>\n",
       "      <td>Luxurious flat in Antwerp close to various pub...</td>\n",
       "      <td>51.20989</td>\n",
       "      <td>4.42298</td>\n",
       "      <td>Entire rental unit</td>\n",
       "      <td>Entire home/apt</td>\n",
       "      <td>2</td>\n",
       "      <td>1 bath</td>\n",
       "      <td>1.492854</td>\n",
       "      <td>2.0</td>\n",
       "      <td>[\"Hot water\", \"Refrigerator\", \"Private entranc...</td>\n",
       "      <td>311556587</td>\n",
       "      <td>2019-11-23</td>\n",
       "      <td>4.446575</td>\n",
       "    </tr>\n",
       "    <tr>\n",
       "      <th>1</th>\n",
       "      <td>40334325</td>\n",
       "      <td>1</td>\n",
       "      <td>56.0</td>\n",
       "      <td>3</td>\n",
       "      <td>5</td>\n",
       "      <td>Luxurious flat in central location</td>\n",
       "      <td>Luxurious flat in Antwerp close to various pub...</td>\n",
       "      <td>51.20989</td>\n",
       "      <td>4.42298</td>\n",
       "      <td>Entire rental unit</td>\n",
       "      <td>Entire home/apt</td>\n",
       "      <td>2</td>\n",
       "      <td>1 bath</td>\n",
       "      <td>1.492854</td>\n",
       "      <td>2.0</td>\n",
       "      <td>[\"Hot water\", \"Refrigerator\", \"Private entranc...</td>\n",
       "      <td>311556587</td>\n",
       "      <td>2019-11-23</td>\n",
       "      <td>4.446575</td>\n",
       "    </tr>\n",
       "    <tr>\n",
       "      <th>2</th>\n",
       "      <td>40334325</td>\n",
       "      <td>0</td>\n",
       "      <td>56.0</td>\n",
       "      <td>3</td>\n",
       "      <td>5</td>\n",
       "      <td>Luxurious flat in central location</td>\n",
       "      <td>Luxurious flat in Antwerp close to various pub...</td>\n",
       "      <td>51.20989</td>\n",
       "      <td>4.42298</td>\n",
       "      <td>Entire rental unit</td>\n",
       "      <td>Entire home/apt</td>\n",
       "      <td>2</td>\n",
       "      <td>1 bath</td>\n",
       "      <td>1.492854</td>\n",
       "      <td>2.0</td>\n",
       "      <td>[\"Hot water\", \"Refrigerator\", \"Private entranc...</td>\n",
       "      <td>311556587</td>\n",
       "      <td>2019-11-23</td>\n",
       "      <td>4.446575</td>\n",
       "    </tr>\n",
       "    <tr>\n",
       "      <th>3</th>\n",
       "      <td>40334325</td>\n",
       "      <td>0</td>\n",
       "      <td>56.0</td>\n",
       "      <td>3</td>\n",
       "      <td>5</td>\n",
       "      <td>Luxurious flat in central location</td>\n",
       "      <td>Luxurious flat in Antwerp close to various pub...</td>\n",
       "      <td>51.20989</td>\n",
       "      <td>4.42298</td>\n",
       "      <td>Entire rental unit</td>\n",
       "      <td>Entire home/apt</td>\n",
       "      <td>2</td>\n",
       "      <td>1 bath</td>\n",
       "      <td>1.492854</td>\n",
       "      <td>2.0</td>\n",
       "      <td>[\"Hot water\", \"Refrigerator\", \"Private entranc...</td>\n",
       "      <td>311556587</td>\n",
       "      <td>2019-11-23</td>\n",
       "      <td>4.446575</td>\n",
       "    </tr>\n",
       "    <tr>\n",
       "      <th>4</th>\n",
       "      <td>40334325</td>\n",
       "      <td>0</td>\n",
       "      <td>56.0</td>\n",
       "      <td>3</td>\n",
       "      <td>5</td>\n",
       "      <td>Luxurious flat in central location</td>\n",
       "      <td>Luxurious flat in Antwerp close to various pub...</td>\n",
       "      <td>51.20989</td>\n",
       "      <td>4.42298</td>\n",
       "      <td>Entire rental unit</td>\n",
       "      <td>Entire home/apt</td>\n",
       "      <td>2</td>\n",
       "      <td>1 bath</td>\n",
       "      <td>1.492854</td>\n",
       "      <td>2.0</td>\n",
       "      <td>[\"Hot water\", \"Refrigerator\", \"Private entranc...</td>\n",
       "      <td>311556587</td>\n",
       "      <td>2019-11-23</td>\n",
       "      <td>4.446575</td>\n",
       "    </tr>\n",
       "    <tr>\n",
       "      <th>...</th>\n",
       "      <td>...</td>\n",
       "      <td>...</td>\n",
       "      <td>...</td>\n",
       "      <td>...</td>\n",
       "      <td>...</td>\n",
       "      <td>...</td>\n",
       "      <td>...</td>\n",
       "      <td>...</td>\n",
       "      <td>...</td>\n",
       "      <td>...</td>\n",
       "      <td>...</td>\n",
       "      <td>...</td>\n",
       "      <td>...</td>\n",
       "      <td>...</td>\n",
       "      <td>...</td>\n",
       "      <td>...</td>\n",
       "      <td>...</td>\n",
       "      <td>...</td>\n",
       "      <td>...</td>\n",
       "    </tr>\n",
       "    <tr>\n",
       "      <th>11468764</th>\n",
       "      <td>35379310</td>\n",
       "      <td>1</td>\n",
       "      <td>60.0</td>\n",
       "      <td>1</td>\n",
       "      <td>1125</td>\n",
       "      <td>Paz, conforto e tranquilidade tranquilidade</td>\n",
       "      <td>Espaço tranquilo ,quarto  com guarda roupa med...</td>\n",
       "      <td>51.21017</td>\n",
       "      <td>4.45431</td>\n",
       "      <td>Private room in rental unit</td>\n",
       "      <td>Private room</td>\n",
       "      <td>1</td>\n",
       "      <td>1 shared bath</td>\n",
       "      <td>1.000000</td>\n",
       "      <td>1.0</td>\n",
       "      <td>[\"Hot water\", \"Fire extinguisher\", \"Long term ...</td>\n",
       "      <td>265837980</td>\n",
       "      <td>2019-06-02</td>\n",
       "      <td>4.923288</td>\n",
       "    </tr>\n",
       "    <tr>\n",
       "      <th>11468765</th>\n",
       "      <td>35379310</td>\n",
       "      <td>1</td>\n",
       "      <td>60.0</td>\n",
       "      <td>1</td>\n",
       "      <td>1125</td>\n",
       "      <td>Paz, conforto e tranquilidade tranquilidade</td>\n",
       "      <td>Espaço tranquilo ,quarto  com guarda roupa med...</td>\n",
       "      <td>51.21017</td>\n",
       "      <td>4.45431</td>\n",
       "      <td>Private room in rental unit</td>\n",
       "      <td>Private room</td>\n",
       "      <td>1</td>\n",
       "      <td>1 shared bath</td>\n",
       "      <td>1.000000</td>\n",
       "      <td>1.0</td>\n",
       "      <td>[\"Hot water\", \"Fire extinguisher\", \"Long term ...</td>\n",
       "      <td>265837980</td>\n",
       "      <td>2019-06-02</td>\n",
       "      <td>4.923288</td>\n",
       "    </tr>\n",
       "    <tr>\n",
       "      <th>11468766</th>\n",
       "      <td>35379310</td>\n",
       "      <td>1</td>\n",
       "      <td>60.0</td>\n",
       "      <td>1</td>\n",
       "      <td>1125</td>\n",
       "      <td>Paz, conforto e tranquilidade tranquilidade</td>\n",
       "      <td>Espaço tranquilo ,quarto  com guarda roupa med...</td>\n",
       "      <td>51.21017</td>\n",
       "      <td>4.45431</td>\n",
       "      <td>Private room in rental unit</td>\n",
       "      <td>Private room</td>\n",
       "      <td>1</td>\n",
       "      <td>1 shared bath</td>\n",
       "      <td>1.000000</td>\n",
       "      <td>1.0</td>\n",
       "      <td>[\"Hot water\", \"Fire extinguisher\", \"Long term ...</td>\n",
       "      <td>265837980</td>\n",
       "      <td>2019-06-02</td>\n",
       "      <td>4.923288</td>\n",
       "    </tr>\n",
       "    <tr>\n",
       "      <th>11468767</th>\n",
       "      <td>35379310</td>\n",
       "      <td>1</td>\n",
       "      <td>60.0</td>\n",
       "      <td>1</td>\n",
       "      <td>1125</td>\n",
       "      <td>Paz, conforto e tranquilidade tranquilidade</td>\n",
       "      <td>Espaço tranquilo ,quarto  com guarda roupa med...</td>\n",
       "      <td>51.21017</td>\n",
       "      <td>4.45431</td>\n",
       "      <td>Private room in rental unit</td>\n",
       "      <td>Private room</td>\n",
       "      <td>1</td>\n",
       "      <td>1 shared bath</td>\n",
       "      <td>1.000000</td>\n",
       "      <td>1.0</td>\n",
       "      <td>[\"Hot water\", \"Fire extinguisher\", \"Long term ...</td>\n",
       "      <td>265837980</td>\n",
       "      <td>2019-06-02</td>\n",
       "      <td>4.923288</td>\n",
       "    </tr>\n",
       "    <tr>\n",
       "      <th>11468768</th>\n",
       "      <td>35379310</td>\n",
       "      <td>1</td>\n",
       "      <td>60.0</td>\n",
       "      <td>1</td>\n",
       "      <td>1125</td>\n",
       "      <td>Paz, conforto e tranquilidade tranquilidade</td>\n",
       "      <td>Espaço tranquilo ,quarto  com guarda roupa med...</td>\n",
       "      <td>51.21017</td>\n",
       "      <td>4.45431</td>\n",
       "      <td>Private room in rental unit</td>\n",
       "      <td>Private room</td>\n",
       "      <td>1</td>\n",
       "      <td>1 shared bath</td>\n",
       "      <td>1.000000</td>\n",
       "      <td>1.0</td>\n",
       "      <td>[\"Hot water\", \"Fire extinguisher\", \"Long term ...</td>\n",
       "      <td>265837980</td>\n",
       "      <td>2019-06-02</td>\n",
       "      <td>4.923288</td>\n",
       "    </tr>\n",
       "  </tbody>\n",
       "</table>\n",
       "<p>11352281 rows × 19 columns</p>\n",
       "</div>"
      ],
      "text/plain": [
       "          listing_id  available  price  minimum_nights  maximum_nights  \\\n",
       "0           40334325          0   56.0               3               5   \n",
       "1           40334325          1   56.0               3               5   \n",
       "2           40334325          0   56.0               3               5   \n",
       "3           40334325          0   56.0               3               5   \n",
       "4           40334325          0   56.0               3               5   \n",
       "...              ...        ...    ...             ...             ...   \n",
       "11468764    35379310          1   60.0               1            1125   \n",
       "11468765    35379310          1   60.0               1            1125   \n",
       "11468766    35379310          1   60.0               1            1125   \n",
       "11468767    35379310          1   60.0               1            1125   \n",
       "11468768    35379310          1   60.0               1            1125   \n",
       "\n",
       "                                                 name  \\\n",
       "0                  Luxurious flat in central location   \n",
       "1                  Luxurious flat in central location   \n",
       "2                  Luxurious flat in central location   \n",
       "3                  Luxurious flat in central location   \n",
       "4                  Luxurious flat in central location   \n",
       "...                                               ...   \n",
       "11468764  Paz, conforto e tranquilidade tranquilidade   \n",
       "11468765  Paz, conforto e tranquilidade tranquilidade   \n",
       "11468766  Paz, conforto e tranquilidade tranquilidade   \n",
       "11468767  Paz, conforto e tranquilidade tranquilidade   \n",
       "11468768  Paz, conforto e tranquilidade tranquilidade   \n",
       "\n",
       "                                                description  latitude  \\\n",
       "0         Luxurious flat in Antwerp close to various pub...  51.20989   \n",
       "1         Luxurious flat in Antwerp close to various pub...  51.20989   \n",
       "2         Luxurious flat in Antwerp close to various pub...  51.20989   \n",
       "3         Luxurious flat in Antwerp close to various pub...  51.20989   \n",
       "4         Luxurious flat in Antwerp close to various pub...  51.20989   \n",
       "...                                                     ...       ...   \n",
       "11468764  Espaço tranquilo ,quarto  com guarda roupa med...  51.21017   \n",
       "11468765  Espaço tranquilo ,quarto  com guarda roupa med...  51.21017   \n",
       "11468766  Espaço tranquilo ,quarto  com guarda roupa med...  51.21017   \n",
       "11468767  Espaço tranquilo ,quarto  com guarda roupa med...  51.21017   \n",
       "11468768  Espaço tranquilo ,quarto  com guarda roupa med...  51.21017   \n",
       "\n",
       "          longitude                property_type        room_type  \\\n",
       "0           4.42298           Entire rental unit  Entire home/apt   \n",
       "1           4.42298           Entire rental unit  Entire home/apt   \n",
       "2           4.42298           Entire rental unit  Entire home/apt   \n",
       "3           4.42298           Entire rental unit  Entire home/apt   \n",
       "4           4.42298           Entire rental unit  Entire home/apt   \n",
       "...             ...                          ...              ...   \n",
       "11468764    4.45431  Private room in rental unit     Private room   \n",
       "11468765    4.45431  Private room in rental unit     Private room   \n",
       "11468766    4.45431  Private room in rental unit     Private room   \n",
       "11468767    4.45431  Private room in rental unit     Private room   \n",
       "11468768    4.45431  Private room in rental unit     Private room   \n",
       "\n",
       "          accomodates bathrooms_text  bedrooms  beds  \\\n",
       "0                   2         1 bath  1.492854   2.0   \n",
       "1                   2         1 bath  1.492854   2.0   \n",
       "2                   2         1 bath  1.492854   2.0   \n",
       "3                   2         1 bath  1.492854   2.0   \n",
       "4                   2         1 bath  1.492854   2.0   \n",
       "...               ...            ...       ...   ...   \n",
       "11468764            1  1 shared bath  1.000000   1.0   \n",
       "11468765            1  1 shared bath  1.000000   1.0   \n",
       "11468766            1  1 shared bath  1.000000   1.0   \n",
       "11468767            1  1 shared bath  1.000000   1.0   \n",
       "11468768            1  1 shared bath  1.000000   1.0   \n",
       "\n",
       "                                                  amenities    host_id  \\\n",
       "0         [\"Hot water\", \"Refrigerator\", \"Private entranc...  311556587   \n",
       "1         [\"Hot water\", \"Refrigerator\", \"Private entranc...  311556587   \n",
       "2         [\"Hot water\", \"Refrigerator\", \"Private entranc...  311556587   \n",
       "3         [\"Hot water\", \"Refrigerator\", \"Private entranc...  311556587   \n",
       "4         [\"Hot water\", \"Refrigerator\", \"Private entranc...  311556587   \n",
       "...                                                     ...        ...   \n",
       "11468764  [\"Hot water\", \"Fire extinguisher\", \"Long term ...  265837980   \n",
       "11468765  [\"Hot water\", \"Fire extinguisher\", \"Long term ...  265837980   \n",
       "11468766  [\"Hot water\", \"Fire extinguisher\", \"Long term ...  265837980   \n",
       "11468767  [\"Hot water\", \"Fire extinguisher\", \"Long term ...  265837980   \n",
       "11468768  [\"Hot water\", \"Fire extinguisher\", \"Long term ...  265837980   \n",
       "\n",
       "         host_since  years_since_registration  \n",
       "0        2019-11-23                  4.446575  \n",
       "1        2019-11-23                  4.446575  \n",
       "2        2019-11-23                  4.446575  \n",
       "3        2019-11-23                  4.446575  \n",
       "4        2019-11-23                  4.446575  \n",
       "...             ...                       ...  \n",
       "11468764 2019-06-02                  4.923288  \n",
       "11468765 2019-06-02                  4.923288  \n",
       "11468766 2019-06-02                  4.923288  \n",
       "11468767 2019-06-02                  4.923288  \n",
       "11468768 2019-06-02                  4.923288  \n",
       "\n",
       "[11352281 rows x 19 columns]"
      ]
     },
     "execution_count": 73,
     "metadata": {},
     "output_type": "execute_result"
    }
   ],
   "source": [
    "#Trimming---remove the outlier\n",
    "Airbnb1[(Airbnb1['price']>ll)&(Airbnb1['price']<ul)]"
   ]
  },
  {
   "cell_type": "code",
   "execution_count": 75,
   "id": "edbd0982",
   "metadata": {},
   "outputs": [],
   "source": [
    "#winsorization\n",
    "from scipy.stats.mstats import winsorize\n",
    "Airbnb1['price']=winsorize(Airbnb1['price'],limits=[.1,.2])"
   ]
  },
  {
   "cell_type": "code",
   "execution_count": 76,
   "id": "1d6b3288",
   "metadata": {},
   "outputs": [
    {
     "data": {
      "text/plain": [
       "<Axes: ylabel='price'>"
      ]
     },
     "execution_count": 76,
     "metadata": {},
     "output_type": "execute_result"
    },
    {
     "data": {
      "image/png": "[encoded data removed]",
      "text/plain": [
       "<Figure size 640x480 with 1 Axes>"
      ]
     },
     "metadata": {},
     "output_type": "display_data"
    }
   ],
   "source": [
    "sns.boxplot(y=Airbnb1['price'],data=Airbnb1)"
   ]
  },
  {
   "cell_type": "code",
   "execution_count": 54,
   "id": "b802fbf7",
   "metadata": {},
   "outputs": [
    {
     "data": {
      "image/png": "[encoded data removed]",
      "text/plain": [
       "<Figure size 640x480 with 1 Axes>"
      ]
     },
     "metadata": {},
     "output_type": "display_data"
    }
   ],
   "source": [
    "sns.scatterplot(x='price', y='bedrooms', data=Airbnb)\n",
    "plt.xlabel('Price')\n",
    "plt.ylabel('Number of Bedrooms')\n",
    "plt.title('Scatter Plot of Price vs. Number of Bedrooms')\n",
    "plt.show()\n"
   ]
  },
  {
   "cell_type": "markdown",
   "id": "4f9d3234",
   "metadata": {},
   "source": [
    "prices generally increasing with the number of bedrooms, it indicates a positive correlation between price and the size of the accommodation."
   ]
  },
  {
   "cell_type": "code",
   "execution_count": 78,
   "id": "34e1b667",
   "metadata": {},
   "outputs": [],
   "source": [
    "#finding out the highest and the lowest allowed value\n",
    "ul=Airbnb1['accomodates'].mean()+(3*Airbnb1['accomodates'].std())\n",
    "ll=Airbnb1['accomodates'].mean()-(3*Airbnb1['accomodates'].std())"
   ]
  },
  {
   "cell_type": "code",
   "execution_count": 79,
   "id": "4f763497",
   "metadata": {},
   "outputs": [
    {
     "name": "stdout",
     "output_type": "stream",
     "text": [
      "highest allowed value is 11.057028724448767\n",
      "least allowed value is -3.7100787597228226\n"
     ]
    }
   ],
   "source": [
    "print('highest allowed value is',ul)\n",
    "print('least allowed value is',ll)"
   ]
  },
  {
   "cell_type": "code",
   "execution_count": 80,
   "id": "158e60f9",
   "metadata": {},
   "outputs": [
    {
     "data": {
      "text/html": [
       "<div>\n",
       "<style scoped>\n",
       "    .dataframe tbody tr th:only-of-type {\n",
       "        vertical-align: middle;\n",
       "    }\n",
       "\n",
       "    .dataframe tbody tr th {\n",
       "        vertical-align: top;\n",
       "    }\n",
       "\n",
       "    .dataframe thead th {\n",
       "        text-align: right;\n",
       "    }\n",
       "</style>\n",
       "<table border=\"1\" class=\"dataframe\">\n",
       "  <thead>\n",
       "    <tr style=\"text-align: right;\">\n",
       "      <th></th>\n",
       "      <th>listing_id</th>\n",
       "      <th>available</th>\n",
       "      <th>price</th>\n",
       "      <th>minimum_nights</th>\n",
       "      <th>maximum_nights</th>\n",
       "      <th>name</th>\n",
       "      <th>description</th>\n",
       "      <th>latitude</th>\n",
       "      <th>longitude</th>\n",
       "      <th>property_type</th>\n",
       "      <th>room_type</th>\n",
       "      <th>accomodates</th>\n",
       "      <th>bathrooms_text</th>\n",
       "      <th>bedrooms</th>\n",
       "      <th>beds</th>\n",
       "      <th>amenities</th>\n",
       "      <th>host_id</th>\n",
       "      <th>host_since</th>\n",
       "      <th>years_since_registration</th>\n",
       "    </tr>\n",
       "  </thead>\n",
       "  <tbody>\n",
       "    <tr>\n",
       "      <th>359499</th>\n",
       "      <td>32135224</td>\n",
       "      <td>0</td>\n",
       "      <td>110.0</td>\n",
       "      <td>1</td>\n",
       "      <td>60</td>\n",
       "      <td>The House on Kleine Goddaard, great 4 large gr...</td>\n",
       "      <td>A Large but super cosy charismatic house smack...</td>\n",
       "      <td>51.22405</td>\n",
       "      <td>4.40347</td>\n",
       "      <td>Entire townhouse</td>\n",
       "      <td>Entire home/apt</td>\n",
       "      <td>16</td>\n",
       "      <td>3.5 baths</td>\n",
       "      <td>5.0</td>\n",
       "      <td>10.0</td>\n",
       "      <td>[\"Refrigerator\", \"Smoke alarm\", \"Shampoo\", \"Ha...</td>\n",
       "      <td>51924769</td>\n",
       "      <td>2015-12-21</td>\n",
       "      <td>8.372603</td>\n",
       "    </tr>\n",
       "    <tr>\n",
       "      <th>359500</th>\n",
       "      <td>32135224</td>\n",
       "      <td>0</td>\n",
       "      <td>110.0</td>\n",
       "      <td>1</td>\n",
       "      <td>60</td>\n",
       "      <td>The House on Kleine Goddaard, great 4 large gr...</td>\n",
       "      <td>A Large but super cosy charismatic house smack...</td>\n",
       "      <td>51.22405</td>\n",
       "      <td>4.40347</td>\n",
       "      <td>Entire townhouse</td>\n",
       "      <td>Entire home/apt</td>\n",
       "      <td>16</td>\n",
       "      <td>3.5 baths</td>\n",
       "      <td>5.0</td>\n",
       "      <td>10.0</td>\n",
       "      <td>[\"Refrigerator\", \"Smoke alarm\", \"Shampoo\", \"Ha...</td>\n",
       "      <td>51924769</td>\n",
       "      <td>2015-12-21</td>\n",
       "      <td>8.372603</td>\n",
       "    </tr>\n",
       "    <tr>\n",
       "      <th>359501</th>\n",
       "      <td>32135224</td>\n",
       "      <td>0</td>\n",
       "      <td>110.0</td>\n",
       "      <td>1</td>\n",
       "      <td>60</td>\n",
       "      <td>The House on Kleine Goddaard, great 4 large gr...</td>\n",
       "      <td>A Large but super cosy charismatic house smack...</td>\n",
       "      <td>51.22405</td>\n",
       "      <td>4.40347</td>\n",
       "      <td>Entire townhouse</td>\n",
       "      <td>Entire home/apt</td>\n",
       "      <td>16</td>\n",
       "      <td>3.5 baths</td>\n",
       "      <td>5.0</td>\n",
       "      <td>10.0</td>\n",
       "      <td>[\"Refrigerator\", \"Smoke alarm\", \"Shampoo\", \"Ha...</td>\n",
       "      <td>51924769</td>\n",
       "      <td>2015-12-21</td>\n",
       "      <td>8.372603</td>\n",
       "    </tr>\n",
       "    <tr>\n",
       "      <th>359502</th>\n",
       "      <td>32135224</td>\n",
       "      <td>0</td>\n",
       "      <td>110.0</td>\n",
       "      <td>1</td>\n",
       "      <td>60</td>\n",
       "      <td>The House on Kleine Goddaard, great 4 large gr...</td>\n",
       "      <td>A Large but super cosy charismatic house smack...</td>\n",
       "      <td>51.22405</td>\n",
       "      <td>4.40347</td>\n",
       "      <td>Entire townhouse</td>\n",
       "      <td>Entire home/apt</td>\n",
       "      <td>16</td>\n",
       "      <td>3.5 baths</td>\n",
       "      <td>5.0</td>\n",
       "      <td>10.0</td>\n",
       "      <td>[\"Refrigerator\", \"Smoke alarm\", \"Shampoo\", \"Ha...</td>\n",
       "      <td>51924769</td>\n",
       "      <td>2015-12-21</td>\n",
       "      <td>8.372603</td>\n",
       "    </tr>\n",
       "    <tr>\n",
       "      <th>359503</th>\n",
       "      <td>32135224</td>\n",
       "      <td>0</td>\n",
       "      <td>110.0</td>\n",
       "      <td>1</td>\n",
       "      <td>60</td>\n",
       "      <td>The House on Kleine Goddaard, great 4 large gr...</td>\n",
       "      <td>A Large but super cosy charismatic house smack...</td>\n",
       "      <td>51.22405</td>\n",
       "      <td>4.40347</td>\n",
       "      <td>Entire townhouse</td>\n",
       "      <td>Entire home/apt</td>\n",
       "      <td>16</td>\n",
       "      <td>3.5 baths</td>\n",
       "      <td>5.0</td>\n",
       "      <td>10.0</td>\n",
       "      <td>[\"Refrigerator\", \"Smoke alarm\", \"Shampoo\", \"Ha...</td>\n",
       "      <td>51924769</td>\n",
       "      <td>2015-12-21</td>\n",
       "      <td>8.372603</td>\n",
       "    </tr>\n",
       "    <tr>\n",
       "      <th>...</th>\n",
       "      <td>...</td>\n",
       "      <td>...</td>\n",
       "      <td>...</td>\n",
       "      <td>...</td>\n",
       "      <td>...</td>\n",
       "      <td>...</td>\n",
       "      <td>...</td>\n",
       "      <td>...</td>\n",
       "      <td>...</td>\n",
       "      <td>...</td>\n",
       "      <td>...</td>\n",
       "      <td>...</td>\n",
       "      <td>...</td>\n",
       "      <td>...</td>\n",
       "      <td>...</td>\n",
       "      <td>...</td>\n",
       "      <td>...</td>\n",
       "      <td>...</td>\n",
       "      <td>...</td>\n",
       "    </tr>\n",
       "    <tr>\n",
       "      <th>9946166</th>\n",
       "      <td>1328770</td>\n",
       "      <td>1</td>\n",
       "      <td>60.0</td>\n",
       "      <td>1</td>\n",
       "      <td>1125</td>\n",
       "      <td>Cosy historic Ship Hannus  Antwerp</td>\n",
       "      <td>Sailing vessel in the centre of Antwerp, ideal...</td>\n",
       "      <td>51.22875</td>\n",
       "      <td>4.40254</td>\n",
       "      <td>Private room in boat</td>\n",
       "      <td>Private room</td>\n",
       "      <td>16</td>\n",
       "      <td>2 shared baths</td>\n",
       "      <td>11.0</td>\n",
       "      <td>16.0</td>\n",
       "      <td>[\"Hot water\", \"Refrigerator\", \"Dishes and silv...</td>\n",
       "      <td>4193029</td>\n",
       "      <td>2012-11-19</td>\n",
       "      <td>11.460274</td>\n",
       "    </tr>\n",
       "    <tr>\n",
       "      <th>9946167</th>\n",
       "      <td>1328770</td>\n",
       "      <td>1</td>\n",
       "      <td>60.0</td>\n",
       "      <td>1</td>\n",
       "      <td>1125</td>\n",
       "      <td>Cosy historic Ship Hannus  Antwerp</td>\n",
       "      <td>Sailing vessel in the centre of Antwerp, ideal...</td>\n",
       "      <td>51.22875</td>\n",
       "      <td>4.40254</td>\n",
       "      <td>Private room in boat</td>\n",
       "      <td>Private room</td>\n",
       "      <td>16</td>\n",
       "      <td>2 shared baths</td>\n",
       "      <td>11.0</td>\n",
       "      <td>16.0</td>\n",
       "      <td>[\"Hot water\", \"Refrigerator\", \"Dishes and silv...</td>\n",
       "      <td>4193029</td>\n",
       "      <td>2012-11-19</td>\n",
       "      <td>11.460274</td>\n",
       "    </tr>\n",
       "    <tr>\n",
       "      <th>9946168</th>\n",
       "      <td>1328770</td>\n",
       "      <td>1</td>\n",
       "      <td>60.0</td>\n",
       "      <td>1</td>\n",
       "      <td>1125</td>\n",
       "      <td>Cosy historic Ship Hannus  Antwerp</td>\n",
       "      <td>Sailing vessel in the centre of Antwerp, ideal...</td>\n",
       "      <td>51.22875</td>\n",
       "      <td>4.40254</td>\n",
       "      <td>Private room in boat</td>\n",
       "      <td>Private room</td>\n",
       "      <td>16</td>\n",
       "      <td>2 shared baths</td>\n",
       "      <td>11.0</td>\n",
       "      <td>16.0</td>\n",
       "      <td>[\"Hot water\", \"Refrigerator\", \"Dishes and silv...</td>\n",
       "      <td>4193029</td>\n",
       "      <td>2012-11-19</td>\n",
       "      <td>11.460274</td>\n",
       "    </tr>\n",
       "    <tr>\n",
       "      <th>9946169</th>\n",
       "      <td>1328770</td>\n",
       "      <td>1</td>\n",
       "      <td>60.0</td>\n",
       "      <td>1</td>\n",
       "      <td>1125</td>\n",
       "      <td>Cosy historic Ship Hannus  Antwerp</td>\n",
       "      <td>Sailing vessel in the centre of Antwerp, ideal...</td>\n",
       "      <td>51.22875</td>\n",
       "      <td>4.40254</td>\n",
       "      <td>Private room in boat</td>\n",
       "      <td>Private room</td>\n",
       "      <td>16</td>\n",
       "      <td>2 shared baths</td>\n",
       "      <td>11.0</td>\n",
       "      <td>16.0</td>\n",
       "      <td>[\"Hot water\", \"Refrigerator\", \"Dishes and silv...</td>\n",
       "      <td>4193029</td>\n",
       "      <td>2012-11-19</td>\n",
       "      <td>11.460274</td>\n",
       "    </tr>\n",
       "    <tr>\n",
       "      <th>9946170</th>\n",
       "      <td>1328770</td>\n",
       "      <td>1</td>\n",
       "      <td>60.0</td>\n",
       "      <td>1</td>\n",
       "      <td>1125</td>\n",
       "      <td>Cosy historic Ship Hannus  Antwerp</td>\n",
       "      <td>Sailing vessel in the centre of Antwerp, ideal...</td>\n",
       "      <td>51.22875</td>\n",
       "      <td>4.40254</td>\n",
       "      <td>Private room in boat</td>\n",
       "      <td>Private room</td>\n",
       "      <td>16</td>\n",
       "      <td>2 shared baths</td>\n",
       "      <td>11.0</td>\n",
       "      <td>16.0</td>\n",
       "      <td>[\"Hot water\", \"Refrigerator\", \"Dishes and silv...</td>\n",
       "      <td>4193029</td>\n",
       "      <td>2012-11-19</td>\n",
       "      <td>11.460274</td>\n",
       "    </tr>\n",
       "  </tbody>\n",
       "</table>\n",
       "<p>331910 rows × 19 columns</p>\n",
       "</div>"
      ],
      "text/plain": [
       "         listing_id  available  price  minimum_nights  maximum_nights  \\\n",
       "359499     32135224          0  110.0               1              60   \n",
       "359500     32135224          0  110.0               1              60   \n",
       "359501     32135224          0  110.0               1              60   \n",
       "359502     32135224          0  110.0               1              60   \n",
       "359503     32135224          0  110.0               1              60   \n",
       "...             ...        ...    ...             ...             ...   \n",
       "9946166     1328770          1   60.0               1            1125   \n",
       "9946167     1328770          1   60.0               1            1125   \n",
       "9946168     1328770          1   60.0               1            1125   \n",
       "9946169     1328770          1   60.0               1            1125   \n",
       "9946170     1328770          1   60.0               1            1125   \n",
       "\n",
       "                                                      name  \\\n",
       "359499   The House on Kleine Goddaard, great 4 large gr...   \n",
       "359500   The House on Kleine Goddaard, great 4 large gr...   \n",
       "359501   The House on Kleine Goddaard, great 4 large gr...   \n",
       "359502   The House on Kleine Goddaard, great 4 large gr...   \n",
       "359503   The House on Kleine Goddaard, great 4 large gr...   \n",
       "...                                                    ...   \n",
       "9946166                 Cosy historic Ship Hannus  Antwerp   \n",
       "9946167                 Cosy historic Ship Hannus  Antwerp   \n",
       "9946168                 Cosy historic Ship Hannus  Antwerp   \n",
       "9946169                 Cosy historic Ship Hannus  Antwerp   \n",
       "9946170                 Cosy historic Ship Hannus  Antwerp   \n",
       "\n",
       "                                               description  latitude  \\\n",
       "359499   A Large but super cosy charismatic house smack...  51.22405   \n",
       "359500   A Large but super cosy charismatic house smack...  51.22405   \n",
       "359501   A Large but super cosy charismatic house smack...  51.22405   \n",
       "359502   A Large but super cosy charismatic house smack...  51.22405   \n",
       "359503   A Large but super cosy charismatic house smack...  51.22405   \n",
       "...                                                    ...       ...   \n",
       "9946166  Sailing vessel in the centre of Antwerp, ideal...  51.22875   \n",
       "9946167  Sailing vessel in the centre of Antwerp, ideal...  51.22875   \n",
       "9946168  Sailing vessel in the centre of Antwerp, ideal...  51.22875   \n",
       "9946169  Sailing vessel in the centre of Antwerp, ideal...  51.22875   \n",
       "9946170  Sailing vessel in the centre of Antwerp, ideal...  51.22875   \n",
       "\n",
       "         longitude         property_type        room_type  accomodates  \\\n",
       "359499     4.40347      Entire townhouse  Entire home/apt           16   \n",
       "359500     4.40347      Entire townhouse  Entire home/apt           16   \n",
       "359501     4.40347      Entire townhouse  Entire home/apt           16   \n",
       "359502     4.40347      Entire townhouse  Entire home/apt           16   \n",
       "359503     4.40347      Entire townhouse  Entire home/apt           16   \n",
       "...            ...                   ...              ...          ...   \n",
       "9946166    4.40254  Private room in boat     Private room           16   \n",
       "9946167    4.40254  Private room in boat     Private room           16   \n",
       "9946168    4.40254  Private room in boat     Private room           16   \n",
       "9946169    4.40254  Private room in boat     Private room           16   \n",
       "9946170    4.40254  Private room in boat     Private room           16   \n",
       "\n",
       "         bathrooms_text  bedrooms  beds  \\\n",
       "359499        3.5 baths       5.0  10.0   \n",
       "359500        3.5 baths       5.0  10.0   \n",
       "359501        3.5 baths       5.0  10.0   \n",
       "359502        3.5 baths       5.0  10.0   \n",
       "359503        3.5 baths       5.0  10.0   \n",
       "...                 ...       ...   ...   \n",
       "9946166  2 shared baths      11.0  16.0   \n",
       "9946167  2 shared baths      11.0  16.0   \n",
       "9946168  2 shared baths      11.0  16.0   \n",
       "9946169  2 shared baths      11.0  16.0   \n",
       "9946170  2 shared baths      11.0  16.0   \n",
       "\n",
       "                                                 amenities   host_id  \\\n",
       "359499   [\"Refrigerator\", \"Smoke alarm\", \"Shampoo\", \"Ha...  51924769   \n",
       "359500   [\"Refrigerator\", \"Smoke alarm\", \"Shampoo\", \"Ha...  51924769   \n",
       "359501   [\"Refrigerator\", \"Smoke alarm\", \"Shampoo\", \"Ha...  51924769   \n",
       "359502   [\"Refrigerator\", \"Smoke alarm\", \"Shampoo\", \"Ha...  51924769   \n",
       "359503   [\"Refrigerator\", \"Smoke alarm\", \"Shampoo\", \"Ha...  51924769   \n",
       "...                                                    ...       ...   \n",
       "9946166  [\"Hot water\", \"Refrigerator\", \"Dishes and silv...   4193029   \n",
       "9946167  [\"Hot water\", \"Refrigerator\", \"Dishes and silv...   4193029   \n",
       "9946168  [\"Hot water\", \"Refrigerator\", \"Dishes and silv...   4193029   \n",
       "9946169  [\"Hot water\", \"Refrigerator\", \"Dishes and silv...   4193029   \n",
       "9946170  [\"Hot water\", \"Refrigerator\", \"Dishes and silv...   4193029   \n",
       "\n",
       "        host_since  years_since_registration  \n",
       "359499  2015-12-21                  8.372603  \n",
       "359500  2015-12-21                  8.372603  \n",
       "359501  2015-12-21                  8.372603  \n",
       "359502  2015-12-21                  8.372603  \n",
       "359503  2015-12-21                  8.372603  \n",
       "...            ...                       ...  \n",
       "9946166 2012-11-19                 11.460274  \n",
       "9946167 2012-11-19                 11.460274  \n",
       "9946168 2012-11-19                 11.460274  \n",
       "9946169 2012-11-19                 11.460274  \n",
       "9946170 2012-11-19                 11.460274  \n",
       "\n",
       "[331910 rows x 19 columns]"
      ]
     },
     "execution_count": 80,
     "metadata": {},
     "output_type": "execute_result"
    }
   ],
   "source": [
    "#find out outlier\n",
    "Airbnb1[(Airbnb1['accomodates']<ll)|(Airbnb1['accomodates']>ul)]"
   ]
  },
  {
   "cell_type": "code",
   "execution_count": 81,
   "id": "3e19a352",
   "metadata": {},
   "outputs": [
    {
     "data": {
      "text/html": [
       "<div>\n",
       "<style scoped>\n",
       "    .dataframe tbody tr th:only-of-type {\n",
       "        vertical-align: middle;\n",
       "    }\n",
       "\n",
       "    .dataframe tbody tr th {\n",
       "        vertical-align: top;\n",
       "    }\n",
       "\n",
       "    .dataframe thead th {\n",
       "        text-align: right;\n",
       "    }\n",
       "</style>\n",
       "<table border=\"1\" class=\"dataframe\">\n",
       "  <thead>\n",
       "    <tr style=\"text-align: right;\">\n",
       "      <th></th>\n",
       "      <th>listing_id</th>\n",
       "      <th>available</th>\n",
       "      <th>price</th>\n",
       "      <th>minimum_nights</th>\n",
       "      <th>maximum_nights</th>\n",
       "      <th>name</th>\n",
       "      <th>description</th>\n",
       "      <th>latitude</th>\n",
       "      <th>longitude</th>\n",
       "      <th>property_type</th>\n",
       "      <th>room_type</th>\n",
       "      <th>accomodates</th>\n",
       "      <th>bathrooms_text</th>\n",
       "      <th>bedrooms</th>\n",
       "      <th>beds</th>\n",
       "      <th>amenities</th>\n",
       "      <th>host_id</th>\n",
       "      <th>host_since</th>\n",
       "      <th>years_since_registration</th>\n",
       "    </tr>\n",
       "  </thead>\n",
       "  <tbody>\n",
       "    <tr>\n",
       "      <th>0</th>\n",
       "      <td>40334325</td>\n",
       "      <td>0</td>\n",
       "      <td>56.0</td>\n",
       "      <td>3</td>\n",
       "      <td>5</td>\n",
       "      <td>Luxurious flat in central location</td>\n",
       "      <td>Luxurious flat in Antwerp close to various pub...</td>\n",
       "      <td>51.20989</td>\n",
       "      <td>4.42298</td>\n",
       "      <td>Entire rental unit</td>\n",
       "      <td>Entire home/apt</td>\n",
       "      <td>2</td>\n",
       "      <td>1 bath</td>\n",
       "      <td>1.492854</td>\n",
       "      <td>2.0</td>\n",
       "      <td>[\"Hot water\", \"Refrigerator\", \"Private entranc...</td>\n",
       "      <td>311556587</td>\n",
       "      <td>2019-11-23</td>\n",
       "      <td>4.446575</td>\n",
       "    </tr>\n",
       "    <tr>\n",
       "      <th>1</th>\n",
       "      <td>40334325</td>\n",
       "      <td>1</td>\n",
       "      <td>56.0</td>\n",
       "      <td>3</td>\n",
       "      <td>5</td>\n",
       "      <td>Luxurious flat in central location</td>\n",
       "      <td>Luxurious flat in Antwerp close to various pub...</td>\n",
       "      <td>51.20989</td>\n",
       "      <td>4.42298</td>\n",
       "      <td>Entire rental unit</td>\n",
       "      <td>Entire home/apt</td>\n",
       "      <td>2</td>\n",
       "      <td>1 bath</td>\n",
       "      <td>1.492854</td>\n",
       "      <td>2.0</td>\n",
       "      <td>[\"Hot water\", \"Refrigerator\", \"Private entranc...</td>\n",
       "      <td>311556587</td>\n",
       "      <td>2019-11-23</td>\n",
       "      <td>4.446575</td>\n",
       "    </tr>\n",
       "    <tr>\n",
       "      <th>2</th>\n",
       "      <td>40334325</td>\n",
       "      <td>0</td>\n",
       "      <td>56.0</td>\n",
       "      <td>3</td>\n",
       "      <td>5</td>\n",
       "      <td>Luxurious flat in central location</td>\n",
       "      <td>Luxurious flat in Antwerp close to various pub...</td>\n",
       "      <td>51.20989</td>\n",
       "      <td>4.42298</td>\n",
       "      <td>Entire rental unit</td>\n",
       "      <td>Entire home/apt</td>\n",
       "      <td>2</td>\n",
       "      <td>1 bath</td>\n",
       "      <td>1.492854</td>\n",
       "      <td>2.0</td>\n",
       "      <td>[\"Hot water\", \"Refrigerator\", \"Private entranc...</td>\n",
       "      <td>311556587</td>\n",
       "      <td>2019-11-23</td>\n",
       "      <td>4.446575</td>\n",
       "    </tr>\n",
       "    <tr>\n",
       "      <th>3</th>\n",
       "      <td>40334325</td>\n",
       "      <td>0</td>\n",
       "      <td>56.0</td>\n",
       "      <td>3</td>\n",
       "      <td>5</td>\n",
       "      <td>Luxurious flat in central location</td>\n",
       "      <td>Luxurious flat in Antwerp close to various pub...</td>\n",
       "      <td>51.20989</td>\n",
       "      <td>4.42298</td>\n",
       "      <td>Entire rental unit</td>\n",
       "      <td>Entire home/apt</td>\n",
       "      <td>2</td>\n",
       "      <td>1 bath</td>\n",
       "      <td>1.492854</td>\n",
       "      <td>2.0</td>\n",
       "      <td>[\"Hot water\", \"Refrigerator\", \"Private entranc...</td>\n",
       "      <td>311556587</td>\n",
       "      <td>2019-11-23</td>\n",
       "      <td>4.446575</td>\n",
       "    </tr>\n",
       "    <tr>\n",
       "      <th>4</th>\n",
       "      <td>40334325</td>\n",
       "      <td>0</td>\n",
       "      <td>56.0</td>\n",
       "      <td>3</td>\n",
       "      <td>5</td>\n",
       "      <td>Luxurious flat in central location</td>\n",
       "      <td>Luxurious flat in Antwerp close to various pub...</td>\n",
       "      <td>51.20989</td>\n",
       "      <td>4.42298</td>\n",
       "      <td>Entire rental unit</td>\n",
       "      <td>Entire home/apt</td>\n",
       "      <td>2</td>\n",
       "      <td>1 bath</td>\n",
       "      <td>1.492854</td>\n",
       "      <td>2.0</td>\n",
       "      <td>[\"Hot water\", \"Refrigerator\", \"Private entranc...</td>\n",
       "      <td>311556587</td>\n",
       "      <td>2019-11-23</td>\n",
       "      <td>4.446575</td>\n",
       "    </tr>\n",
       "    <tr>\n",
       "      <th>...</th>\n",
       "      <td>...</td>\n",
       "      <td>...</td>\n",
       "      <td>...</td>\n",
       "      <td>...</td>\n",
       "      <td>...</td>\n",
       "      <td>...</td>\n",
       "      <td>...</td>\n",
       "      <td>...</td>\n",
       "      <td>...</td>\n",
       "      <td>...</td>\n",
       "      <td>...</td>\n",
       "      <td>...</td>\n",
       "      <td>...</td>\n",
       "      <td>...</td>\n",
       "      <td>...</td>\n",
       "      <td>...</td>\n",
       "      <td>...</td>\n",
       "      <td>...</td>\n",
       "      <td>...</td>\n",
       "    </tr>\n",
       "    <tr>\n",
       "      <th>11468764</th>\n",
       "      <td>35379310</td>\n",
       "      <td>1</td>\n",
       "      <td>60.0</td>\n",
       "      <td>1</td>\n",
       "      <td>1125</td>\n",
       "      <td>Paz, conforto e tranquilidade tranquilidade</td>\n",
       "      <td>Espaço tranquilo ,quarto  com guarda roupa med...</td>\n",
       "      <td>51.21017</td>\n",
       "      <td>4.45431</td>\n",
       "      <td>Private room in rental unit</td>\n",
       "      <td>Private room</td>\n",
       "      <td>1</td>\n",
       "      <td>1 shared bath</td>\n",
       "      <td>1.000000</td>\n",
       "      <td>1.0</td>\n",
       "      <td>[\"Hot water\", \"Fire extinguisher\", \"Long term ...</td>\n",
       "      <td>265837980</td>\n",
       "      <td>2019-06-02</td>\n",
       "      <td>4.923288</td>\n",
       "    </tr>\n",
       "    <tr>\n",
       "      <th>11468765</th>\n",
       "      <td>35379310</td>\n",
       "      <td>1</td>\n",
       "      <td>60.0</td>\n",
       "      <td>1</td>\n",
       "      <td>1125</td>\n",
       "      <td>Paz, conforto e tranquilidade tranquilidade</td>\n",
       "      <td>Espaço tranquilo ,quarto  com guarda roupa med...</td>\n",
       "      <td>51.21017</td>\n",
       "      <td>4.45431</td>\n",
       "      <td>Private room in rental unit</td>\n",
       "      <td>Private room</td>\n",
       "      <td>1</td>\n",
       "      <td>1 shared bath</td>\n",
       "      <td>1.000000</td>\n",
       "      <td>1.0</td>\n",
       "      <td>[\"Hot water\", \"Fire extinguisher\", \"Long term ...</td>\n",
       "      <td>265837980</td>\n",
       "      <td>2019-06-02</td>\n",
       "      <td>4.923288</td>\n",
       "    </tr>\n",
       "    <tr>\n",
       "      <th>11468766</th>\n",
       "      <td>35379310</td>\n",
       "      <td>1</td>\n",
       "      <td>60.0</td>\n",
       "      <td>1</td>\n",
       "      <td>1125</td>\n",
       "      <td>Paz, conforto e tranquilidade tranquilidade</td>\n",
       "      <td>Espaço tranquilo ,quarto  com guarda roupa med...</td>\n",
       "      <td>51.21017</td>\n",
       "      <td>4.45431</td>\n",
       "      <td>Private room in rental unit</td>\n",
       "      <td>Private room</td>\n",
       "      <td>1</td>\n",
       "      <td>1 shared bath</td>\n",
       "      <td>1.000000</td>\n",
       "      <td>1.0</td>\n",
       "      <td>[\"Hot water\", \"Fire extinguisher\", \"Long term ...</td>\n",
       "      <td>265837980</td>\n",
       "      <td>2019-06-02</td>\n",
       "      <td>4.923288</td>\n",
       "    </tr>\n",
       "    <tr>\n",
       "      <th>11468767</th>\n",
       "      <td>35379310</td>\n",
       "      <td>1</td>\n",
       "      <td>60.0</td>\n",
       "      <td>1</td>\n",
       "      <td>1125</td>\n",
       "      <td>Paz, conforto e tranquilidade tranquilidade</td>\n",
       "      <td>Espaço tranquilo ,quarto  com guarda roupa med...</td>\n",
       "      <td>51.21017</td>\n",
       "      <td>4.45431</td>\n",
       "      <td>Private room in rental unit</td>\n",
       "      <td>Private room</td>\n",
       "      <td>1</td>\n",
       "      <td>1 shared bath</td>\n",
       "      <td>1.000000</td>\n",
       "      <td>1.0</td>\n",
       "      <td>[\"Hot water\", \"Fire extinguisher\", \"Long term ...</td>\n",
       "      <td>265837980</td>\n",
       "      <td>2019-06-02</td>\n",
       "      <td>4.923288</td>\n",
       "    </tr>\n",
       "    <tr>\n",
       "      <th>11468768</th>\n",
       "      <td>35379310</td>\n",
       "      <td>1</td>\n",
       "      <td>60.0</td>\n",
       "      <td>1</td>\n",
       "      <td>1125</td>\n",
       "      <td>Paz, conforto e tranquilidade tranquilidade</td>\n",
       "      <td>Espaço tranquilo ,quarto  com guarda roupa med...</td>\n",
       "      <td>51.21017</td>\n",
       "      <td>4.45431</td>\n",
       "      <td>Private room in rental unit</td>\n",
       "      <td>Private room</td>\n",
       "      <td>1</td>\n",
       "      <td>1 shared bath</td>\n",
       "      <td>1.000000</td>\n",
       "      <td>1.0</td>\n",
       "      <td>[\"Hot water\", \"Fire extinguisher\", \"Long term ...</td>\n",
       "      <td>265837980</td>\n",
       "      <td>2019-06-02</td>\n",
       "      <td>4.923288</td>\n",
       "    </tr>\n",
       "  </tbody>\n",
       "</table>\n",
       "<p>11136859 rows × 19 columns</p>\n",
       "</div>"
      ],
      "text/plain": [
       "          listing_id  available  price  minimum_nights  maximum_nights  \\\n",
       "0           40334325          0   56.0               3               5   \n",
       "1           40334325          1   56.0               3               5   \n",
       "2           40334325          0   56.0               3               5   \n",
       "3           40334325          0   56.0               3               5   \n",
       "4           40334325          0   56.0               3               5   \n",
       "...              ...        ...    ...             ...             ...   \n",
       "11468764    35379310          1   60.0               1            1125   \n",
       "11468765    35379310          1   60.0               1            1125   \n",
       "11468766    35379310          1   60.0               1            1125   \n",
       "11468767    35379310          1   60.0               1            1125   \n",
       "11468768    35379310          1   60.0               1            1125   \n",
       "\n",
       "                                                 name  \\\n",
       "0                  Luxurious flat in central location   \n",
       "1                  Luxurious flat in central location   \n",
       "2                  Luxurious flat in central location   \n",
       "3                  Luxurious flat in central location   \n",
       "4                  Luxurious flat in central location   \n",
       "...                                               ...   \n",
       "11468764  Paz, conforto e tranquilidade tranquilidade   \n",
       "11468765  Paz, conforto e tranquilidade tranquilidade   \n",
       "11468766  Paz, conforto e tranquilidade tranquilidade   \n",
       "11468767  Paz, conforto e tranquilidade tranquilidade   \n",
       "11468768  Paz, conforto e tranquilidade tranquilidade   \n",
       "\n",
       "                                                description  latitude  \\\n",
       "0         Luxurious flat in Antwerp close to various pub...  51.20989   \n",
       "1         Luxurious flat in Antwerp close to various pub...  51.20989   \n",
       "2         Luxurious flat in Antwerp close to various pub...  51.20989   \n",
       "3         Luxurious flat in Antwerp close to various pub...  51.20989   \n",
       "4         Luxurious flat in Antwerp close to various pub...  51.20989   \n",
       "...                                                     ...       ...   \n",
       "11468764  Espaço tranquilo ,quarto  com guarda roupa med...  51.21017   \n",
       "11468765  Espaço tranquilo ,quarto  com guarda roupa med...  51.21017   \n",
       "11468766  Espaço tranquilo ,quarto  com guarda roupa med...  51.21017   \n",
       "11468767  Espaço tranquilo ,quarto  com guarda roupa med...  51.21017   \n",
       "11468768  Espaço tranquilo ,quarto  com guarda roupa med...  51.21017   \n",
       "\n",
       "          longitude                property_type        room_type  \\\n",
       "0           4.42298           Entire rental unit  Entire home/apt   \n",
       "1           4.42298           Entire rental unit  Entire home/apt   \n",
       "2           4.42298           Entire rental unit  Entire home/apt   \n",
       "3           4.42298           Entire rental unit  Entire home/apt   \n",
       "4           4.42298           Entire rental unit  Entire home/apt   \n",
       "...             ...                          ...              ...   \n",
       "11468764    4.45431  Private room in rental unit     Private room   \n",
       "11468765    4.45431  Private room in rental unit     Private room   \n",
       "11468766    4.45431  Private room in rental unit     Private room   \n",
       "11468767    4.45431  Private room in rental unit     Private room   \n",
       "11468768    4.45431  Private room in rental unit     Private room   \n",
       "\n",
       "          accomodates bathrooms_text  bedrooms  beds  \\\n",
       "0                   2         1 bath  1.492854   2.0   \n",
       "1                   2         1 bath  1.492854   2.0   \n",
       "2                   2         1 bath  1.492854   2.0   \n",
       "3                   2         1 bath  1.492854   2.0   \n",
       "4                   2         1 bath  1.492854   2.0   \n",
       "...               ...            ...       ...   ...   \n",
       "11468764            1  1 shared bath  1.000000   1.0   \n",
       "11468765            1  1 shared bath  1.000000   1.0   \n",
       "11468766            1  1 shared bath  1.000000   1.0   \n",
       "11468767            1  1 shared bath  1.000000   1.0   \n",
       "11468768            1  1 shared bath  1.000000   1.0   \n",
       "\n",
       "                                                  amenities    host_id  \\\n",
       "0         [\"Hot water\", \"Refrigerator\", \"Private entranc...  311556587   \n",
       "1         [\"Hot water\", \"Refrigerator\", \"Private entranc...  311556587   \n",
       "2         [\"Hot water\", \"Refrigerator\", \"Private entranc...  311556587   \n",
       "3         [\"Hot water\", \"Refrigerator\", \"Private entranc...  311556587   \n",
       "4         [\"Hot water\", \"Refrigerator\", \"Private entranc...  311556587   \n",
       "...                                                     ...        ...   \n",
       "11468764  [\"Hot water\", \"Fire extinguisher\", \"Long term ...  265837980   \n",
       "11468765  [\"Hot water\", \"Fire extinguisher\", \"Long term ...  265837980   \n",
       "11468766  [\"Hot water\", \"Fire extinguisher\", \"Long term ...  265837980   \n",
       "11468767  [\"Hot water\", \"Fire extinguisher\", \"Long term ...  265837980   \n",
       "11468768  [\"Hot water\", \"Fire extinguisher\", \"Long term ...  265837980   \n",
       "\n",
       "         host_since  years_since_registration  \n",
       "0        2019-11-23                  4.446575  \n",
       "1        2019-11-23                  4.446575  \n",
       "2        2019-11-23                  4.446575  \n",
       "3        2019-11-23                  4.446575  \n",
       "4        2019-11-23                  4.446575  \n",
       "...             ...                       ...  \n",
       "11468764 2019-06-02                  4.923288  \n",
       "11468765 2019-06-02                  4.923288  \n",
       "11468766 2019-06-02                  4.923288  \n",
       "11468767 2019-06-02                  4.923288  \n",
       "11468768 2019-06-02                  4.923288  \n",
       "\n",
       "[11136859 rows x 19 columns]"
      ]
     },
     "execution_count": 81,
     "metadata": {},
     "output_type": "execute_result"
    }
   ],
   "source": [
    "#Trimming---remove the outlier\n",
    "Airbnb1[(Airbnb1['accomodates']>ll)&(Airbnb1['accomodates']<ul)]"
   ]
  },
  {
   "cell_type": "markdown",
   "id": "64ccd1c7",
   "metadata": {},
   "source": [
    "Winsorization is a method commonly used to handle outliers in datasets. Outliers can skew statistical measures and distort the results of analyses or models. By winsorizing the data, extreme values are replaced with less extreme values, thereby reducing the impact of outliers."
   ]
  },
  {
   "cell_type": "code",
   "execution_count": 82,
   "id": "86c647cb",
   "metadata": {},
   "outputs": [],
   "source": [
    "#winsorization\n",
    "from scipy.stats.mstats import winsorize\n",
    "Airbnb1['accomodates']=winsorize(Airbnb1['accomodates'],limits=[.1,.2])"
   ]
  },
  {
   "cell_type": "code",
   "execution_count": 83,
   "id": "e72ee38e",
   "metadata": {},
   "outputs": [
    {
     "data": {
      "text/plain": [
       "<Axes: ylabel='accomodates'>"
      ]
     },
     "execution_count": 83,
     "metadata": {},
     "output_type": "execute_result"
    },
    {
     "data": {
      "image/png": "[encoded data removed]",
      "text/plain": [
       "<Figure size 640x480 with 1 Axes>"
      ]
     },
     "metadata": {},
     "output_type": "display_data"
    }
   ],
   "source": [
    "sns.boxplot(y=Airbnb1['accomodates'],data=Airbnb1)"
   ]
  },
  {
   "cell_type": "code",
   "execution_count": 84,
   "id": "2e6218ad",
   "metadata": {},
   "outputs": [
    {
     "data": {
      "text/plain": [
       "<Axes: xlabel='room_type', ylabel='listing_id'>"
      ]
     },
     "execution_count": 84,
     "metadata": {},
     "output_type": "execute_result"
    },
    {
     "data": {
      "image/png": "[encoded data removed]",
      "text/plain": [
       "<Figure size 640x480 with 1 Axes>"
      ]
     },
     "metadata": {},
     "output_type": "display_data"
    }
   ],
   "source": [
    "#scatter plot\n",
    "sns.scatterplot(x='room_type',y='listing_id',data=Airbnb1)"
   ]
  },
  {
   "cell_type": "code",
   "execution_count": 86,
   "id": "58cb57ff",
   "metadata": {},
   "outputs": [
    {
     "data": {
      "text/plain": [
       "Index(['name', 'description', 'property_type', 'room_type', 'bathrooms_text',\n",
       "       'amenities'],\n",
       "      dtype='object')"
      ]
     },
     "execution_count": 86,
     "metadata": {},
     "output_type": "execute_result"
    }
   ],
   "source": [
    "obj.columns"
   ]
  },
  {
   "cell_type": "code",
   "execution_count": 16,
   "id": "411107ad",
   "metadata": {},
   "outputs": [],
   "source": [
    "#convert categorical column into discrete\n",
    "from sklearn.preprocessing import LabelEncoder\n",
    "le=LabelEncoder()"
   ]
  },
  {
   "cell_type": "code",
   "execution_count": 17,
   "id": "9b12be59",
   "metadata": {},
   "outputs": [
    {
     "data": {
      "text/plain": [
       "Index(['calender_id', 'listing_id', 'date', 'available', 'price',\n",
       "       'adjusted_price', 'minimum_nights', 'maximum_nights', 'listing_url',\n",
       "       'name', 'description', 'latitude', 'longitude', 'property_type',\n",
       "       'room_type', 'accomodates', 'bathrooms_text', 'bedrooms', 'beds',\n",
       "       'amenities', 'host_id', 'host_since'],\n",
       "      dtype='object')"
      ]
     },
     "execution_count": 17,
     "metadata": {},
     "output_type": "execute_result"
    }
   ],
   "source": [
    "Airbnb1.columns"
   ]
  },
  {
   "cell_type": "code",
   "execution_count": 18,
   "id": "103089f9",
   "metadata": {},
   "outputs": [],
   "source": [
    "for i in Airbnb1:\n",
    "    Airbnb1[i]=le.fit_transform(Airbnb1[i])"
   ]
  },
  {
   "cell_type": "code",
   "execution_count": 19,
   "id": "74b3f090",
   "metadata": {},
   "outputs": [
    {
     "data": {
      "text/html": [
       "<div>\n",
       "<style scoped>\n",
       "    .dataframe tbody tr th:only-of-type {\n",
       "        vertical-align: middle;\n",
       "    }\n",
       "\n",
       "    .dataframe tbody tr th {\n",
       "        vertical-align: top;\n",
       "    }\n",
       "\n",
       "    .dataframe thead th {\n",
       "        text-align: right;\n",
       "    }\n",
       "</style>\n",
       "<table border=\"1\" class=\"dataframe\">\n",
       "  <thead>\n",
       "    <tr style=\"text-align: right;\">\n",
       "      <th></th>\n",
       "      <th>calender_id</th>\n",
       "      <th>listing_id</th>\n",
       "      <th>date</th>\n",
       "      <th>available</th>\n",
       "      <th>price</th>\n",
       "      <th>adjusted_price</th>\n",
       "      <th>minimum_nights</th>\n",
       "      <th>maximum_nights</th>\n",
       "      <th>listing_url</th>\n",
       "      <th>name</th>\n",
       "      <th>...</th>\n",
       "      <th>longitude</th>\n",
       "      <th>property_type</th>\n",
       "      <th>room_type</th>\n",
       "      <th>accomodates</th>\n",
       "      <th>bathrooms_text</th>\n",
       "      <th>bedrooms</th>\n",
       "      <th>beds</th>\n",
       "      <th>amenities</th>\n",
       "      <th>host_id</th>\n",
       "      <th>host_since</th>\n",
       "    </tr>\n",
       "  </thead>\n",
       "  <tbody>\n",
       "    <tr>\n",
       "      <th>0</th>\n",
       "      <td>0</td>\n",
       "      <td>892</td>\n",
       "      <td>220</td>\n",
       "      <td>0</td>\n",
       "      <td>42</td>\n",
       "      <td>42</td>\n",
       "      <td>2</td>\n",
       "      <td>4</td>\n",
       "      <td>776</td>\n",
       "      <td>787</td>\n",
       "      <td>...</td>\n",
       "      <td>934</td>\n",
       "      <td>6</td>\n",
       "      <td>0</td>\n",
       "      <td>1</td>\n",
       "      <td>2</td>\n",
       "      <td>9</td>\n",
       "      <td>1</td>\n",
       "      <td>324</td>\n",
       "      <td>877</td>\n",
       "      <td>742</td>\n",
       "    </tr>\n",
       "    <tr>\n",
       "      <th>1</th>\n",
       "      <td>1833</td>\n",
       "      <td>892</td>\n",
       "      <td>50</td>\n",
       "      <td>1</td>\n",
       "      <td>42</td>\n",
       "      <td>42</td>\n",
       "      <td>2</td>\n",
       "      <td>4</td>\n",
       "      <td>776</td>\n",
       "      <td>787</td>\n",
       "      <td>...</td>\n",
       "      <td>934</td>\n",
       "      <td>6</td>\n",
       "      <td>0</td>\n",
       "      <td>1</td>\n",
       "      <td>2</td>\n",
       "      <td>9</td>\n",
       "      <td>1</td>\n",
       "      <td>324</td>\n",
       "      <td>877</td>\n",
       "      <td>742</td>\n",
       "    </tr>\n",
       "    <tr>\n",
       "      <th>2</th>\n",
       "      <td>3166</td>\n",
       "      <td>892</td>\n",
       "      <td>121</td>\n",
       "      <td>0</td>\n",
       "      <td>42</td>\n",
       "      <td>42</td>\n",
       "      <td>2</td>\n",
       "      <td>4</td>\n",
       "      <td>776</td>\n",
       "      <td>787</td>\n",
       "      <td>...</td>\n",
       "      <td>934</td>\n",
       "      <td>6</td>\n",
       "      <td>0</td>\n",
       "      <td>1</td>\n",
       "      <td>2</td>\n",
       "      <td>9</td>\n",
       "      <td>1</td>\n",
       "      <td>324</td>\n",
       "      <td>877</td>\n",
       "      <td>742</td>\n",
       "    </tr>\n",
       "    <tr>\n",
       "      <th>3</th>\n",
       "      <td>4834</td>\n",
       "      <td>892</td>\n",
       "      <td>103</td>\n",
       "      <td>0</td>\n",
       "      <td>42</td>\n",
       "      <td>42</td>\n",
       "      <td>2</td>\n",
       "      <td>4</td>\n",
       "      <td>776</td>\n",
       "      <td>787</td>\n",
       "      <td>...</td>\n",
       "      <td>934</td>\n",
       "      <td>6</td>\n",
       "      <td>0</td>\n",
       "      <td>1</td>\n",
       "      <td>2</td>\n",
       "      <td>9</td>\n",
       "      <td>1</td>\n",
       "      <td>324</td>\n",
       "      <td>877</td>\n",
       "      <td>742</td>\n",
       "    </tr>\n",
       "    <tr>\n",
       "      <th>4</th>\n",
       "      <td>7134</td>\n",
       "      <td>892</td>\n",
       "      <td>106</td>\n",
       "      <td>0</td>\n",
       "      <td>42</td>\n",
       "      <td>42</td>\n",
       "      <td>2</td>\n",
       "      <td>4</td>\n",
       "      <td>776</td>\n",
       "      <td>787</td>\n",
       "      <td>...</td>\n",
       "      <td>934</td>\n",
       "      <td>6</td>\n",
       "      <td>0</td>\n",
       "      <td>1</td>\n",
       "      <td>2</td>\n",
       "      <td>9</td>\n",
       "      <td>1</td>\n",
       "      <td>324</td>\n",
       "      <td>877</td>\n",
       "      <td>742</td>\n",
       "    </tr>\n",
       "  </tbody>\n",
       "</table>\n",
       "<p>5 rows × 22 columns</p>\n",
       "</div>"
      ],
      "text/plain": [
       "   calender_id  listing_id  date  available  price  adjusted_price  \\\n",
       "0            0         892   220          0     42              42   \n",
       "1         1833         892    50          1     42              42   \n",
       "2         3166         892   121          0     42              42   \n",
       "3         4834         892   103          0     42              42   \n",
       "4         7134         892   106          0     42              42   \n",
       "\n",
       "   minimum_nights  maximum_nights  listing_url  name  ...  longitude  \\\n",
       "0               2               4          776   787  ...        934   \n",
       "1               2               4          776   787  ...        934   \n",
       "2               2               4          776   787  ...        934   \n",
       "3               2               4          776   787  ...        934   \n",
       "4               2               4          776   787  ...        934   \n",
       "\n",
       "   property_type  room_type  accomodates  bathrooms_text  bedrooms  beds  \\\n",
       "0              6          0            1               2         9     1   \n",
       "1              6          0            1               2         9     1   \n",
       "2              6          0            1               2         9     1   \n",
       "3              6          0            1               2         9     1   \n",
       "4              6          0            1               2         9     1   \n",
       "\n",
       "   amenities  host_id  host_since  \n",
       "0        324      877         742  \n",
       "1        324      877         742  \n",
       "2        324      877         742  \n",
       "3        324      877         742  \n",
       "4        324      877         742  \n",
       "\n",
       "[5 rows x 22 columns]"
      ]
     },
     "execution_count": 19,
     "metadata": {},
     "output_type": "execute_result"
    }
   ],
   "source": [
    "Airbnb1.head()"
   ]
  },
  {
   "cell_type": "code",
   "execution_count": 20,
   "id": "4356da3c",
   "metadata": {},
   "outputs": [],
   "source": [
    "#segregating data into x and y\n",
    "X=Airbnb1.drop('price',axis=1)\n",
    "y=Airbnb1['price']"
   ]
  },
  {
   "cell_type": "code",
   "execution_count": 21,
   "id": "d5ea3852",
   "metadata": {},
   "outputs": [],
   "source": [
    "from sklearn.model_selection import train_test_split"
   ]
  },
  {
   "cell_type": "code",
   "execution_count": 93,
   "id": "d1f3e839",
   "metadata": {},
   "outputs": [],
   "source": [
    "#split x and y into train and test\n",
    "X_train,X_test,y_train,y_test=train_test_split(X,y,test_size=.2)"
   ]
  },
  {
   "cell_type": "code",
   "execution_count": 94,
   "id": "f7632432",
   "metadata": {},
   "outputs": [
    {
     "name": "stdout",
     "output_type": "stream",
     "text": [
      "(11468769, 18) (11468769,) (9175015, 18) (2293754, 18) (9175015,) (2293754,)\n"
     ]
    }
   ],
   "source": [
    "print(X.shape,y.shape,X_train.shape,X_test.shape,y_train.shape,y_test.shape)"
   ]
  },
  {
   "cell_type": "code",
   "execution_count": 95,
   "id": "25ac377a",
   "metadata": {},
   "outputs": [],
   "source": [
    "from sklearn.linear_model import LinearRegression\n",
    "lr=LinearRegression()"
   ]
  },
  {
   "cell_type": "code",
   "execution_count": 96,
   "id": "32ffc4b6",
   "metadata": {},
   "outputs": [
    {
     "data": {
      "text/html": [
       "<style>#sk-container-id-1 {color: black;background-color: white;}#sk-container-id-1 pre{padding: 0;}#sk-container-id-1 div.sk-toggleable {background-color: white;}#sk-container-id-1 label.sk-toggleable__label {cursor: pointer;display: block;width: 100%;margin-bottom: 0;padding: 0.3em;box-sizing: border-box;text-align: center;}#sk-container-id-1 label.sk-toggleable__label-arrow:before {content: \"▸\";float: left;margin-right: 0.25em;color: #696969;}#sk-container-id-1 label.sk-toggleable__label-arrow:hover:before {color: black;}#sk-container-id-1 div.sk-estimator:hover label.sk-toggleable__label-arrow:before {color: black;}#sk-container-id-1 div.sk-toggleable__content {max-height: 0;max-width: 0;overflow: hidden;text-align: left;background-color: #f0f8ff;}#sk-container-id-1 div.sk-toggleable__content pre {margin: 0.2em;color: black;border-radius: 0.25em;background-color: #f0f8ff;}#sk-container-id-1 input.sk-toggleable__control:checked~div.sk-toggleable__content {max-height: 200px;max-width: 100%;overflow: auto;}#sk-container-id-1 input.sk-toggleable__control:checked~label.sk-toggleable__label-arrow:before {content: \"▾\";}#sk-container-id-1 div.sk-estimator input.sk-toggleable__control:checked~label.sk-toggleable__label {background-color: #d4ebff;}#sk-container-id-1 div.sk-label input.sk-toggleable__control:checked~label.sk-toggleable__label {background-color: #d4ebff;}#sk-container-id-1 input.sk-hidden--visually {border: 0;clip: rect(1px 1px 1px 1px);clip: rect(1px, 1px, 1px, 1px);height: 1px;margin: -1px;overflow: hidden;padding: 0;position: absolute;width: 1px;}#sk-container-id-1 div.sk-estimator {font-family: monospace;background-color: #f0f8ff;border: 1px dotted black;border-radius: 0.25em;box-sizing: border-box;margin-bottom: 0.5em;}#sk-container-id-1 div.sk-estimator:hover {background-color: #d4ebff;}#sk-container-id-1 div.sk-parallel-item::after {content: \"\";width: 100%;border-bottom: 1px solid gray;flex-grow: 1;}#sk-container-id-1 div.sk-label:hover label.sk-toggleable__label {background-color: #d4ebff;}#sk-container-id-1 div.sk-serial::before {content: \"\";position: absolute;border-left: 1px solid gray;box-sizing: border-box;top: 0;bottom: 0;left: 50%;z-index: 0;}#sk-container-id-1 div.sk-serial {display: flex;flex-direction: column;align-items: center;background-color: white;padding-right: 0.2em;padding-left: 0.2em;position: relative;}#sk-container-id-1 div.sk-item {position: relative;z-index: 1;}#sk-container-id-1 div.sk-parallel {display: flex;align-items: stretch;justify-content: center;background-color: white;position: relative;}#sk-container-id-1 div.sk-item::before, #sk-container-id-1 div.sk-parallel-item::before {content: \"\";position: absolute;border-left: 1px solid gray;box-sizing: border-box;top: 0;bottom: 0;left: 50%;z-index: -1;}#sk-container-id-1 div.sk-parallel-item {display: flex;flex-direction: column;z-index: 1;position: relative;background-color: white;}#sk-container-id-1 div.sk-parallel-item:first-child::after {align-self: flex-end;width: 50%;}#sk-container-id-1 div.sk-parallel-item:last-child::after {align-self: flex-start;width: 50%;}#sk-container-id-1 div.sk-parallel-item:only-child::after {width: 0;}#sk-container-id-1 div.sk-dashed-wrapped {border: 1px dashed gray;margin: 0 0.4em 0.5em 0.4em;box-sizing: border-box;padding-bottom: 0.4em;background-color: white;}#sk-container-id-1 div.sk-label label {font-family: monospace;font-weight: bold;display: inline-block;line-height: 1.2em;}#sk-container-id-1 div.sk-label-container {text-align: center;}#sk-container-id-1 div.sk-container {/* jupyter's `normalize.less` sets `[hidden] { display: none; }` but bootstrap.min.css set `[hidden] { display: none !important; }` so we also need the `!important` here to be able to override the default hidden behavior on the sphinx rendered scikit-learn.org. See: https://github.com/scikit-learn/scikit-learn/issues/21755 */display: inline-block !important;position: relative;}#sk-container-id-1 div.sk-text-repr-fallback {display: none;}</style><div id=\"sk-container-id-1\" class=\"sk-top-container\"><div class=\"sk-text-repr-fallback\"><pre>LinearRegression()</pre><b>In a Jupyter environment, please rerun this cell to show the HTML representation or trust the notebook. <br />On GitHub, the HTML representation is unable to render, please try loading this page with nbviewer.org.</b></div><div class=\"sk-container\" hidden><div class=\"sk-item\"><div class=\"sk-estimator sk-toggleable\"><input class=\"sk-toggleable__control sk-hidden--visually\" id=\"sk-estimator-id-1\" type=\"checkbox\" checked><label for=\"sk-estimator-id-1\" class=\"sk-toggleable__label sk-toggleable__label-arrow\">LinearRegression</label><div class=\"sk-toggleable__content\"><pre>LinearRegression()</pre></div></div></div></div></div>"
      ],
      "text/plain": [
       "LinearRegression()"
      ]
     },
     "execution_count": 96,
     "metadata": {},
     "output_type": "execute_result"
    }
   ],
   "source": [
    "#train the model on train data\n",
    "lr.fit(X_train,y_train)"
   ]
  },
  {
   "cell_type": "code",
   "execution_count": 97,
   "id": "91f79938",
   "metadata": {},
   "outputs": [],
   "source": [
    "y_test_pred=lr.predict(X_test)"
   ]
  },
  {
   "cell_type": "code",
   "execution_count": 98,
   "id": "2817c028",
   "metadata": {},
   "outputs": [],
   "source": [
    "x_range=[i for i in range(len(X_test))]"
   ]
  },
  {
   "cell_type": "code",
   "execution_count": 99,
   "id": "24ed5cdf",
   "metadata": {},
   "outputs": [
    {
     "data": {
      "text/plain": [
       "<matplotlib.legend.Legend at 0x2343edad790>"
      ]
     },
     "execution_count": 99,
     "metadata": {},
     "output_type": "execute_result"
    },
    {
     "name": "stderr",
     "output_type": "stream",
     "text": [
      "C:\\Users\\HP\\anaconda3\\Lib\\site-packages\\IPython\\core\\events.py:89: UserWarning: Creating legend with loc=\"best\" can be slow with large amounts of data.\n",
      "  func(*args, **kwargs)\n",
      "C:\\Users\\HP\\anaconda3\\Lib\\site-packages\\IPython\\core\\pylabtools.py:152: UserWarning: Creating legend with loc=\"best\" can be slow with large amounts of data.\n",
      "  fig.canvas.print_figure(bytes_io, **kw)\n"
     ]
    },
    {
     "data": {
      "image/png": "[encoded data removed]",
      "text/plain": [
       "<Figure size 640x480 with 1 Axes>"
      ]
     },
     "metadata": {},
     "output_type": "display_data"
    }
   ],
   "source": [
    "plt.plot(x_range,y_test)\n",
    "plt.plot(x_range,y_test_pred)\n",
    "plt.legend(['Real','Prediction'])"
   ]
  },
  {
   "cell_type": "code",
   "execution_count": 100,
   "id": "9387ba83",
   "metadata": {},
   "outputs": [],
   "source": [
    "Airbnb1_result=pd.DataFrame({'Actual':y_test,'Predicted':y_test_pred})"
   ]
  },
  {
   "cell_type": "code",
   "execution_count": 101,
   "id": "a7870b0a",
   "metadata": {},
   "outputs": [],
   "source": [
    "Airbnb1_result['Difference']=Airbnb1_result['Actual']-Airbnb1_result['Predicted']"
   ]
  },
  {
   "cell_type": "code",
   "execution_count": 102,
   "id": "698b70e3",
   "metadata": {},
   "outputs": [
    {
     "data": {
      "text/html": [
       "<div>\n",
       "<style scoped>\n",
       "    .dataframe tbody tr th:only-of-type {\n",
       "        vertical-align: middle;\n",
       "    }\n",
       "\n",
       "    .dataframe tbody tr th {\n",
       "        vertical-align: top;\n",
       "    }\n",
       "\n",
       "    .dataframe thead th {\n",
       "        text-align: right;\n",
       "    }\n",
       "</style>\n",
       "<table border=\"1\" class=\"dataframe\">\n",
       "  <thead>\n",
       "    <tr style=\"text-align: right;\">\n",
       "      <th></th>\n",
       "      <th>Actual</th>\n",
       "      <th>Predicted</th>\n",
       "      <th>Difference</th>\n",
       "    </tr>\n",
       "  </thead>\n",
       "  <tbody>\n",
       "    <tr>\n",
       "      <th>10495345</th>\n",
       "      <td>0</td>\n",
       "      <td>14.297705</td>\n",
       "      <td>-14.297705</td>\n",
       "    </tr>\n",
       "    <tr>\n",
       "      <th>11313526</th>\n",
       "      <td>26</td>\n",
       "      <td>36.964922</td>\n",
       "      <td>-10.964922</td>\n",
       "    </tr>\n",
       "    <tr>\n",
       "      <th>598142</th>\n",
       "      <td>9</td>\n",
       "      <td>34.681844</td>\n",
       "      <td>-25.681844</td>\n",
       "    </tr>\n",
       "    <tr>\n",
       "      <th>8521687</th>\n",
       "      <td>0</td>\n",
       "      <td>12.507608</td>\n",
       "      <td>-12.507608</td>\n",
       "    </tr>\n",
       "    <tr>\n",
       "      <th>9006123</th>\n",
       "      <td>25</td>\n",
       "      <td>39.323561</td>\n",
       "      <td>-14.323561</td>\n",
       "    </tr>\n",
       "    <tr>\n",
       "      <th>...</th>\n",
       "      <td>...</td>\n",
       "      <td>...</td>\n",
       "      <td>...</td>\n",
       "    </tr>\n",
       "    <tr>\n",
       "      <th>5665181</th>\n",
       "      <td>21</td>\n",
       "      <td>37.546171</td>\n",
       "      <td>-16.546171</td>\n",
       "    </tr>\n",
       "    <tr>\n",
       "      <th>1237865</th>\n",
       "      <td>71</td>\n",
       "      <td>52.870852</td>\n",
       "      <td>18.129148</td>\n",
       "    </tr>\n",
       "    <tr>\n",
       "      <th>8072617</th>\n",
       "      <td>30</td>\n",
       "      <td>35.227734</td>\n",
       "      <td>-5.227734</td>\n",
       "    </tr>\n",
       "    <tr>\n",
       "      <th>6719371</th>\n",
       "      <td>0</td>\n",
       "      <td>18.244069</td>\n",
       "      <td>-18.244069</td>\n",
       "    </tr>\n",
       "    <tr>\n",
       "      <th>8485058</th>\n",
       "      <td>71</td>\n",
       "      <td>60.420952</td>\n",
       "      <td>10.579048</td>\n",
       "    </tr>\n",
       "  </tbody>\n",
       "</table>\n",
       "<p>2293754 rows × 3 columns</p>\n",
       "</div>"
      ],
      "text/plain": [
       "          Actual  Predicted  Difference\n",
       "10495345       0  14.297705  -14.297705\n",
       "11313526      26  36.964922  -10.964922\n",
       "598142         9  34.681844  -25.681844\n",
       "8521687        0  12.507608  -12.507608\n",
       "9006123       25  39.323561  -14.323561\n",
       "...          ...        ...         ...\n",
       "5665181       21  37.546171  -16.546171\n",
       "1237865       71  52.870852   18.129148\n",
       "8072617       30  35.227734   -5.227734\n",
       "6719371        0  18.244069  -18.244069\n",
       "8485058       71  60.420952   10.579048\n",
       "\n",
       "[2293754 rows x 3 columns]"
      ]
     },
     "execution_count": 102,
     "metadata": {},
     "output_type": "execute_result"
    }
   ],
   "source": [
    "Airbnb1_result"
   ]
  },
  {
   "cell_type": "code",
   "execution_count": null,
   "id": "6bf63361",
   "metadata": {},
   "outputs": [],
   "source": []
  },
  {
   "cell_type": "code",
   "execution_count": 103,
   "id": "f70f398f",
   "metadata": {},
   "outputs": [],
   "source": [
    "#RMSE of test data\n",
    "error=Airbnb1_result['Difference']\n",
    "sq_error=error*error\n",
    "mean_sq_error=np.mean(sq_error)\n",
    "root_mean_sq_error=np.sqrt(mean_sq_error)"
   ]
  },
  {
   "cell_type": "code",
   "execution_count": 104,
   "id": "c2fb9ef9",
   "metadata": {},
   "outputs": [
    {
     "data": {
      "text/plain": [
       "19.194452839820222"
      ]
     },
     "execution_count": 104,
     "metadata": {},
     "output_type": "execute_result"
    }
   ],
   "source": [
    "root_mean_sq_error"
   ]
  },
  {
   "cell_type": "code",
   "execution_count": 105,
   "id": "0900cc0c",
   "metadata": {},
   "outputs": [
    {
     "data": {
      "text/plain": [
       "0.3998252978975112"
      ]
     },
     "execution_count": 105,
     "metadata": {},
     "output_type": "execute_result"
    }
   ],
   "source": [
    "from sklearn.metrics import r2_score\n",
    "r2_score(y_test,y_test_pred)"
   ]
  },
  {
   "cell_type": "code",
   "execution_count": 124,
   "id": "aa6ac798",
   "metadata": {},
   "outputs": [],
   "source": [
    "import pandas as pd\n",
    "from sklearn.model_selection import train_test_split\n",
    "from sklearn.linear_model import LinearRegression\n",
    "from sklearn.metrics import mean_absolute_error, mean_squared_error, r2_score\n"
   ]
  },
  {
   "cell_type": "code",
   "execution_count": 115,
   "id": "d7cc4683",
   "metadata": {},
   "outputs": [
    {
     "data": {
      "text/plain": [
       "Index(['listing_id', 'available', 'price', 'minimum_nights', 'maximum_nights',\n",
       "       'name', 'description', 'latitude', 'longitude', 'property_type',\n",
       "       'room_type', 'accomodates', 'bathrooms_text', 'bedrooms', 'beds',\n",
       "       'amenities', 'host_id', 'host_since', 'years_since_registration'],\n",
       "      dtype='object')"
      ]
     },
     "execution_count": 115,
     "metadata": {},
     "output_type": "execute_result"
    }
   ],
   "source": [
    "Airbnb1.columns"
   ]
  },
  {
   "cell_type": "code",
   "execution_count": 118,
   "id": "6ed94409",
   "metadata": {},
   "outputs": [],
   "source": [
    "for i in Airbnb1:\n",
    "    Airbnb1[i]=le.fit_transform(Airbnb1[i])"
   ]
  },
  {
   "cell_type": "code",
   "execution_count": 119,
   "id": "b1d6496e",
   "metadata": {},
   "outputs": [],
   "source": [
    "#convert categorical column into discrete\n",
    "from sklearn.preprocessing import LabelEncoder\n",
    "le=LabelEncoder()"
   ]
  },
  {
   "cell_type": "code",
   "execution_count": 120,
   "id": "cf5e2a39",
   "metadata": {},
   "outputs": [
    {
     "data": {
      "text/html": [
       "<div>\n",
       "<style scoped>\n",
       "    .dataframe tbody tr th:only-of-type {\n",
       "        vertical-align: middle;\n",
       "    }\n",
       "\n",
       "    .dataframe tbody tr th {\n",
       "        vertical-align: top;\n",
       "    }\n",
       "\n",
       "    .dataframe thead th {\n",
       "        text-align: right;\n",
       "    }\n",
       "</style>\n",
       "<table border=\"1\" class=\"dataframe\">\n",
       "  <thead>\n",
       "    <tr style=\"text-align: right;\">\n",
       "      <th></th>\n",
       "      <th>listing_id</th>\n",
       "      <th>available</th>\n",
       "      <th>price</th>\n",
       "      <th>minimum_nights</th>\n",
       "      <th>maximum_nights</th>\n",
       "      <th>name</th>\n",
       "      <th>description</th>\n",
       "      <th>latitude</th>\n",
       "      <th>longitude</th>\n",
       "      <th>property_type</th>\n",
       "      <th>room_type</th>\n",
       "      <th>accomodates</th>\n",
       "      <th>bathrooms_text</th>\n",
       "      <th>bedrooms</th>\n",
       "      <th>beds</th>\n",
       "      <th>amenities</th>\n",
       "      <th>host_id</th>\n",
       "      <th>host_since</th>\n",
       "      <th>years_since_registration</th>\n",
       "    </tr>\n",
       "  </thead>\n",
       "  <tbody>\n",
       "    <tr>\n",
       "      <th>0</th>\n",
       "      <td>892</td>\n",
       "      <td>0</td>\n",
       "      <td>16</td>\n",
       "      <td>2</td>\n",
       "      <td>4</td>\n",
       "      <td>787</td>\n",
       "      <td>621</td>\n",
       "      <td>395</td>\n",
       "      <td>934</td>\n",
       "      <td>6</td>\n",
       "      <td>0</td>\n",
       "      <td>0</td>\n",
       "      <td>2</td>\n",
       "      <td>1</td>\n",
       "      <td>1</td>\n",
       "      <td>324</td>\n",
       "      <td>877</td>\n",
       "      <td>742</td>\n",
       "      <td>100</td>\n",
       "    </tr>\n",
       "    <tr>\n",
       "      <th>1</th>\n",
       "      <td>892</td>\n",
       "      <td>1</td>\n",
       "      <td>16</td>\n",
       "      <td>2</td>\n",
       "      <td>4</td>\n",
       "      <td>787</td>\n",
       "      <td>621</td>\n",
       "      <td>395</td>\n",
       "      <td>934</td>\n",
       "      <td>6</td>\n",
       "      <td>0</td>\n",
       "      <td>0</td>\n",
       "      <td>2</td>\n",
       "      <td>1</td>\n",
       "      <td>1</td>\n",
       "      <td>324</td>\n",
       "      <td>877</td>\n",
       "      <td>742</td>\n",
       "      <td>100</td>\n",
       "    </tr>\n",
       "    <tr>\n",
       "      <th>2</th>\n",
       "      <td>892</td>\n",
       "      <td>0</td>\n",
       "      <td>16</td>\n",
       "      <td>2</td>\n",
       "      <td>4</td>\n",
       "      <td>787</td>\n",
       "      <td>621</td>\n",
       "      <td>395</td>\n",
       "      <td>934</td>\n",
       "      <td>6</td>\n",
       "      <td>0</td>\n",
       "      <td>0</td>\n",
       "      <td>2</td>\n",
       "      <td>1</td>\n",
       "      <td>1</td>\n",
       "      <td>324</td>\n",
       "      <td>877</td>\n",
       "      <td>742</td>\n",
       "      <td>100</td>\n",
       "    </tr>\n",
       "    <tr>\n",
       "      <th>3</th>\n",
       "      <td>892</td>\n",
       "      <td>0</td>\n",
       "      <td>16</td>\n",
       "      <td>2</td>\n",
       "      <td>4</td>\n",
       "      <td>787</td>\n",
       "      <td>621</td>\n",
       "      <td>395</td>\n",
       "      <td>934</td>\n",
       "      <td>6</td>\n",
       "      <td>0</td>\n",
       "      <td>0</td>\n",
       "      <td>2</td>\n",
       "      <td>1</td>\n",
       "      <td>1</td>\n",
       "      <td>324</td>\n",
       "      <td>877</td>\n",
       "      <td>742</td>\n",
       "      <td>100</td>\n",
       "    </tr>\n",
       "    <tr>\n",
       "      <th>4</th>\n",
       "      <td>892</td>\n",
       "      <td>0</td>\n",
       "      <td>16</td>\n",
       "      <td>2</td>\n",
       "      <td>4</td>\n",
       "      <td>787</td>\n",
       "      <td>621</td>\n",
       "      <td>395</td>\n",
       "      <td>934</td>\n",
       "      <td>6</td>\n",
       "      <td>0</td>\n",
       "      <td>0</td>\n",
       "      <td>2</td>\n",
       "      <td>1</td>\n",
       "      <td>1</td>\n",
       "      <td>324</td>\n",
       "      <td>877</td>\n",
       "      <td>742</td>\n",
       "      <td>100</td>\n",
       "    </tr>\n",
       "  </tbody>\n",
       "</table>\n",
       "</div>"
      ],
      "text/plain": [
       "   listing_id  available  price  minimum_nights  maximum_nights  name  \\\n",
       "0         892          0     16               2               4   787   \n",
       "1         892          1     16               2               4   787   \n",
       "2         892          0     16               2               4   787   \n",
       "3         892          0     16               2               4   787   \n",
       "4         892          0     16               2               4   787   \n",
       "\n",
       "   description  latitude  longitude  property_type  room_type  accomodates  \\\n",
       "0          621       395        934              6          0            0   \n",
       "1          621       395        934              6          0            0   \n",
       "2          621       395        934              6          0            0   \n",
       "3          621       395        934              6          0            0   \n",
       "4          621       395        934              6          0            0   \n",
       "\n",
       "   bathrooms_text  bedrooms  beds  amenities  host_id  host_since  \\\n",
       "0               2         1     1        324      877         742   \n",
       "1               2         1     1        324      877         742   \n",
       "2               2         1     1        324      877         742   \n",
       "3               2         1     1        324      877         742   \n",
       "4               2         1     1        324      877         742   \n",
       "\n",
       "   years_since_registration  \n",
       "0                       100  \n",
       "1                       100  \n",
       "2                       100  \n",
       "3                       100  \n",
       "4                       100  "
      ]
     },
     "execution_count": 120,
     "metadata": {},
     "output_type": "execute_result"
    }
   ],
   "source": [
    "Airbnb1.head()"
   ]
  },
  {
   "cell_type": "code",
   "execution_count": 40,
   "id": "61a41672",
   "metadata": {},
   "outputs": [],
   "source": [
    "# Feature engineering\n",
    "\n",
    "features = ['listing_id','available','minimum_nights','maximum_nights',\n",
    "        'latitude', 'longitude','room_type', 'accomodates','bedrooms','beds',\n",
    "        'host_id','years_since_registration']       \n",
    "X =Airbnb1[features]\n",
    "y = Airbnb1['price']"
   ]
  },
  {
   "cell_type": "code",
   "execution_count": 41,
   "id": "582c66a2",
   "metadata": {},
   "outputs": [],
   "source": [
    "# Train/test split\n",
    "X_train, X_test, y_train, y_test = train_test_split(X, y, test_size=0.2, random_state=42)"
   ]
  },
  {
   "cell_type": "code",
   "execution_count": 142,
   "id": "ccc45311",
   "metadata": {},
   "outputs": [
    {
     "data": {
      "text/html": [
       "<style>#sk-container-id-2 {color: black;background-color: white;}#sk-container-id-2 pre{padding: 0;}#sk-container-id-2 div.sk-toggleable {background-color: white;}#sk-container-id-2 label.sk-toggleable__label {cursor: pointer;display: block;width: 100%;margin-bottom: 0;padding: 0.3em;box-sizing: border-box;text-align: center;}#sk-container-id-2 label.sk-toggleable__label-arrow:before {content: \"▸\";float: left;margin-right: 0.25em;color: #696969;}#sk-container-id-2 label.sk-toggleable__label-arrow:hover:before {color: black;}#sk-container-id-2 div.sk-estimator:hover label.sk-toggleable__label-arrow:before {color: black;}#sk-container-id-2 div.sk-toggleable__content {max-height: 0;max-width: 0;overflow: hidden;text-align: left;background-color: #f0f8ff;}#sk-container-id-2 div.sk-toggleable__content pre {margin: 0.2em;color: black;border-radius: 0.25em;background-color: #f0f8ff;}#sk-container-id-2 input.sk-toggleable__control:checked~div.sk-toggleable__content {max-height: 200px;max-width: 100%;overflow: auto;}#sk-container-id-2 input.sk-toggleable__control:checked~label.sk-toggleable__label-arrow:before {content: \"▾\";}#sk-container-id-2 div.sk-estimator input.sk-toggleable__control:checked~label.sk-toggleable__label {background-color: #d4ebff;}#sk-container-id-2 div.sk-label input.sk-toggleable__control:checked~label.sk-toggleable__label {background-color: #d4ebff;}#sk-container-id-2 input.sk-hidden--visually {border: 0;clip: rect(1px 1px 1px 1px);clip: rect(1px, 1px, 1px, 1px);height: 1px;margin: -1px;overflow: hidden;padding: 0;position: absolute;width: 1px;}#sk-container-id-2 div.sk-estimator {font-family: monospace;background-color: #f0f8ff;border: 1px dotted black;border-radius: 0.25em;box-sizing: border-box;margin-bottom: 0.5em;}#sk-container-id-2 div.sk-estimator:hover {background-color: #d4ebff;}#sk-container-id-2 div.sk-parallel-item::after {content: \"\";width: 100%;border-bottom: 1px solid gray;flex-grow: 1;}#sk-container-id-2 div.sk-label:hover label.sk-toggleable__label {background-color: #d4ebff;}#sk-container-id-2 div.sk-serial::before {content: \"\";position: absolute;border-left: 1px solid gray;box-sizing: border-box;top: 0;bottom: 0;left: 50%;z-index: 0;}#sk-container-id-2 div.sk-serial {display: flex;flex-direction: column;align-items: center;background-color: white;padding-right: 0.2em;padding-left: 0.2em;position: relative;}#sk-container-id-2 div.sk-item {position: relative;z-index: 1;}#sk-container-id-2 div.sk-parallel {display: flex;align-items: stretch;justify-content: center;background-color: white;position: relative;}#sk-container-id-2 div.sk-item::before, #sk-container-id-2 div.sk-parallel-item::before {content: \"\";position: absolute;border-left: 1px solid gray;box-sizing: border-box;top: 0;bottom: 0;left: 50%;z-index: -1;}#sk-container-id-2 div.sk-parallel-item {display: flex;flex-direction: column;z-index: 1;position: relative;background-color: white;}#sk-container-id-2 div.sk-parallel-item:first-child::after {align-self: flex-end;width: 50%;}#sk-container-id-2 div.sk-parallel-item:last-child::after {align-self: flex-start;width: 50%;}#sk-container-id-2 div.sk-parallel-item:only-child::after {width: 0;}#sk-container-id-2 div.sk-dashed-wrapped {border: 1px dashed gray;margin: 0 0.4em 0.5em 0.4em;box-sizing: border-box;padding-bottom: 0.4em;background-color: white;}#sk-container-id-2 div.sk-label label {font-family: monospace;font-weight: bold;display: inline-block;line-height: 1.2em;}#sk-container-id-2 div.sk-label-container {text-align: center;}#sk-container-id-2 div.sk-container {/* jupyter's `normalize.less` sets `[hidden] { display: none; }` but bootstrap.min.css set `[hidden] { display: none !important; }` so we also need the `!important` here to be able to override the default hidden behavior on the sphinx rendered scikit-learn.org. See: https://github.com/scikit-learn/scikit-learn/issues/21755 */display: inline-block !important;position: relative;}#sk-container-id-2 div.sk-text-repr-fallback {display: none;}</style><div id=\"sk-container-id-2\" class=\"sk-top-container\"><div class=\"sk-text-repr-fallback\"><pre>LinearRegression()</pre><b>In a Jupyter environment, please rerun this cell to show the HTML representation or trust the notebook. <br />On GitHub, the HTML representation is unable to render, please try loading this page with nbviewer.org.</b></div><div class=\"sk-container\" hidden><div class=\"sk-item\"><div class=\"sk-estimator sk-toggleable\"><input class=\"sk-toggleable__control sk-hidden--visually\" id=\"sk-estimator-id-2\" type=\"checkbox\" checked><label for=\"sk-estimator-id-2\" class=\"sk-toggleable__label sk-toggleable__label-arrow\">LinearRegression</label><div class=\"sk-toggleable__content\"><pre>LinearRegression()</pre></div></div></div></div></div>"
      ],
      "text/plain": [
       "LinearRegression()"
      ]
     },
     "execution_count": 142,
     "metadata": {},
     "output_type": "execute_result"
    }
   ],
   "source": [
    "# Model training\n",
    "model = LinearRegression()\n",
    "model.fit(X_train, y_train)"
   ]
  },
  {
   "cell_type": "code",
   "execution_count": 143,
   "id": "fb8c2949",
   "metadata": {},
   "outputs": [],
   "source": [
    "# Model evaluation\n",
    "predictions = model.predict(X_test)\n",
    "mae = mean_absolute_error(y_test, predictions)\n",
    "mse = mean_squared_error(y_test, predictions)\n",
    "r2 = r2_score(y_test, predictions)"
   ]
  },
  {
   "cell_type": "code",
   "execution_count": 144,
   "id": "3dbba54d",
   "metadata": {},
   "outputs": [
    {
     "name": "stdout",
     "output_type": "stream",
     "text": [
      "Linear Regression Metrics:\n",
      "Mean Absolute Error: 15.915350752035785\n",
      "Mean Squared Error: 374.38615689519247\n",
      "R-squared: 0.3898413981855732\n"
     ]
    }
   ],
   "source": [
    "print(\"Linear Regression Metrics:\")\n",
    "print(f\"Mean Absolute Error: {mae}\")\n",
    "print(f\"Mean Squared Error: {mse}\")\n",
    "print(f\"R-squared: {r2}\")"
   ]
  },
  {
   "cell_type": "code",
   "execution_count": null,
   "id": "466ea870",
   "metadata": {},
   "outputs": [],
   "source": []
  },
  {
   "cell_type": "code",
   "execution_count": 145,
   "id": "09ad2fe2",
   "metadata": {},
   "outputs": [],
   "source": [
    "from sklearn.tree import DecisionTreeRegressor\n",
    "from sklearn.ensemble import RandomForestRegressor, GradientBoostingRegressor"
   ]
  },
  {
   "cell_type": "code",
   "execution_count": 146,
   "id": "494a9d46",
   "metadata": {},
   "outputs": [],
   "source": [
    "# Decision Tree Regression\n",
    "tree_model = DecisionTreeRegressor()\n",
    "tree_model.fit(X_train, y_train)\n",
    "tree_predictions = tree_model.predict(X_test)\n",
    "tree_mae = mean_absolute_error(y_test, tree_predictions)\n",
    "tree_mse = mean_squared_error(y_test, tree_predictions)\n",
    "tree_r2 = r2_score(y_test, tree_predictions)\n"
   ]
  },
  {
   "cell_type": "code",
   "execution_count": 147,
   "id": "68b0d4e1",
   "metadata": {},
   "outputs": [
    {
     "name": "stdout",
     "output_type": "stream",
     "text": [
      "\n",
      "Decision Tree Regression Metrics:\n",
      "Mean Absolute Error: 3.3165672498791956\n",
      "Mean Squared Error: 55.599227727054554\n",
      "R-squared: 0.9093867483423046\n"
     ]
    }
   ],
   "source": [
    "print(\"\\nDecision Tree Regression Metrics:\")\n",
    "print(f\"Mean Absolute Error: {tree_mae}\")\n",
    "print(f\"Mean Squared Error: {tree_mse}\")\n",
    "print(f\"R-squared: {tree_r2}\")\n"
   ]
  },
  {
   "cell_type": "code",
   "execution_count": 42,
   "id": "d5d2f647",
   "metadata": {},
   "outputs": [],
   "source": [
    "# Random Forest Regression\n",
    "rf_model = RandomForestRegressor()\n",
    "rf_model.fit(X_train, y_train)\n",
    "rf_predictions = rf_model.predict(X_test)\n",
    "rf_mae = mean_absolute_error(y_test, rf_predictions)\n",
    "rf_mse = mean_squared_error(y_test, rf_predictions)\n",
    "rf_r2 = r2_score(y_test, rf_predictions)"
   ]
  },
  {
   "cell_type": "code",
   "execution_count": 43,
   "id": "4e42a092",
   "metadata": {},
   "outputs": [
    {
     "name": "stdout",
     "output_type": "stream",
     "text": [
      "\n",
      "Random Forest Regression Metrics:\n",
      "Mean Absolute Error: 7.27675577029008\n",
      "Mean Squared Error: 406.4900103890249\n",
      "R-squared: 0.891226074072737\n"
     ]
    }
   ],
   "source": [
    "print(\"\\nRandom Forest Regression Metrics:\")\n",
    "print(f\"Mean Absolute Error: {rf_mae}\")\n",
    "print(f\"Mean Squared Error: {rf_mse}\")\n",
    "print(f\"R-squared: {rf_r2}\")"
   ]
  },
  {
   "cell_type": "code",
   "execution_count": 44,
   "id": "13e58412",
   "metadata": {},
   "outputs": [],
   "source": [
    "# Gradient Boosting Machine (GBM)\n",
    "gbm_model = GradientBoostingRegressor()\n",
    "gbm_model.fit(X_train, y_train)\n",
    "gbm_predictions = gbm_model.predict(X_test)\n",
    "gbm_mae = mean_absolute_error(y_test, gbm_predictions)\n",
    "gbm_mse = mean_squared_error(y_test, gbm_predictions)\n",
    "gbm_r2 = r2_score(y_test, gbm_predictions)"
   ]
  },
  {
   "cell_type": "code",
   "execution_count": 45,
   "id": "1a182c78",
   "metadata": {},
   "outputs": [
    {
     "name": "stdout",
     "output_type": "stream",
     "text": [
      "\n",
      "Gradient Boosting Machine Metrics:\n",
      "Mean Absolute Error: 20.922814302073945\n",
      "Mean Squared Error: 1252.5360182259938\n",
      "R-squared: 0.6648299919170124\n"
     ]
    }
   ],
   "source": [
    "print(\"\\nGradient Boosting Machine Metrics:\")\n",
    "print(f\"Mean Absolute Error: {gbm_mae}\")\n",
    "print(f\"Mean Squared Error: {gbm_mse}\")\n",
    "print(f\"R-squared: {gbm_r2}\")"
   ]
  },
  {
   "cell_type": "code",
   "execution_count": 46,
   "id": "86346b76",
   "metadata": {},
   "outputs": [
    {
     "name": "stdout",
     "output_type": "stream",
     "text": [
      "Requirement already satisfied: lightgbm in c:\\users\\hp\\anaconda3\\lib\\site-packages (4.3.0)Note: you may need to restart the kernel to use updated packages.\n",
      "\n",
      "Requirement already satisfied: numpy in c:\\users\\hp\\anaconda3\\lib\\site-packages (from lightgbm) (1.24.3)\n",
      "Requirement already satisfied: scipy in c:\\users\\hp\\anaconda3\\lib\\site-packages (from lightgbm) (1.10.1)\n"
     ]
    }
   ],
   "source": [
    "pip install lightgbm"
   ]
  },
  {
   "cell_type": "code",
   "execution_count": 47,
   "id": "fa555efa",
   "metadata": {},
   "outputs": [],
   "source": [
    "from sklearn.model_selection import train_test_split\n",
    "import xgboost as xgb\n",
    "import lightgbm as lgb"
   ]
  },
  {
   "cell_type": "code",
   "execution_count": 48,
   "id": "a37f0626",
   "metadata": {},
   "outputs": [],
   "source": [
    "# Train/Test Split\n",
    "X_train, X_test, y_train, y_test = train_test_split(X, y, test_size=0.2, random_state=42)\n"
   ]
  },
  {
   "cell_type": "code",
   "execution_count": 49,
   "id": "f1574d45",
   "metadata": {},
   "outputs": [
    {
     "data": {
      "text/html": [
       "<style>#sk-container-id-1 {color: black;background-color: white;}#sk-container-id-1 pre{padding: 0;}#sk-container-id-1 div.sk-toggleable {background-color: white;}#sk-container-id-1 label.sk-toggleable__label {cursor: pointer;display: block;width: 100%;margin-bottom: 0;padding: 0.3em;box-sizing: border-box;text-align: center;}#sk-container-id-1 label.sk-toggleable__label-arrow:before {content: \"▸\";float: left;margin-right: 0.25em;color: #696969;}#sk-container-id-1 label.sk-toggleable__label-arrow:hover:before {color: black;}#sk-container-id-1 div.sk-estimator:hover label.sk-toggleable__label-arrow:before {color: black;}#sk-container-id-1 div.sk-toggleable__content {max-height: 0;max-width: 0;overflow: hidden;text-align: left;background-color: #f0f8ff;}#sk-container-id-1 div.sk-toggleable__content pre {margin: 0.2em;color: black;border-radius: 0.25em;background-color: #f0f8ff;}#sk-container-id-1 input.sk-toggleable__control:checked~div.sk-toggleable__content {max-height: 200px;max-width: 100%;overflow: auto;}#sk-container-id-1 input.sk-toggleable__control:checked~label.sk-toggleable__label-arrow:before {content: \"▾\";}#sk-container-id-1 div.sk-estimator input.sk-toggleable__control:checked~label.sk-toggleable__label {background-color: #d4ebff;}#sk-container-id-1 div.sk-label input.sk-toggleable__control:checked~label.sk-toggleable__label {background-color: #d4ebff;}#sk-container-id-1 input.sk-hidden--visually {border: 0;clip: rect(1px 1px 1px 1px);clip: rect(1px, 1px, 1px, 1px);height: 1px;margin: -1px;overflow: hidden;padding: 0;position: absolute;width: 1px;}#sk-container-id-1 div.sk-estimator {font-family: monospace;background-color: #f0f8ff;border: 1px dotted black;border-radius: 0.25em;box-sizing: border-box;margin-bottom: 0.5em;}#sk-container-id-1 div.sk-estimator:hover {background-color: #d4ebff;}#sk-container-id-1 div.sk-parallel-item::after {content: \"\";width: 100%;border-bottom: 1px solid gray;flex-grow: 1;}#sk-container-id-1 div.sk-label:hover label.sk-toggleable__label {background-color: #d4ebff;}#sk-container-id-1 div.sk-serial::before {content: \"\";position: absolute;border-left: 1px solid gray;box-sizing: border-box;top: 0;bottom: 0;left: 50%;z-index: 0;}#sk-container-id-1 div.sk-serial {display: flex;flex-direction: column;align-items: center;background-color: white;padding-right: 0.2em;padding-left: 0.2em;position: relative;}#sk-container-id-1 div.sk-item {position: relative;z-index: 1;}#sk-container-id-1 div.sk-parallel {display: flex;align-items: stretch;justify-content: center;background-color: white;position: relative;}#sk-container-id-1 div.sk-item::before, #sk-container-id-1 div.sk-parallel-item::before {content: \"\";position: absolute;border-left: 1px solid gray;box-sizing: border-box;top: 0;bottom: 0;left: 50%;z-index: -1;}#sk-container-id-1 div.sk-parallel-item {display: flex;flex-direction: column;z-index: 1;position: relative;background-color: white;}#sk-container-id-1 div.sk-parallel-item:first-child::after {align-self: flex-end;width: 50%;}#sk-container-id-1 div.sk-parallel-item:last-child::after {align-self: flex-start;width: 50%;}#sk-container-id-1 div.sk-parallel-item:only-child::after {width: 0;}#sk-container-id-1 div.sk-dashed-wrapped {border: 1px dashed gray;margin: 0 0.4em 0.5em 0.4em;box-sizing: border-box;padding-bottom: 0.4em;background-color: white;}#sk-container-id-1 div.sk-label label {font-family: monospace;font-weight: bold;display: inline-block;line-height: 1.2em;}#sk-container-id-1 div.sk-label-container {text-align: center;}#sk-container-id-1 div.sk-container {/* jupyter's `normalize.less` sets `[hidden] { display: none; }` but bootstrap.min.css set `[hidden] { display: none !important; }` so we also need the `!important` here to be able to override the default hidden behavior on the sphinx rendered scikit-learn.org. See: https://github.com/scikit-learn/scikit-learn/issues/21755 */display: inline-block !important;position: relative;}#sk-container-id-1 div.sk-text-repr-fallback {display: none;}</style><div id=\"sk-container-id-1\" class=\"sk-top-container\"><div class=\"sk-text-repr-fallback\"><pre>XGBRegressor(base_score=None, booster=None, callbacks=None,\n",
       "             colsample_bylevel=None, colsample_bynode=None,\n",
       "             colsample_bytree=None, device=None, early_stopping_rounds=None,\n",
       "             enable_categorical=False, eval_metric=None, feature_types=None,\n",
       "             gamma=None, grow_policy=None, importance_type=None,\n",
       "             interaction_constraints=None, learning_rate=None, max_bin=None,\n",
       "             max_cat_threshold=None, max_cat_to_onehot=None,\n",
       "             max_delta_step=None, max_depth=None, max_leaves=None,\n",
       "             min_child_weight=None, missing=nan, monotone_constraints=None,\n",
       "             multi_strategy=None, n_estimators=None, n_jobs=None,\n",
       "             num_parallel_tree=None, random_state=None, ...)</pre><b>In a Jupyter environment, please rerun this cell to show the HTML representation or trust the notebook. <br />On GitHub, the HTML representation is unable to render, please try loading this page with nbviewer.org.</b></div><div class=\"sk-container\" hidden><div class=\"sk-item\"><div class=\"sk-estimator sk-toggleable\"><input class=\"sk-toggleable__control sk-hidden--visually\" id=\"sk-estimator-id-1\" type=\"checkbox\" checked><label for=\"sk-estimator-id-1\" class=\"sk-toggleable__label sk-toggleable__label-arrow\">XGBRegressor</label><div class=\"sk-toggleable__content\"><pre>XGBRegressor(base_score=None, booster=None, callbacks=None,\n",
       "             colsample_bylevel=None, colsample_bynode=None,\n",
       "             colsample_bytree=None, device=None, early_stopping_rounds=None,\n",
       "             enable_categorical=False, eval_metric=None, feature_types=None,\n",
       "             gamma=None, grow_policy=None, importance_type=None,\n",
       "             interaction_constraints=None, learning_rate=None, max_bin=None,\n",
       "             max_cat_threshold=None, max_cat_to_onehot=None,\n",
       "             max_delta_step=None, max_depth=None, max_leaves=None,\n",
       "             min_child_weight=None, missing=nan, monotone_constraints=None,\n",
       "             multi_strategy=None, n_estimators=None, n_jobs=None,\n",
       "             num_parallel_tree=None, random_state=None, ...)</pre></div></div></div></div></div>"
      ],
      "text/plain": [
       "XGBRegressor(base_score=None, booster=None, callbacks=None,\n",
       "             colsample_bylevel=None, colsample_bynode=None,\n",
       "             colsample_bytree=None, device=None, early_stopping_rounds=None,\n",
       "             enable_categorical=False, eval_metric=None, feature_types=None,\n",
       "             gamma=None, grow_policy=None, importance_type=None,\n",
       "             interaction_constraints=None, learning_rate=None, max_bin=None,\n",
       "             max_cat_threshold=None, max_cat_to_onehot=None,\n",
       "             max_delta_step=None, max_depth=None, max_leaves=None,\n",
       "             min_child_weight=None, missing=nan, monotone_constraints=None,\n",
       "             multi_strategy=None, n_estimators=None, n_jobs=None,\n",
       "             num_parallel_tree=None, random_state=None, ...)"
      ]
     },
     "execution_count": 49,
     "metadata": {},
     "output_type": "execute_result"
    }
   ],
   "source": [
    "# XGBoost Model Training\n",
    "xgb_model = xgb.XGBRegressor()\n",
    "xgb_model.fit(X_train, y_train)"
   ]
  },
  {
   "cell_type": "code",
   "execution_count": 50,
   "id": "9a0dfe73",
   "metadata": {},
   "outputs": [
    {
     "name": "stdout",
     "output_type": "stream",
     "text": [
      "[LightGBM] [Info] Auto-choosing row-wise multi-threading, the overhead of testing was 0.314204 seconds.\n",
      "You can set `force_row_wise=true` to remove the overhead.\n",
      "And if memory is not enough, you can set `force_col_wise=true`.\n",
      "[LightGBM] [Info] Total Bins 1406\n",
      "[LightGBM] [Info] Number of data points in the train set: 9175015, number of used features: 12\n",
      "[LightGBM] [Info] Start training from score 74.130495\n"
     ]
    },
    {
     "data": {
      "text/html": [
       "<style>#sk-container-id-2 {color: black;background-color: white;}#sk-container-id-2 pre{padding: 0;}#sk-container-id-2 div.sk-toggleable {background-color: white;}#sk-container-id-2 label.sk-toggleable__label {cursor: pointer;display: block;width: 100%;margin-bottom: 0;padding: 0.3em;box-sizing: border-box;text-align: center;}#sk-container-id-2 label.sk-toggleable__label-arrow:before {content: \"▸\";float: left;margin-right: 0.25em;color: #696969;}#sk-container-id-2 label.sk-toggleable__label-arrow:hover:before {color: black;}#sk-container-id-2 div.sk-estimator:hover label.sk-toggleable__label-arrow:before {color: black;}#sk-container-id-2 div.sk-toggleable__content {max-height: 0;max-width: 0;overflow: hidden;text-align: left;background-color: #f0f8ff;}#sk-container-id-2 div.sk-toggleable__content pre {margin: 0.2em;color: black;border-radius: 0.25em;background-color: #f0f8ff;}#sk-container-id-2 input.sk-toggleable__control:checked~div.sk-toggleable__content {max-height: 200px;max-width: 100%;overflow: auto;}#sk-container-id-2 input.sk-toggleable__control:checked~label.sk-toggleable__label-arrow:before {content: \"▾\";}#sk-container-id-2 div.sk-estimator input.sk-toggleable__control:checked~label.sk-toggleable__label {background-color: #d4ebff;}#sk-container-id-2 div.sk-label input.sk-toggleable__control:checked~label.sk-toggleable__label {background-color: #d4ebff;}#sk-container-id-2 input.sk-hidden--visually {border: 0;clip: rect(1px 1px 1px 1px);clip: rect(1px, 1px, 1px, 1px);height: 1px;margin: -1px;overflow: hidden;padding: 0;position: absolute;width: 1px;}#sk-container-id-2 div.sk-estimator {font-family: monospace;background-color: #f0f8ff;border: 1px dotted black;border-radius: 0.25em;box-sizing: border-box;margin-bottom: 0.5em;}#sk-container-id-2 div.sk-estimator:hover {background-color: #d4ebff;}#sk-container-id-2 div.sk-parallel-item::after {content: \"\";width: 100%;border-bottom: 1px solid gray;flex-grow: 1;}#sk-container-id-2 div.sk-label:hover label.sk-toggleable__label {background-color: #d4ebff;}#sk-container-id-2 div.sk-serial::before {content: \"\";position: absolute;border-left: 1px solid gray;box-sizing: border-box;top: 0;bottom: 0;left: 50%;z-index: 0;}#sk-container-id-2 div.sk-serial {display: flex;flex-direction: column;align-items: center;background-color: white;padding-right: 0.2em;padding-left: 0.2em;position: relative;}#sk-container-id-2 div.sk-item {position: relative;z-index: 1;}#sk-container-id-2 div.sk-parallel {display: flex;align-items: stretch;justify-content: center;background-color: white;position: relative;}#sk-container-id-2 div.sk-item::before, #sk-container-id-2 div.sk-parallel-item::before {content: \"\";position: absolute;border-left: 1px solid gray;box-sizing: border-box;top: 0;bottom: 0;left: 50%;z-index: -1;}#sk-container-id-2 div.sk-parallel-item {display: flex;flex-direction: column;z-index: 1;position: relative;background-color: white;}#sk-container-id-2 div.sk-parallel-item:first-child::after {align-self: flex-end;width: 50%;}#sk-container-id-2 div.sk-parallel-item:last-child::after {align-self: flex-start;width: 50%;}#sk-container-id-2 div.sk-parallel-item:only-child::after {width: 0;}#sk-container-id-2 div.sk-dashed-wrapped {border: 1px dashed gray;margin: 0 0.4em 0.5em 0.4em;box-sizing: border-box;padding-bottom: 0.4em;background-color: white;}#sk-container-id-2 div.sk-label label {font-family: monospace;font-weight: bold;display: inline-block;line-height: 1.2em;}#sk-container-id-2 div.sk-label-container {text-align: center;}#sk-container-id-2 div.sk-container {/* jupyter's `normalize.less` sets `[hidden] { display: none; }` but bootstrap.min.css set `[hidden] { display: none !important; }` so we also need the `!important` here to be able to override the default hidden behavior on the sphinx rendered scikit-learn.org. See: https://github.com/scikit-learn/scikit-learn/issues/21755 */display: inline-block !important;position: relative;}#sk-container-id-2 div.sk-text-repr-fallback {display: none;}</style><div id=\"sk-container-id-2\" class=\"sk-top-container\"><div class=\"sk-text-repr-fallback\"><pre>LGBMRegressor()</pre><b>In a Jupyter environment, please rerun this cell to show the HTML representation or trust the notebook. <br />On GitHub, the HTML representation is unable to render, please try loading this page with nbviewer.org.</b></div><div class=\"sk-container\" hidden><div class=\"sk-item\"><div class=\"sk-estimator sk-toggleable\"><input class=\"sk-toggleable__control sk-hidden--visually\" id=\"sk-estimator-id-2\" type=\"checkbox\" checked><label for=\"sk-estimator-id-2\" class=\"sk-toggleable__label sk-toggleable__label-arrow\">LGBMRegressor</label><div class=\"sk-toggleable__content\"><pre>LGBMRegressor()</pre></div></div></div></div></div>"
      ],
      "text/plain": [
       "LGBMRegressor()"
      ]
     },
     "execution_count": 50,
     "metadata": {},
     "output_type": "execute_result"
    }
   ],
   "source": [
    "# LightGBM Model Training\n",
    "lgb_model = lgb.LGBMRegressor()\n",
    "lgb_model.fit(X_train, y_train)"
   ]
  },
  {
   "cell_type": "code",
   "execution_count": 51,
   "id": "bd22b4b1",
   "metadata": {},
   "outputs": [],
   "source": [
    "from sklearn.metrics import mean_absolute_error, mean_squared_error, r2_score\n"
   ]
  },
  {
   "cell_type": "code",
   "execution_count": 52,
   "id": "c46cb532",
   "metadata": {},
   "outputs": [],
   "source": [
    "# Model Evaluation\n",
    "xgb_predictions = xgb_model.predict(X_test)\n",
    "xgb_mae = mean_absolute_error(y_test, xgb_predictions)\n",
    "xgb_mse = mean_squared_error(y_test, xgb_predictions)\n",
    "xgb_r2 = r2_score(y_test, xgb_predictions)\n",
    "\n",
    "lgb_predictions = lgb_model.predict(X_test)\n",
    "lgb_mae = mean_absolute_error(y_test, lgb_predictions)\n",
    "lgb_mse = mean_squared_error(y_test, lgb_predictions)\n",
    "lgb_r2 = r2_score(y_test, lgb_predictions)"
   ]
  },
  {
   "cell_type": "code",
   "execution_count": 53,
   "id": "50c2db5b",
   "metadata": {},
   "outputs": [
    {
     "name": "stdout",
     "output_type": "stream",
     "text": [
      "XGBoost Metrics:\n",
      "Mean Absolute Error: 8.433731893063667\n",
      "Mean Squared Error: 425.39722181326135\n",
      "R-squared: 0.886166634572655\n",
      "\n",
      "LightGBM Metrics:\n",
      "Mean Absolute Error: 12.059722197325254\n",
      "Mean Squared Error: 530.7925495606028\n",
      "R-squared: 0.8579635710767102\n"
     ]
    }
   ],
   "source": [
    "# Print Metrics\n",
    "print(\"XGBoost Metrics:\")\n",
    "print(f\"Mean Absolute Error: {xgb_mae}\")\n",
    "print(f\"Mean Squared Error: {xgb_mse}\")\n",
    "print(f\"R-squared: {xgb_r2}\")\n",
    "\n",
    "print(\"\\nLightGBM Metrics:\")\n",
    "print(f\"Mean Absolute Error: {lgb_mae}\")\n",
    "print(f\"Mean Squared Error: {lgb_mse}\")\n",
    "print(f\"R-squared: {lgb_r2}\")"
   ]
  },
  {
   "cell_type": "markdown",
   "id": "40422d85",
   "metadata": {},
   "source": [
    "To compare the performance of these regression models for predicting Airbnb data, we can look at the Mean Absolute Error (MAE), Mean Squared Error (MSE), and R-squared values. Lower MAE and MSE indicate better performance, while a higher R-squared value suggests a better fit of the model to the data."
   ]
  },
  {
   "cell_type": "markdown",
   "id": "764ee469",
   "metadata": {},
   "source": [
    "Here's a summary of the metrics for each model:\n",
    "\n",
    "Linear Regression:\n",
    "MAE: 15.92\n",
    "MSE: 374.39\n",
    "R-squared: 0.3898\n",
    "Decision Tree Regression:\n",
    "MAE: 3.32\n",
    "MSE: 55.60\n",
    "R-squared: 0.9094\n",
    "Random Forest Regression:\n",
    "MAE: 7.28\n",
    "MSE: 406.49\n",
    "R-squared: 0.8912\n",
    "Gradient Boosting Machine (GB):\n",
    "MAE: 20.92\n",
    "MSE: 1252.54\n",
    "R-squared: 0.6648\n",
    "XGBoost:\n",
    "MAE: 8.43\n",
    "MSE: 425.40\n",
    "R-squared: 0.8862\n",
    "LightGBM:\n",
    "MAE: 12.06\n",
    "MSE: 530.79\n",
    "R-squared: 0.8580\n",
    "From these metrics, it appears that the Decision Tree Regression model performs the best, with the lowest MAE and MSE, and the highest R-squared value. Therefore, the Decision Tree Regression model might be the best choice for predicting Airbnb data among the models compared here.\n",
    "\n",
    "\n",
    "\n",
    "\n",
    "\n",
    "\n"
   ]
  },
  {
   "cell_type": "markdown",
   "id": "ab4eafcb",
   "metadata": {},
   "source": [
    "# the top 5 most important predictors and also the impact of these top 5 predictors on the response variable"
   ]
  },
  {
   "cell_type": "code",
   "execution_count": 22,
   "id": "ca50584d",
   "metadata": {},
   "outputs": [],
   "source": [
    "from sklearn.ensemble import RandomForestRegressor\n"
   ]
  },
  {
   "cell_type": "code",
   "execution_count": 23,
   "id": "24a4bf0e",
   "metadata": {},
   "outputs": [],
   "source": [
    "# Define features and target variable\n",
    "features = ['listing_id', 'available', 'minimum_nights', 'maximum_nights', 'latitude', \n",
    "            'longitude', 'room_type', 'accomodates', 'bedrooms', 'beds', 'host_id']  \n",
    "X = Airbnb1[features]\n",
    "y = Airbnb1['price']"
   ]
  },
  {
   "cell_type": "code",
   "execution_count": 24,
   "id": "c92a4dd4",
   "metadata": {},
   "outputs": [
    {
     "data": {
      "text/html": [
       "<style>#sk-container-id-1 {color: black;background-color: white;}#sk-container-id-1 pre{padding: 0;}#sk-container-id-1 div.sk-toggleable {background-color: white;}#sk-container-id-1 label.sk-toggleable__label {cursor: pointer;display: block;width: 100%;margin-bottom: 0;padding: 0.3em;box-sizing: border-box;text-align: center;}#sk-container-id-1 label.sk-toggleable__label-arrow:before {content: \"▸\";float: left;margin-right: 0.25em;color: #696969;}#sk-container-id-1 label.sk-toggleable__label-arrow:hover:before {color: black;}#sk-container-id-1 div.sk-estimator:hover label.sk-toggleable__label-arrow:before {color: black;}#sk-container-id-1 div.sk-toggleable__content {max-height: 0;max-width: 0;overflow: hidden;text-align: left;background-color: #f0f8ff;}#sk-container-id-1 div.sk-toggleable__content pre {margin: 0.2em;color: black;border-radius: 0.25em;background-color: #f0f8ff;}#sk-container-id-1 input.sk-toggleable__control:checked~div.sk-toggleable__content {max-height: 200px;max-width: 100%;overflow: auto;}#sk-container-id-1 input.sk-toggleable__control:checked~label.sk-toggleable__label-arrow:before {content: \"▾\";}#sk-container-id-1 div.sk-estimator input.sk-toggleable__control:checked~label.sk-toggleable__label {background-color: #d4ebff;}#sk-container-id-1 div.sk-label input.sk-toggleable__control:checked~label.sk-toggleable__label {background-color: #d4ebff;}#sk-container-id-1 input.sk-hidden--visually {border: 0;clip: rect(1px 1px 1px 1px);clip: rect(1px, 1px, 1px, 1px);height: 1px;margin: -1px;overflow: hidden;padding: 0;position: absolute;width: 1px;}#sk-container-id-1 div.sk-estimator {font-family: monospace;background-color: #f0f8ff;border: 1px dotted black;border-radius: 0.25em;box-sizing: border-box;margin-bottom: 0.5em;}#sk-container-id-1 div.sk-estimator:hover {background-color: #d4ebff;}#sk-container-id-1 div.sk-parallel-item::after {content: \"\";width: 100%;border-bottom: 1px solid gray;flex-grow: 1;}#sk-container-id-1 div.sk-label:hover label.sk-toggleable__label {background-color: #d4ebff;}#sk-container-id-1 div.sk-serial::before {content: \"\";position: absolute;border-left: 1px solid gray;box-sizing: border-box;top: 0;bottom: 0;left: 50%;z-index: 0;}#sk-container-id-1 div.sk-serial {display: flex;flex-direction: column;align-items: center;background-color: white;padding-right: 0.2em;padding-left: 0.2em;position: relative;}#sk-container-id-1 div.sk-item {position: relative;z-index: 1;}#sk-container-id-1 div.sk-parallel {display: flex;align-items: stretch;justify-content: center;background-color: white;position: relative;}#sk-container-id-1 div.sk-item::before, #sk-container-id-1 div.sk-parallel-item::before {content: \"\";position: absolute;border-left: 1px solid gray;box-sizing: border-box;top: 0;bottom: 0;left: 50%;z-index: -1;}#sk-container-id-1 div.sk-parallel-item {display: flex;flex-direction: column;z-index: 1;position: relative;background-color: white;}#sk-container-id-1 div.sk-parallel-item:first-child::after {align-self: flex-end;width: 50%;}#sk-container-id-1 div.sk-parallel-item:last-child::after {align-self: flex-start;width: 50%;}#sk-container-id-1 div.sk-parallel-item:only-child::after {width: 0;}#sk-container-id-1 div.sk-dashed-wrapped {border: 1px dashed gray;margin: 0 0.4em 0.5em 0.4em;box-sizing: border-box;padding-bottom: 0.4em;background-color: white;}#sk-container-id-1 div.sk-label label {font-family: monospace;font-weight: bold;display: inline-block;line-height: 1.2em;}#sk-container-id-1 div.sk-label-container {text-align: center;}#sk-container-id-1 div.sk-container {/* jupyter's `normalize.less` sets `[hidden] { display: none; }` but bootstrap.min.css set `[hidden] { display: none !important; }` so we also need the `!important` here to be able to override the default hidden behavior on the sphinx rendered scikit-learn.org. See: https://github.com/scikit-learn/scikit-learn/issues/21755 */display: inline-block !important;position: relative;}#sk-container-id-1 div.sk-text-repr-fallback {display: none;}</style><div id=\"sk-container-id-1\" class=\"sk-top-container\"><div class=\"sk-text-repr-fallback\"><pre>RandomForestRegressor()</pre><b>In a Jupyter environment, please rerun this cell to show the HTML representation or trust the notebook. <br />On GitHub, the HTML representation is unable to render, please try loading this page with nbviewer.org.</b></div><div class=\"sk-container\" hidden><div class=\"sk-item\"><div class=\"sk-estimator sk-toggleable\"><input class=\"sk-toggleable__control sk-hidden--visually\" id=\"sk-estimator-id-1\" type=\"checkbox\" checked><label for=\"sk-estimator-id-1\" class=\"sk-toggleable__label sk-toggleable__label-arrow\">RandomForestRegressor</label><div class=\"sk-toggleable__content\"><pre>RandomForestRegressor()</pre></div></div></div></div></div>"
      ],
      "text/plain": [
       "RandomForestRegressor()"
      ]
     },
     "execution_count": 24,
     "metadata": {},
     "output_type": "execute_result"
    }
   ],
   "source": [
    "# Train Random Forest Regression model\n",
    "rf_model = RandomForestRegressor()\n",
    "rf_model.fit(X, y)"
   ]
  },
  {
   "cell_type": "code",
   "execution_count": 25,
   "id": "780a58cb",
   "metadata": {},
   "outputs": [],
   "source": [
    "# Extract feature importances\n",
    "feature_importances = rf_model.feature_importances_\n"
   ]
  },
  {
   "cell_type": "code",
   "execution_count": 26,
   "id": "8994e3b8",
   "metadata": {},
   "outputs": [],
   "source": [
    "# Create a dataframe to store feature importances\n",
    "feature_importance_df = pd.DataFrame({'Feature': features, 'Importance': feature_importances})\n"
   ]
  },
  {
   "cell_type": "code",
   "execution_count": 27,
   "id": "c30a8823",
   "metadata": {},
   "outputs": [],
   "source": [
    "# Sort dataframe by importance in descending order\n",
    "feature_importance_df = feature_importance_df.sort_values(by='Importance', ascending=False)"
   ]
  },
  {
   "cell_type": "code",
   "execution_count": 28,
   "id": "431370f5",
   "metadata": {},
   "outputs": [],
   "source": [
    "# Identify top 5 predictors\n",
    "top_5_predictors = feature_importance_df.head(5)"
   ]
  },
  {
   "cell_type": "code",
   "execution_count": 29,
   "id": "70212338",
   "metadata": {},
   "outputs": [
    {
     "name": "stdout",
     "output_type": "stream",
     "text": [
      "Top 5 Predictors:\n",
      "       Feature  Importance\n",
      "7  accomodates    0.263061\n",
      "4     latitude    0.133585\n",
      "5    longitude    0.117728\n",
      "8     bedrooms    0.101809\n",
      "0   listing_id    0.099128\n"
     ]
    }
   ],
   "source": [
    "# Print top 5 predictors\n",
    "print(\"Top 5 Predictors:\")\n",
    "print(top_5_predictors)"
   ]
  },
  {
   "cell_type": "code",
   "execution_count": 30,
   "id": "88c72012",
   "metadata": {},
   "outputs": [
    {
     "name": "stdout",
     "output_type": "stream",
     "text": [
      "\n",
      "Impact on Response Variable (Price):\n",
      "accomodates: 0.26306142340925737\n",
      "latitude: 0.13358469052029767\n",
      "longitude: 0.11772758915205285\n",
      "bedrooms: 0.10180934062730138\n",
      "listing_id: 0.09912817768766156\n"
     ]
    }
   ],
   "source": [
    "# Explain impact of top 5 predictors on response variable (price)\n",
    "print(\"\\nImpact on Response Variable (Price):\")\n",
    "for index, row in top_5_predictors.iterrows():\n",
    "    print(f\"{row['Feature']}: {row['Importance']}\")"
   ]
  },
  {
   "cell_type": "markdown",
   "id": "cba8739c",
   "metadata": {},
   "source": [
    "the top 5 predictors along with their feature importance scores. Additionally, it will explain the impact of each predictor on the response variable (price) based on these scores. The higher the importance score, the stronger the impact of the predictor on the target variable. \n",
    "\n",
    "\n",
    "\n",
    "\n",
    "\n"
   ]
  },
  {
   "cell_type": "code",
   "execution_count": null,
   "id": "99929505",
   "metadata": {},
   "outputs": [],
   "source": []
  }
 ],
 "metadata": {
  "kernelspec": {
   "display_name": "Python 3 (ipykernel)",
   "language": "python",
   "name": "python3"
  },
  "language_info": {
   "codemirror_mode": {
    "name": "ipython",
    "version": 3
   },
   "file_extension": ".py",
   "mimetype": "text/x-python",
   "name": "python",
   "nbconvert_exporter": "python",
   "pygments_lexer": "ipython3",
   "version": "3.11.3"
  }
 },
 "nbformat": 4,
 "nbformat_minor": 5
}
